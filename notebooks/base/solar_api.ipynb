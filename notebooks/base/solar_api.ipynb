{
 "cells": [
  {
   "cell_type": "markdown",
   "metadata": {
    "id": "6n-Ps2nkVsBb"
   },
   "source": [
    "# **💁🏻🗨️💁🏻‍♂️대화 요약 SOLAR API code**\n",
    "> **Dialogue Summarization** 경진대회에 오신 여러분 환영합니다! 🎉    \n",
    "> 본 자료에서는 Solar Chat API를 이용하여 대화 요약 대회를 풀어봅니다.     "
   ]
  },
  {
   "cell_type": "markdown",
   "metadata": {
    "id": "kNq_LylZa1ug"
   },
   "source": [
    "## ⚙️ 데이터 및 환경설정"
   ]
  },
  {
   "cell_type": "markdown",
   "metadata": {
    "id": "MjCiuI_V4glr"
   },
   "source": [
    "### 1) 필요한 라이브러리 설치"
   ]
  },
  {
   "cell_type": "markdown",
   "metadata": {
    "id": "VYqDF_-r2ToB"
   },
   "source": [
    "- 필요한 라이브러리를 설치한 후 불러옵니다."
   ]
  },
  {
   "cell_type": "code",
   "execution_count": 1,
   "metadata": {},
   "outputs": [],
   "source": [
    "# !pip install openai"
   ]
  },
  {
   "cell_type": "code",
   "execution_count": 2,
   "metadata": {
    "id": "zbZ7SU9P2TYN"
   },
   "outputs": [],
   "source": [
    "import pandas as pd\n",
    "import os\n",
    "import time\n",
    "from tqdm import tqdm\n",
    "from rouge import Rouge # 모델의 성능을 평가하기 위한 라이브러리입니다.\n",
    "from openai import OpenAI # openai==1.2.0"
   ]
  },
  {
   "cell_type": "markdown",
   "metadata": {},
   "source": [
    "### 2) Solar Chat API Client 생성하기\n",
    "- 앞으로 Solar Chat API를 사용하기 위해 Client를 생성합니다."
   ]
  },
  {
   "cell_type": "code",
   "execution_count": 3,
   "metadata": {},
   "outputs": [],
   "source": [
    "UPSTAGE_API_KEY = \"up_rMJWNzzBi6YsD47RhwXPWZrZ0JKsT\" # upstage.ai에서 발급받은 API KEY를 입력해주세요.\n",
    "\n",
    "client = OpenAI(\n",
    "    api_key=UPSTAGE_API_KEY,\n",
    "    base_url=\"https://api.upstage.ai/v1/solar\"\n",
    ")"
   ]
  },
  {
   "cell_type": "markdown",
   "metadata": {
    "id": "-Qq46k6_CNQn"
   },
   "source": [
    "### 3) Solar Chat API 사용해보기 (선택)\n",
    "- 예시 코드를 통해 Solar Chat API를 사용해보세요."
   ]
  },
  {
   "cell_type": "code",
   "execution_count": 4,
   "metadata": {
    "colab": {
     "base_uri": "https://localhost:8080/",
     "height": 197,
     "referenced_widgets": [
      "e920dbc173c045d1a32143349f1dff8e",
      "58c794fb7ce543a39fdf66d757f6eeab",
      "8a6464a355f7464c989033965d418a8a",
      "3645438ace1f4596a8dbc157b48c1521",
      "58001a60eacc44d5b38a68648adccde4",
      "6f5fde5b0ac840a18bd5cc380e564ff6",
      "45187decb58b4ad39ad532259c6277e5",
      "2307c6dcbe0141acb5e61baae19cade7",
      "4747b668e2fa4ab58a449446f80030f5",
      "14f6c91d6c634379b498586c51e606e0",
      "08d05bc20a96432badd459e1ffaf868e",
      "5dfcf310ca9e4e2794076098a5d69cea",
      "3c284a826f6843f6aa47eacad478ac30",
      "6caedd60c6b747469c82930be1f95d6d",
      "64f2218f899d446393cfea44f206f0a6",
      "d068f541df3f438dbd5138863e64b2f2",
      "affff1d8a89e4c14955d1b2aa39ff1ab",
      "13651c09564a4337b8274c1cb436faa5",
      "3bcd6b6b956347b29e1efa20a1d00542",
      "2fd3d7bbcd6948d8904d33001f95ea03",
      "d22fbc2c5dbf422399e496c9b500025a",
      "775d8bbeceac4e2da4f21ab6235c89ed",
      "de1a3f7701c243839fe03b930a9b9e30",
      "ebc22683058a4f229c5588e52fc93536",
      "52095cc7087243ac916055e569fd22f3",
      "a15af9e8158f4903b9189f3d322a5ef3",
      "21d2e54b5a0a4f79973a512105da43eb",
      "083ea69907bb48d4a8fff919bac51aad",
      "2a190bda0b72407e9a953cd2104dd3b2",
      "c18f0e3bc35e44d9915c3f84cd282a26",
      "3a04e871b74b45d7bf02fd33bb103577",
      "ac00d6c2cf974b33a628acb3f1471316",
      "285007b45236478ca147c6df752c8da4"
     ]
    },
    "id": "gZOE9TInCQHJ",
    "outputId": "8ce58487-6199-408c-cb37-49af1e218bc2"
   },
   "outputs": [
    {
     "name": "stdout",
     "output_type": "stream",
     "text": [
      "Hello! How can I assist you today? If you have any questions or need help with something, feel free to ask."
     ]
    }
   ],
   "source": [
    "stream = client.chat.completions.create(\n",
    "    model=\"solar-1-mini-chat\",\n",
    "    messages=[\n",
    "      {\n",
    "        \"role\": \"system\",\n",
    "        \"content\": \"You are a helpful assistant.\"\n",
    "      },\n",
    "      {\n",
    "        \"role\": \"user\",\n",
    "        \"content\": \"Hello!\"\n",
    "      }\n",
    "    ],\n",
    "    stream=True,\n",
    ")\n",
    " \n",
    "for chunk in stream:\n",
    "    if chunk.choices[0].delta.content is not None:\n",
    "        print(chunk.choices[0].delta.content, end=\"\")\n",
    " \n",
    "# Use with stream=False\n",
    "# print(stream.choices[0].message.content)"
   ]
  },
  {
   "cell_type": "markdown",
   "metadata": {
    "id": "S2zt0b-8ogCL"
   },
   "source": [
    "### 4) 데이터 불러오기\n",
    "- 실험에서 쓰일 데이터를 load합니다."
   ]
  },
  {
   "cell_type": "code",
   "execution_count": 5,
   "metadata": {
    "colab": {
     "base_uri": "https://localhost:8080/",
     "height": 293
    },
    "id": "QFHIE2G04y-K",
    "outputId": "19312d21-f5bf-495f-c626-cc17b82024a4"
   },
   "outputs": [
    {
     "data": {
      "application/vnd.microsoft.datawrangler.viewer.v0+json": {
       "columns": [
        {
         "name": "index",
         "rawType": "int64",
         "type": "integer"
        },
        {
         "name": "fname",
         "rawType": "object",
         "type": "string"
        },
        {
         "name": "dialogue",
         "rawType": "object",
         "type": "string"
        },
        {
         "name": "summary",
         "rawType": "object",
         "type": "string"
        },
        {
         "name": "topic",
         "rawType": "object",
         "type": "string"
        }
       ],
       "ref": "d559cf8c-c95a-4394-a484-51dcb457f924",
       "rows": [
        [
         "12452",
         "train_12455",
         "#Person1#: 안녕하세요. 혹시 맨체스터에서 오신 Mr. Green 맞으신가요? \n#Person2#: 네, 알아봐 주셔서 기뻐요. \n#Person1#: 테렉스에 머리가 하얗고 수염이 있다는 정보가 있어서 쉽게 찾았어요. 저는 Yellow River Import and Export Corporation의 책임자 Tan Ling이에요. 반갑습니다. \n#Person2#: 네, 반가워요. \n#Person1#: Mr. Green, 혹시 짐이 따로 있나요? \n#Person2#: 아니요. 저는 항상 이 가방이나 작은 여행 가방만 들고 다녀요. \n#Person1#: 그럼 이쪽으로 나가시죠. 제가 가방을 들어 드릴게요. \n#Person2#: 괜찮아요, 여자가 제 짐을 들게 할 순 없죠. 제가 아직 그 정도로 늙진 않았어요. \n#Person1#: 물론이죠. Mr. Green, 흰머리가 있어도 젊고 활기차 보이세요. \n#Person2#: 감사합니다. 들으니 기분이 좋네요. \n#Person1#: 차가 밖에 기다리고 있어요. 호텔로 가시죠. 더블린에 있는 큰 호텔 중 하나인 Phoenix에 스위트를 예약해 놨어요. \n#Person2#: 큰 스위트를 예약하셨어요, 아니면 큰 호텔에 예약하신 거예요? \n#Person1#: 둘 다 크죠. 근데 항상 큰 게 제일 좋은 건 아니잖아요. \n#Person2#: 맞아요. \n#Person1#: Mr. Green, 스위트를 보시면 마음에 들어 하실 거예요. 안 드시면 더 좋은 걸로 바꾸시거나 다른 호텔로 가셔도 돼요.",
         "Tan Ling은 흰머리와 수염이 특징인 Mr. Green을 맞이하여 호텔로 안내합니다. Tan은 그를 위해 큰 스위트를 예약해두었습니다.",
         "호텔 안내"
        ],
        [
         "12453",
         "train_12456",
         "#Person1#: Mister Ewing이 우리 회의장에 4시에 오라고 했지, 맞지?\n#Person2#: 응, 특히 늦지 말라고 하셨어. 우리의 이스트 요크 지점에서 몇몇 사람들이 오는데, 좋은 인상을 주고 싶어 하셔. 너는 어떻게 가?\n#Person1#: 차를 가져가려고 했는데, 고속도로 공사해서 그냥 지하철 타고 가려고. 너는?\n#Person2#: 나도 지하철 탈 거야. 같이 갈래? 나 회의장에 한 번 가봤는데, 길을 잘 모를 것 같아.",
         "#Person1#과 #Person2#는 Mister Ewing의 요청에 따라 회의장에 늦지 않도록 지하철을 함께 이용하여 가기로 계획합니다.",
         "회의 준비"
        ],
        [
         "12454",
         "train_12457",
         "#Person1#: 오늘 어떻게 도와드릴까요?\n#Person2#: 차를 빌리고 싶어요.\n#Person1#: 어떤 차가 있는지 볼게요. 대형차, 중형차, 소형차가 있습니다. 어떤 크기의 차를 원하시나요?\n#Person2#: 혼자 도심에서 움직일 거라, 소형차면 돼요. 하루에 얼마인가요?\n#Person1#: 소형차는 하루에 40달러입니다. 얼마나 빌리실 건가요?\n#Person2#: 5일 동안요.\n#Person1#: 알겠습니다. 운전면허증과 신용카드 보여주시겠어요?\n#Person2#: 네, 여기요.\n#Person1#: 이 카드로 결제해 드릴까요?\n#Person2#: 네, 괜찮습니다.",
         "#Person2#는 #Person1#의 도움으로 5일 동안 소형차를 대여합니다.",
         "차량 대여"
        ],
        [
         "12455",
         "train_12458",
         "#Person1#: 너 오늘 좀 기분 안 좋아 보인다? 무슨 일 있어?\n#Person2#: 엄마가 어제 직장을 잃으셨어.\n#Person1#: 안타깝다. 나도 그 얘기 들었어. 올해 등록된 도시 실업률이 4%에 이르렀고, 그중 절반 이상이 여성이라던데.\n#Person2#: 일자리 시장에서는 공급이 수요를 초과하고, 여성들이 일반적으로 불리한 위치에 있어.\n#Person1#: 맞아, 그렇지. 엄마는 이제 어떻게 하실 거야?\n#Person2#: 음... 지역 커뮤니티에서 가사 청소나 아이 돌보기를 좀 해볼까 생각 중이셔.\n#Person1#: 나쁘지 않네, 단기적인 대안이 될 수도 있지. 시장 상황이 나아지면 다른 일자리 찾으실 수 있을 거야. 결국엔 잘 될 거야.\n#Person2#: 엄마가 우울해하지 않으셨으면 좋겠어.\n#Person1#: 인터넷으로 일자리 정보 찾아보는 건 어때?\n#Person2#: 좋은 생각이야, 고마워.",
         "#Person2#의 어머니가 직장을 잃으셨다. #Person2#는 어머니가 우울해하지 않기를 바라며, #Person1#은 #Person2#에게 인터넷으로 일자리 정보를 찾아보라고 제안한다.",
         "실직과 대처"
        ],
        [
         "12456",
         "train_12459",
         "#Person1#: 엄마, 나 다음 주 토요일에 이모부네 가족 보러 가는데, 오늘 짐 싸야 할까?\n#Person2#: 응, 그래야 할 것 같아.\n#Person1#: 알았어. 어떤 옷 가져가야 해? 거기 덥다고 들었어.\n#Person2#: 맞아, 근데 비가 많이 와. 젖으면 우산이나 겉옷 빌려 입을 수도 있으니까 그냥 티셔츠 몇 벌만 챙겨.\n#Person1#: 알았어. 공항에서는 누가 나 데리러 와?\n#Person2#: 음, 이모부랑 이모는 바쁘실 텐데, 사촌 수잔이 널 데리러 올 거야.",
         "#Person1#은 다음 주 토요일에 이모부네 가족을 방문하기 위해 짐을 싸야 하는지 #Person2#의 의견을 묻고, 필요한 복장을 상담합니다.",
         "가족 방문 준비"
        ]
       ],
       "shape": {
        "columns": 4,
        "rows": 5
       }
      },
      "text/html": [
       "<div>\n",
       "<style scoped>\n",
       "    .dataframe tbody tr th:only-of-type {\n",
       "        vertical-align: middle;\n",
       "    }\n",
       "\n",
       "    .dataframe tbody tr th {\n",
       "        vertical-align: top;\n",
       "    }\n",
       "\n",
       "    .dataframe thead th {\n",
       "        text-align: right;\n",
       "    }\n",
       "</style>\n",
       "<table border=\"1\" class=\"dataframe\">\n",
       "  <thead>\n",
       "    <tr style=\"text-align: right;\">\n",
       "      <th></th>\n",
       "      <th>fname</th>\n",
       "      <th>dialogue</th>\n",
       "      <th>summary</th>\n",
       "      <th>topic</th>\n",
       "    </tr>\n",
       "  </thead>\n",
       "  <tbody>\n",
       "    <tr>\n",
       "      <th>12452</th>\n",
       "      <td>train_12455</td>\n",
       "      <td>#Person1#: 안녕하세요. 혹시 맨체스터에서 오신 Mr. Green 맞으신가요...</td>\n",
       "      <td>Tan Ling은 흰머리와 수염이 특징인 Mr. Green을 맞이하여 호텔로 안내합...</td>\n",
       "      <td>호텔 안내</td>\n",
       "    </tr>\n",
       "    <tr>\n",
       "      <th>12453</th>\n",
       "      <td>train_12456</td>\n",
       "      <td>#Person1#: Mister Ewing이 우리 회의장에 4시에 오라고 했지, 맞...</td>\n",
       "      <td>#Person1#과 #Person2#는 Mister Ewing의 요청에 따라 회의장...</td>\n",
       "      <td>회의 준비</td>\n",
       "    </tr>\n",
       "    <tr>\n",
       "      <th>12454</th>\n",
       "      <td>train_12457</td>\n",
       "      <td>#Person1#: 오늘 어떻게 도와드릴까요?\\n#Person2#: 차를 빌리고 싶...</td>\n",
       "      <td>#Person2#는 #Person1#의 도움으로 5일 동안 소형차를 대여합니다.</td>\n",
       "      <td>차량 대여</td>\n",
       "    </tr>\n",
       "    <tr>\n",
       "      <th>12455</th>\n",
       "      <td>train_12458</td>\n",
       "      <td>#Person1#: 너 오늘 좀 기분 안 좋아 보인다? 무슨 일 있어?\\n#Pers...</td>\n",
       "      <td>#Person2#의 어머니가 직장을 잃으셨다. #Person2#는 어머니가 우울해하...</td>\n",
       "      <td>실직과 대처</td>\n",
       "    </tr>\n",
       "    <tr>\n",
       "      <th>12456</th>\n",
       "      <td>train_12459</td>\n",
       "      <td>#Person1#: 엄마, 나 다음 주 토요일에 이모부네 가족 보러 가는데, 오늘 ...</td>\n",
       "      <td>#Person1#은 다음 주 토요일에 이모부네 가족을 방문하기 위해 짐을 싸야 하는...</td>\n",
       "      <td>가족 방문 준비</td>\n",
       "    </tr>\n",
       "  </tbody>\n",
       "</table>\n",
       "</div>"
      ],
      "text/plain": [
       "             fname                                           dialogue  \\\n",
       "12452  train_12455  #Person1#: 안녕하세요. 혹시 맨체스터에서 오신 Mr. Green 맞으신가요...   \n",
       "12453  train_12456  #Person1#: Mister Ewing이 우리 회의장에 4시에 오라고 했지, 맞...   \n",
       "12454  train_12457  #Person1#: 오늘 어떻게 도와드릴까요?\\n#Person2#: 차를 빌리고 싶...   \n",
       "12455  train_12458  #Person1#: 너 오늘 좀 기분 안 좋아 보인다? 무슨 일 있어?\\n#Pers...   \n",
       "12456  train_12459  #Person1#: 엄마, 나 다음 주 토요일에 이모부네 가족 보러 가는데, 오늘 ...   \n",
       "\n",
       "                                                 summary     topic  \n",
       "12452  Tan Ling은 흰머리와 수염이 특징인 Mr. Green을 맞이하여 호텔로 안내합...     호텔 안내  \n",
       "12453  #Person1#과 #Person2#는 Mister Ewing의 요청에 따라 회의장...     회의 준비  \n",
       "12454       #Person2#는 #Person1#의 도움으로 5일 동안 소형차를 대여합니다.     차량 대여  \n",
       "12455  #Person2#의 어머니가 직장을 잃으셨다. #Person2#는 어머니가 우울해하...    실직과 대처  \n",
       "12456  #Person1#은 다음 주 토요일에 이모부네 가족을 방문하기 위해 짐을 싸야 하는...  가족 방문 준비  "
      ]
     },
     "execution_count": 5,
     "metadata": {},
     "output_type": "execute_result"
    }
   ],
   "source": [
    "# 데이터 경로를 지정해줍니다.\n",
    "DATA_PATH = \"../../data/raw/\"\n",
    "RESULT_PATH = \"./submissions/\"\n",
    "\n",
    "# train data의 구조와 내용을 확인합니다.\n",
    "train_df = pd.read_csv(os.path.join(DATA_PATH,'train.csv'))\n",
    "train_df.tail()"
   ]
  },
  {
   "cell_type": "code",
   "execution_count": 6,
   "metadata": {
    "colab": {
     "base_uri": "https://localhost:8080/",
     "height": 258
    },
    "id": "FAGaYvNZ09Sq",
    "outputId": "bf8bf286-19e7-469d-ffae-41e6ad795ae6"
   },
   "outputs": [
    {
     "data": {
      "application/vnd.microsoft.datawrangler.viewer.v0+json": {
       "columns": [
        {
         "name": "index",
         "rawType": "int64",
         "type": "integer"
        },
        {
         "name": "fname",
         "rawType": "object",
         "type": "string"
        },
        {
         "name": "dialogue",
         "rawType": "object",
         "type": "string"
        },
        {
         "name": "summary",
         "rawType": "object",
         "type": "string"
        },
        {
         "name": "topic",
         "rawType": "object",
         "type": "string"
        }
       ],
       "ref": "4092a310-0472-4837-85a2-4a4300a349cd",
       "rows": [
        [
         "494",
         "dev_495",
         "#Person1#: 새해가 되니까 나도 새 출발을 하기로 했어.\n#Person2#: 그래? 이제 정말로 모든 걸 새롭게 시작하려고?\n#Person1#: 맞아! 새로운 직장이랑, 새로운 도시, 그리고 새로운 친구들이 생겼어! 이번 기회에 내 삶을 조금씩이라도 바꿔보려고.\n#Person2#: 그래서 뭐 할 건데? 미술 수업 같은 거 들을 거야?\n#Person1#: 일단, 담배를 끊기로 했어. 그게 돈 아끼려고 그런 건 아니고, 내가 16살 때부터 담배를 피웠으니까 이제는 그만해야 할 때라고 생각해.\n#Person2#: 잘 생각했어. 다른 계획은 없어?\n#Person1#: 마지막으로, 커밍아웃 하기로 했어.\n#Person2#: 드디어 결심했구나!",
         "#Person1#은 새해에 담배를 끊고 커밍아웃 하기로 결심했습니다. #Person2#는 #Person1#을 지지합니다.",
         "새해 결심"
        ],
        [
         "495",
         "dev_496",
         "#Person1#: 너 Joe랑 결혼했지?\n#Person2#: Joe? 무슨 말이야?\n#Person1#: 네가 그 사람한테 반했던 걸로 기억하는데.\n#Person2#: 처음엔 마음에 들었지만, 그건 잠깐이었어.\n#Person1#: 그게 무슨 뜻인지 모르겠는데.",
         "#Person1#은 #Person2#가 Joe와 결혼했다고 생각하지만, #Person2#는 이를 부인합니다.",
         "사랑과 결혼 오해"
        ],
        [
         "496",
         "dev_497",
         "#Person1#: 어떻게 도와드릴까요, 아줌마?\n#Person2#: 제 차에서 몇 주째 이상한 소리가 나길래 오늘 좀 봐주실 수 있을까 해서요.\n#Person1#: 어떤 소리인가요?\n#Person2#: 마치 바퀴가 손상되는 것 같은 소리가 나요. 속도를 줄일 때만 그러고요.\n#Person1#: 아, 듣기에는 브레이크를 새로 갈아야 할 것 같네요. 내일까지 차를 맡겨주셔야 해요.\n#Person2#: 아이고, 오늘 오후에는 받을 수 있을 줄 알았는데요.\n#Person1#: 죄송하지만, 부품을 주문해야 해서 도착하기 전까지는 시작할 수 없어요. 지금 주문하면 오늘 오후나 늦어도 내일 오전에는 도착할 거예요.\n#Person2#: 아, 그렇군요. 그럼 내일 아침에 차를 다시 가져올까요? 오늘 밤에 꼭 가고 싶은 공연이 있어서요.\n#Person1#: 그러는 건 안 좋은 생각인 것 같아요. 이렇게 운전하는 건 위험해요. 제 입장이라면 버스 시간을 확인해볼 거예요.",
         "#Person2#의 차에서 소리가 나며, 브레이크 수리가 필요한 상황입니다. #Person1#은 부품 주문에 시간이 걸려 내일까지 수리가 불가능하며, #Person2#는 오늘 밤 공연에 가기 위해 차를 사용하고 싶어하지만, #Person1#은 안전을 위해 버스 사용을 권장합니다.",
         "차량 소음 및 수리"
        ],
        [
         "497",
         "dev_498",
         "#Person1#: 여보세요, 아마존 고객 서비스입니다. 어떻게 도와드릴까요?\n#Person2#: 안녕하세요, 어제 저희 웹사이트에서 산 책을 읽다가 53쪽이 없는 걸 발견했어요.\n#Person1#: 알겠습니다. 주문 번호 좀 알려주시겠어요?\n#Person2#: B113-7423935입니다.\n#Person1#: 확인해볼게요. 고객님이 10일 전, 10월 13일에 저희 웹사이트에서 구매하신 RA Salvatore의 '헌터의 밤' 종이책 맞으신가요?\n#Person2#: 네, 맞아요.\n#Person1#: 그렇다면 그 책의 문제 부분을 사진으로 찍어서 저희 웹사이트 고객 서비스 페이지에 업로드해 주셔야 할 것 같아요. 문제가 확인되면 2일 내로 새 책을 보내드리겠습니다.\n#Person2#: 알겠습니다. 그럼 기존 책은 어떻게 해야 하나요? 반송해야 하나요?\n#Person1#: 그럴 필요 없습니다. 계속 가지고 계셔도 돼요. 더 도와드릴 게 있으신가요?\n#Person2#: 아니요, 감사합니다.\n#Person1#: 별말씀을요, 좋은 하루 보내세요.",
         "#Person2#가 아마존 고객 서비스에 전화하여 아마존에서 구매한 책에 53페이지가 없다고 확인합니다. #Person1#은 문제를 확인 후 새 책을 보내겠다고 안내합니다.",
         "책 페이지 누락"
        ],
        [
         "498",
         "dev_499",
         "#Person1#: 벌써 여름이 다가오다니 믿기지 않아. \n#Person2#: 맞아, 그러게. 올해 정말 빨리 갔네. \n#Person1#: 너 이번 여름방학 때 뭐 할 거야? \n#Person2#: 회사에서 일할 거야. \n#Person1#: 어떤 회사야? 뭐 하는 곳인데? \n#Person2#: 파티에서 도와주는 회사야. 우리 회사는 음식을 준비하고 서빙해, 보통 다른 회사가 음악을 제공하지. \n#Person1#: 네가 요리를 할 줄 아는지는 몰랐네. \n#Person2#: 요리 안 해도 돼. 난 그냥 보조야. \n#Person1#: 언제 시작해? \n#Person2#: 내일. 생일파티를 도와야 해. 그리고 큰 가족 모임도 있어. \n#Person1#: 그래서 정확히 어떤 일을 해? \n#Person2#: 파티 시작하기 전에 모든 걸 준비하는 걸 도와. 음식 가져오고, 테이블 정리하고, 예쁘게 보이도록 해. \n#Person1#: 꽤 쉬운 일처럼 들리네. \n#Person2#: 그건 첫 번째 부분일 뿐이야. 파티 중에는 손님들에게 음식이랑 음료를 서빙해야 해. \n#Person1#: 그래도 사람들 만날 수 있으니 좋겠네. \n#Person2#: 응, 그리고 파티가 끝나면 청소를 도와야 해. \n#Person1#: 윽, 난 설거지 제일 싫어해. \n#Person2#: 아, 난 설거지 안 해. 다른 사람이 해. 난 그냥 트럭에 모든 걸 실어. \n#Person1#: 그럼 별로 안 나쁘네. 멋진 일인 것 같아.",
         "#Person2#는 여름방학 동안 파티에서 일하는 회사에서 일하며, 주로 음식 준비와 서빙, 정리 등의 업무를 맡게 될 것이라고 #Person1#에게 말합니다. #Person1#은 그것이 멋진 일이라고 생각합니다.",
         "여름방학 일자리"
        ]
       ],
       "shape": {
        "columns": 4,
        "rows": 5
       }
      },
      "text/html": [
       "<div>\n",
       "<style scoped>\n",
       "    .dataframe tbody tr th:only-of-type {\n",
       "        vertical-align: middle;\n",
       "    }\n",
       "\n",
       "    .dataframe tbody tr th {\n",
       "        vertical-align: top;\n",
       "    }\n",
       "\n",
       "    .dataframe thead th {\n",
       "        text-align: right;\n",
       "    }\n",
       "</style>\n",
       "<table border=\"1\" class=\"dataframe\">\n",
       "  <thead>\n",
       "    <tr style=\"text-align: right;\">\n",
       "      <th></th>\n",
       "      <th>fname</th>\n",
       "      <th>dialogue</th>\n",
       "      <th>summary</th>\n",
       "      <th>topic</th>\n",
       "    </tr>\n",
       "  </thead>\n",
       "  <tbody>\n",
       "    <tr>\n",
       "      <th>494</th>\n",
       "      <td>dev_495</td>\n",
       "      <td>#Person1#: 새해가 되니까 나도 새 출발을 하기로 했어.\\n#Person2#...</td>\n",
       "      <td>#Person1#은 새해에 담배를 끊고 커밍아웃 하기로 결심했습니다. #Person...</td>\n",
       "      <td>새해 결심</td>\n",
       "    </tr>\n",
       "    <tr>\n",
       "      <th>495</th>\n",
       "      <td>dev_496</td>\n",
       "      <td>#Person1#: 너 Joe랑 결혼했지?\\n#Person2#: Joe? 무슨 말이...</td>\n",
       "      <td>#Person1#은 #Person2#가 Joe와 결혼했다고 생각하지만, #Perso...</td>\n",
       "      <td>사랑과 결혼 오해</td>\n",
       "    </tr>\n",
       "    <tr>\n",
       "      <th>496</th>\n",
       "      <td>dev_497</td>\n",
       "      <td>#Person1#: 어떻게 도와드릴까요, 아줌마?\\n#Person2#: 제 차에서 ...</td>\n",
       "      <td>#Person2#의 차에서 소리가 나며, 브레이크 수리가 필요한 상황입니다. #Pe...</td>\n",
       "      <td>차량 소음 및 수리</td>\n",
       "    </tr>\n",
       "    <tr>\n",
       "      <th>497</th>\n",
       "      <td>dev_498</td>\n",
       "      <td>#Person1#: 여보세요, 아마존 고객 서비스입니다. 어떻게 도와드릴까요?\\n#...</td>\n",
       "      <td>#Person2#가 아마존 고객 서비스에 전화하여 아마존에서 구매한 책에 53페이지...</td>\n",
       "      <td>책 페이지 누락</td>\n",
       "    </tr>\n",
       "    <tr>\n",
       "      <th>498</th>\n",
       "      <td>dev_499</td>\n",
       "      <td>#Person1#: 벌써 여름이 다가오다니 믿기지 않아. \\n#Person2#: 맞...</td>\n",
       "      <td>#Person2#는 여름방학 동안 파티에서 일하는 회사에서 일하며, 주로 음식 준비...</td>\n",
       "      <td>여름방학 일자리</td>\n",
       "    </tr>\n",
       "  </tbody>\n",
       "</table>\n",
       "</div>"
      ],
      "text/plain": [
       "       fname                                           dialogue  \\\n",
       "494  dev_495  #Person1#: 새해가 되니까 나도 새 출발을 하기로 했어.\\n#Person2#...   \n",
       "495  dev_496  #Person1#: 너 Joe랑 결혼했지?\\n#Person2#: Joe? 무슨 말이...   \n",
       "496  dev_497  #Person1#: 어떻게 도와드릴까요, 아줌마?\\n#Person2#: 제 차에서 ...   \n",
       "497  dev_498  #Person1#: 여보세요, 아마존 고객 서비스입니다. 어떻게 도와드릴까요?\\n#...   \n",
       "498  dev_499  #Person1#: 벌써 여름이 다가오다니 믿기지 않아. \\n#Person2#: 맞...   \n",
       "\n",
       "                                               summary       topic  \n",
       "494  #Person1#은 새해에 담배를 끊고 커밍아웃 하기로 결심했습니다. #Person...       새해 결심  \n",
       "495  #Person1#은 #Person2#가 Joe와 결혼했다고 생각하지만, #Perso...   사랑과 결혼 오해  \n",
       "496  #Person2#의 차에서 소리가 나며, 브레이크 수리가 필요한 상황입니다. #Pe...  차량 소음 및 수리  \n",
       "497  #Person2#가 아마존 고객 서비스에 전화하여 아마존에서 구매한 책에 53페이지...    책 페이지 누락  \n",
       "498  #Person2#는 여름방학 동안 파티에서 일하는 회사에서 일하며, 주로 음식 준비...    여름방학 일자리  "
      ]
     },
     "execution_count": 6,
     "metadata": {},
     "output_type": "execute_result"
    }
   ],
   "source": [
    "# validation data의 구조와 내용을 확인합니다.\n",
    "val_df = pd.read_csv(os.path.join(DATA_PATH,'dev.csv'))\n",
    "val_df.tail()"
   ]
  },
  {
   "cell_type": "markdown",
   "metadata": {
    "id": "_IIaIrpH4kWo"
   },
   "source": [
    "## 1. Solar Chat API 요약 성능 확인하기\n",
    "- Solar Chat API을 이용하여 train 및 validation dataset에 포함된 dialogue 샘플을 요약해 봅니다."
   ]
  },
  {
   "cell_type": "code",
   "execution_count": 7,
   "metadata": {},
   "outputs": [],
   "source": [
    "# 모델 성능에 대한 평가 지표를 정의합니다. 본 대회에서는 ROUGE 점수를 통해 모델의 성능을 평가합니다.\n",
    "rouge = Rouge()\n",
    "def compute_metrics(pred, gold):\n",
    "    results = rouge.get_scores(pred, gold, avg=True)\n",
    "    result = {key: value[\"f\"] for key, value in results.items()}\n",
    "    return result"
   ]
  },
  {
   "cell_type": "code",
   "execution_count": 8,
   "metadata": {
    "id": "oWPawUUflwHa"
   },
   "outputs": [],
   "source": [
    "# Dialogue를 입력으로 받아, Solar Chat API에 보낼 Prompt를 생성하는 함수를 정의합니다.\n",
    "def build_prompt(dialogue):\n",
    "    system_prompt = \"You are an expert in the field of dialogue summarization. Please summarize the following dialogue.\"\n",
    "\n",
    "    user_prompt = f\"Dialogue:\\n{dialogue}\\n\\nSummary:\\n\"\n",
    "    \n",
    "    return [\n",
    "        {\n",
    "            \"role\": \"system\",\n",
    "            \"content\": system_prompt\n",
    "        },\n",
    "        {\n",
    "            \"role\": \"user\",\n",
    "            \"content\": user_prompt\n",
    "        }\n",
    "    ]"
   ]
  },
  {
   "cell_type": "code",
   "execution_count": 9,
   "metadata": {},
   "outputs": [],
   "source": [
    "# Solar Chat API를 활용해 Summarization을 수행하는 함수를 정의합니다.\n",
    "def summarization(dialogue):\n",
    "    summary = client.chat.completions.create(\n",
    "        model=\"solar-1-mini-chat\",\n",
    "        messages=build_prompt(dialogue),\n",
    "    )\n",
    "\n",
    "    return summary.choices[0].message.content"
   ]
  },
  {
   "cell_type": "markdown",
   "metadata": {},
   "source": [
    "### (선택) parameter 변경하기\n",
    "- Solar Chat API를 사용할 때, parameter를 변경하여, 다양한 결과를 얻을 수 있습니다.\n",
    "- Parameter에 대한 자세한 설명은 [여기](https://developers.upstage.ai/docs/apis/chat#request-body)를 참고해주세요."
   ]
  },
  {
   "cell_type": "code",
   "execution_count": 10,
   "metadata": {},
   "outputs": [],
   "source": [
    "def summarization(dialogue):\n",
    "    summary = client.chat.completions.create(\n",
    "        model=\"solar-1-mini-chat\",\n",
    "        messages=build_prompt(dialogue),\n",
    "        temperature=0.2,\n",
    "        top_p=0.3,\n",
    "    )\n",
    "\n",
    "    return summary.choices[0].message.content"
   ]
  },
  {
   "cell_type": "markdown",
   "metadata": {},
   "source": [
    "Train Dataset을 이용하여 요약이 잘 되는지 확인해 봅니다."
   ]
  },
  {
   "cell_type": "code",
   "execution_count": 11,
   "metadata": {
    "id": "6GDvodoF8sED"
   },
   "outputs": [],
   "source": [
    "# Train data 중 처음 3개의 대화를 요약합니다.\n",
    "def test_on_train_data(num_samples=3):\n",
    "    for idx, row in train_df[:num_samples].iterrows():\n",
    "        dialogue = row['dialogue']\n",
    "        summary = summarization(dialogue)\n",
    "        print(f\"Dialogue:\\n{dialogue}\\n\")\n",
    "        print(f\"Pred Summary: {summary}\\n\")\n",
    "        print(f\"Gold Summary: {row['summary']}\\n\")\n",
    "        print(\"==\"*50)"
   ]
  },
  {
   "cell_type": "code",
   "execution_count": 12,
   "metadata": {},
   "outputs": [
    {
     "name": "stdout",
     "output_type": "stream",
     "text": [
      "Dialogue:\n",
      "#Person1#: 안녕하세요, Mr. Smith. 저는 Dr. Hawkins입니다. 오늘 무슨 일로 오셨어요? \n",
      "#Person2#: 건강검진을 받으려고 왔어요. \n",
      "#Person1#: 네, 5년 동안 검진을 안 받으셨네요. 매년 한 번씩 받으셔야 해요. \n",
      "#Person2#: 알죠. 특별히 아픈 데가 없으면 굳이 갈 필요가 없다고 생각했어요. \n",
      "#Person1#: 음, 심각한 질병을 피하려면 미리 발견하는 게 제일 좋거든요. 본인을 위해서라도 매년 한 번은 오세요. \n",
      "#Person2#: 알겠습니다. \n",
      "#Person1#: 여기 좀 볼까요. 눈과 귀는 괜찮으시네요. 깊게 숨 한 번 쉬어보세요. Mr. Smith, 담배 피우세요? \n",
      "#Person2#: 네. \n",
      "#Person1#: 담배가 폐암하고 심장병의 주된 원인인 거 아시죠? 끊으셔야 해요. \n",
      "#Person2#: 수백 번 시도했는데, 도저히 습관이 안 끊어져요. \n",
      "#Person1#: 음, 도움 될만한 수업과 약물들이 있습니다. 가시기 전에 더 정보를 드릴게요. \n",
      "#Person2#: 네, 고맙습니다, 의사 선생님.\n",
      "\n",
      "Pred Summary: Dr. Hawkins greets Mr. Smith and asks about his visit. Mr. Smith mentions he is there for a health check-up, which he hasn't had in five years. Dr. Hawkins emphasizes the importance of annual check-ups for early disease detection. Mr. Smith admits to smoking and expresses difficulty quitting. Dr. Hawkins advises him to quit due to health risks and offers information on classes and medications to help with smoking cessation before he leaves.\n",
      "\n",
      "Gold Summary: Mr. Smith는 Dr. Hawkins에게 건강검진을 받으러 와서, 매년 검진 필요성을 안내받고 흡연 습관 개선을 위한 도움을 제안받았습니다.\n",
      "\n",
      "====================================================================================================\n",
      "Dialogue:\n",
      "#Person1#: 안녕하세요, Mrs. Parker. 잘 지내셨나요?\n",
      "#Person2#: 안녕하세요, Dr. Peters. 잘 지내고 있어요. Ricky랑 저희 둘 다 백신 맞으러 왔어요.\n",
      "#Person1#: 알겠습니다. 백신 기록을 보니 Ricky는 소아마비, 파상풍, 그리고 B형 간염 예방접종을 받았네요. 지금 14개월이라 A형 간염, 수두, 홍역 예방접종을 맞아야 해요.\n",
      "#Person2#: 풍진과 유행성이하선염은요?\n",
      "#Person1#: 지금은 이 정도만 맞고, 몇 주 후에 나머지를 할 수 있어요.\n",
      "#Person2#: 좋아요. 그리고 저도 파상풍 부스터가 필요할 것 같아요. 마지막으로 맞은 지 아마 15년은 된 것 같아요!\n",
      "#Person1#: 기록을 확인해서 간호사에게 부스터도 맞출 수 있도록 할게요. 이제 Ricky 팔 꽉 잡아주세요, 좀 따끔할 수 있어요.\n",
      "\n",
      "Pred Summary: Mrs. Parker와 Dr. Peters는 Ricky의 백신 접종에 대해 논의합니다. Ricky는 현재 14개월이며, 소아마비, 파상풍, B형 간염 예방접종을 이미 받았습니다. 이제 A형 간염, 수두, 홍역 예방접종이 필요합니다. 풍진과 유행성이하선염 백신은 몇 주 후에 맞을 예정입니다. Mrs. Parker는 자신도 파상풍 부스터가 필요할 것 같다고 언급하고, Dr. Peters는 기록을 확인한 후 간호사에게 부스터 접종을 준비하겠다고 합니다. 마지막으로, Dr. Peters는 Ricky의 팔을 꽉 잡으라고 말하며 접종이 따끔할 수 있다고 알립니다.\n",
      "\n",
      "Gold Summary: Mrs. Parker가 Ricky와 함께 백신 접종을 위해 방문하였고, Dr. Peters는 Ricky에게 적절한 백신을 접종하도록 안내합니다.\n",
      "\n",
      "====================================================================================================\n",
      "Dialogue:\n",
      "#Person1#: 저기요, 열쇠 세트 본 적 있어요?\n",
      "#Person2#: 어떤 종류의 열쇠요?\n",
      "#Person1#: 열쇠 다섯 개랑 작은 발 장식이 달려 있어요.\n",
      "#Person2#: 아, 안타깝네요! 못 봤어요.\n",
      "#Person1#: 그럼, 같이 좀 찾아주실 수 있어요? 여긴 처음이라서요.\n",
      "#Person2#: 물론이죠. 도와드릴게요.\n",
      "#Person1#: 정말 친절하시네요.\n",
      "#Person2#: 별거 아니에요. 이봐요, 찾았어요.\n",
      "#Person1#: 아, 감사합니다! 어떻게 감사해야 할지 모르겠네요.\n",
      "#Person2#: 천만에요.\n",
      "\n",
      "Pred Summary: Person1은 열쇠 세트를 잃어버렸고, Person2에게 도움을 요청했습니다. Person2는 Person1과 함께 열쇠를 찾기로 했고, 결국 열쇠를 발견했습니다. Person1은 Person2의 도움에 감사했습니다.\n",
      "\n",
      "Gold Summary: #Person1#은 열쇠 세트를 잃어버리고 #Person2#에게 찾는 것을 도와달라고 요청합니다.\n",
      "\n",
      "====================================================================================================\n"
     ]
    }
   ],
   "source": [
    "if __name__ == \"__main__\":\n",
    "    test_on_train_data()"
   ]
  },
  {
   "cell_type": "markdown",
   "metadata": {},
   "source": [
    "Validation Dataset을 이용하여 요약을 진행하고, 성능을 평가해 봅니다."
   ]
  },
  {
   "cell_type": "code",
   "execution_count": 13,
   "metadata": {},
   "outputs": [],
   "source": [
    "# Validation data의 대화를 요약하고, 점수를 측정합니다.\n",
    "def validate(num_samples=-1):\n",
    "    val_samples = val_df[:num_samples] if num_samples > 0 else val_df\n",
    "    \n",
    "    scores = []\n",
    "    for idx, row in tqdm(val_samples.iterrows(), total=len(val_samples)):\n",
    "        dialogue = row['dialogue']\n",
    "        summary = summarization(dialogue)\n",
    "        results = compute_metrics(summary, row['summary'])\n",
    "        avg_score = sum(results.values()) / len(results)\n",
    "        \n",
    "        scores.append(avg_score)\n",
    "        \n",
    "    val_avg_score = sum(scores) / len(scores)\n",
    "\n",
    "    print(f\"Validation Average Score: {val_avg_score}\")"
   ]
  },
  {
   "cell_type": "code",
   "execution_count": 14,
   "metadata": {},
   "outputs": [
    {
     "name": "stderr",
     "output_type": "stream",
     "text": [
      "100%|██████████| 100/100 [01:52<00:00,  1.12s/it]"
     ]
    },
    {
     "name": "stdout",
     "output_type": "stream",
     "text": [
      "Validation Average Score: 0.09622219931249976\n"
     ]
    },
    {
     "name": "stderr",
     "output_type": "stream",
     "text": [
      "\n"
     ]
    }
   ],
   "source": [
    "if __name__ == \"__main__\":\n",
    "    validate(100) # 100개의 validation sample에 대한 요약을 수행합니다.\n",
    "    \n",
    "    # 전체 validation data에 대한 요약을 수행하고 싶은 경우 아래와 같이 실행합니다.\n",
    "    # validate() "
   ]
  },
  {
   "cell_type": "markdown",
   "metadata": {},
   "source": [
    "## 2. Solar Chat API로 요약하기\n",
    "- Solar Chat API을 이용하여 test dataset에 포함된 dialogue를 요약하고 제출용 파일을 생성합니다."
   ]
  },
  {
   "cell_type": "code",
   "execution_count": 15,
   "metadata": {},
   "outputs": [],
   "source": [
    "def inference():\n",
    "    test_df = pd.read_csv(os.path.join(DATA_PATH, 'test.csv'))\n",
    "\n",
    "    summary = []\n",
    "    start_time = time.time()\n",
    "    for idx, row in tqdm(test_df.iterrows(), total=len(test_df)):\n",
    "        dialogue = row['dialogue']\n",
    "        summary.append(summarization(dialogue))\n",
    "        \n",
    "        # Rate limit 방지를 위해 1분 동안 최대 100개의 요청을 보내도록 합니다.\n",
    "        if (idx + 1) % 100 == 0:\n",
    "            end_time = time.time()\n",
    "            elapsed_time = end_time - start_time\n",
    "            \n",
    "            if elapsed_time < 60:\n",
    "                wait_time = 60 - elapsed_time + 5\n",
    "                print(f\"Elapsed time: {elapsed_time:.2f} sec\")\n",
    "                print(f\"Waiting for {wait_time} sec\")\n",
    "                time.sleep(wait_time)\n",
    "            \n",
    "            start_time = time.time()\n",
    "    \n",
    "    output = pd.DataFrame(\n",
    "        {\n",
    "            \"fname\": test_df['fname'],\n",
    "            \"summary\" : summary,\n",
    "        }\n",
    "    )\n",
    "    \n",
    "    if not os.path.exists(RESULT_PATH):\n",
    "        os.makedirs(RESULT_PATH)\n",
    "    output.to_csv(os.path.join(RESULT_PATH, \"output_solar.csv\"), index=False)\n",
    "\n",
    "    return output"
   ]
  },
  {
   "cell_type": "code",
   "execution_count": 16,
   "metadata": {
    "id": "-pJ1ZXf-5V50"
   },
   "outputs": [
    {
     "name": "stderr",
     "output_type": "stream",
     "text": [
      "100%|██████████| 499/499 [09:46<00:00,  1.18s/it]\n"
     ]
    }
   ],
   "source": [
    "if __name__ == \"__main__\":\n",
    "    output = inference()"
   ]
  },
  {
   "cell_type": "code",
   "execution_count": 17,
   "metadata": {
    "id": "OsPmLfhbzZqS"
   },
   "outputs": [
    {
     "data": {
      "application/vnd.microsoft.datawrangler.viewer.v0+json": {
       "columns": [
        {
         "name": "index",
         "rawType": "int64",
         "type": "integer"
        },
        {
         "name": "fname",
         "rawType": "object",
         "type": "string"
        },
        {
         "name": "summary",
         "rawType": "object",
         "type": "string"
        }
       ],
       "ref": "91737e87-c878-4475-bf07-66c72f016249",
       "rows": [
        [
         "0",
         "test_0",
         "#Person1#은 Ms. Dawson에게 즉시 메시지 사용 금지 정책을 모든 직원에게 사내 메모로 오늘 오후까지 보내도록 요청했습니다. 이 정책은 사무실 내 직원 간 및 외부 통신 모두에 적용되며, 위반 시 경고 후 시정 조치, 두 번째 위반 시 해고될 수 있습니다. 질문은 부서장에게 문의하도록 안내하며, 메모 작성 및 배포는 오후 4시까지 완료되어야 합니다."
        ],
        [
         "1",
         "test_1",
         "Person1과 Person2는 Person2가 집에 오는 데 걸린 시간에 대해 대화를 나눕니다. Person2는 Carrefour 교차로 근처의 교통체증 때문에 늦었다고 설명합니다. Person1은 출퇴근 시간의 혼잡을 피하기 위해 다른 길을 찾거나 대중교통을 이용하는 것을 제안합니다. Person2는 대중교통을 고려해볼 의향이 있으며, 자신의 차가 도시의 오염에 기여하는 것에 대해 미안해합니다. Person1은 대중교통이 스트레스도 줄이고 환경에도 좋다고 설득하며, Person2는 차의 자유를 그리워할 것이라고 표현합니다. Person1은 자전거로 출근하는 것을 제안하고, Person2는 운동도 될 것이라며 동의합니다. 결국 Person2는 자신과 환경을 위해 출근할 때 차를 타지 않기로 결정합니다."
        ],
        [
         "2",
         "test_2",
         "Masha와 Hero가 두 달간의 별거 끝에 이혼 신청을 했으며, Masha가 양육권을 가지기로 결정되었습니다. 이혼 절차는 원만하게 진행되고 있으며, 재산 및 주식 문제는 이미 해결되었습니다. 이혼은 새해 초쯤 확정될 것으로 예상됩니다. 이 소식은 예상치 못하게 받아들여지고 있으며, 두 사람이 완벽한 커플로 여겨졌기 때문에 놀랍게 느껴집니다."
        ],
        [
         "3",
         "test_3",
         "Person1은 Person2의 생일을 축하하며 선물을 주고 파티에 초대받았습니다. 그들은 함께 춤을 추고, Person2는 Person1이 파티에서 인기가 많고 아름답게 보인다고 칭찬했습니다. Person1은 감사의 말을 전하며 파티를 즐기고, 함께 생일을 축하하기 위해 한 잔 하기로 했습니다."
        ],
        [
         "4",
         "test_4",
         "Person1과 Person2는 올림픽 공원의 중심인 올림픽 스타디움에 있습니다. 전체 스타디움은 이번 6월에 완공될 예정이며, 총 5000석의 좌석이 있습니다. Person2는 Person1에게 육상 트랙과 점프 구간을 가리키며 설명합니다. 또한, 공원 내 등산이 금지되어 있음을 알리는 표지판이 있으며, 외국인 방문객들을 위해 영어 번역된 표지판도 많이 붙어 있다고 언급합니다."
        ],
        [
         "5",
         "test_5",
         "Person1은 현재 직장을 그만두고 자신의 회사를 시작하려고 합니다. 그러나 Person2는 사업 계획서 작성의 복잡성을 설명하며, 사업 아이디어 요약, 회사 정보 제시, 상품 또는 서비스 소개 및 경쟁자와의 차별점 설명, 그리고 시장 분석의 필요성을 강조합니다. 또한, 사회경제적 요인 고려, 전략 및 실행 계획 수립, 그리고 투자자에게 중요한 금융 분석의 중요성도 언급합니다. 이러한 과정의 복잡성을 알게 된 Person1은 예전 일을 계속하며 사업 시작의 번거로움을 피하는 것이 나을 것 같다고 생각합니다."
        ],
        [
         "6",
         "test_6",
         "Person1은 Person2가 계속해서 몸을 긁는 것을 보고 이유를 묻습니다. Person2는 간지러움과 피로감을 느끼며 뭔가 걸린 것 같다고 대답합니다. Person1은 Person2를 살펴보고 수두를 의심하며 전염될 수 있으니 가까이 오지 말라고 경고합니다. Person2는 수두일 수도 있지만 발진이나 알레르기일 수도 있다고 주장하며, 오트밀 목욕을 하러 갑니다."
        ],
        [
         "7",
         "test_7",
         "Person2는 309호에 묵고 있으며 체크아웃하려고 청구서를 요청했습니다. 청구서에 30달러의 세탁 서비스 요금이 포함되어 있어 Person2는 이를 부인하고 다른 사람의 요금이 잘못 추가된 것 같다고 말했습니다. Person1은 관련 부서에 확인 후 착오가 있었음을 확인하고 청구서를 수정했습니다. Person2는 수정된 청구서를 확인하고 체크아웃을 마쳤습니다."
        ],
        [
         "8",
         "test_8",
         "친구인 스티븐에게 자신의 아내가 자신의 비서와의 외도를 알게 되어 이혼을 요구했다고 고백했습니다. 아내는 10년 동안의 결혼 생활 동안 그를 속였다는 사실에 충격을 받았지만, 그는 외도가 최근 두 달간만 지속되었으며 여전히 아내를 사랑하고 그녀 없이는 살 수 없다고 표현했습니다. 스티븐은 그를 위해 아내를 설득하여 이혼을 재고하도록 노력할 것을 약속했으며, 그는 이제부터 아내에게 충실할 것을 맹세했습니다."
        ],
        [
         "9",
         "test_9",
         "Person1과 Person2는 인품이 뛰어난 사람에 대해 이야기합니다. Person2는 아브라함 링컨을 언급하며 그의 인품에 대해 이야기합니다. 링컨은 한 여성에게 거스름돈을 주기 위해 5마일이나 걸어 다녔던 일화와 그의 목표를 포기하지 않는 끈기, 평등한 권리를 위한 용기, 그리고 겸손함을 존경받는 이유로 언급합니다. Person1도 링컨의 큰 비전과 여러 번의 출마 끝에 대통령이 된 사실을 인정하며 그의 인품을 존경합니다. 두 사람 모두 링컨을 직접 만나보고 싶다고 생각합니다."
        ],
        [
         "10",
         "test_10",
         "Person1과 Person2는 여행 목적지에 대해 이야기하고 있었다. Person2는 허베이를 제안했지만, Person1은 중국 북부에서 심한 황사와 6급 강풍이 몰아친다는 소식을 언급했다. Person2는 황사가 지역 주민들에게 어떤 영향을 미치는지 물었고, Person1은 황사 후 호흡기 감염 환자 수가 증가한다는 보고서를 언급하며 모래가 코와 목을 자극한다고 설명했다. 두 사람 모두 황사가 모두에게 문제가 된다는 데 동의했다."
        ],
        [
         "11",
         "test_11",
         "Francis는 자신의 생일 파티에 참석한 Person2에게 감사의 말을 전했고, Person2는 Francis에게 선물을 주며 생일 축하 인사를 전했습니다. Francis는 선물을 열어보고 원격 조종 자동차 모델을 받아 매우 기뻐하며, Person2가 좋아하는 브랜드의 제품이라는 점에 더욱 만족감을 표현했습니다. Person2는 이 선물이 고민 끝에 선택한 멋진 작은 차라고 설명했고, Francis는 Person2가 항상 좋은 것들을 스스로 가지려는 성격 때문에 선물이 더욱 값지게 느껴진다고 답했습니다."
        ],
        [
         "12",
         "test_12",
         "Tony는 Steven에게 큰 실수를 저질렀다고 고백했다. 그는 부정행위를 하다가 들켜서 불합격 처리되었고, 이에 대해 큰 부끄러움을 느끼고 있다. Tony는 아버지에게 큰 실망을 안겨줄까봐 걱정하며, 자신의 행동에 대해 후회하고 있다. Steven은 Tony에게 실수에서 배우라고 조언한다."
        ],
        [
         "13",
         "test_13",
         "Person1은 톰에게 시간을 묻고, 톰은 8시 50분이라고 대답합니다. Person1은 9시 30분 기차를 타야 한다고 말하며 급하다고 표현하지만, 톰은 역이 가까워서 시간이 충분하다고 안심시킵니다."
        ],
        [
         "14",
         "test_14",
         "Person1은 자신의 삶을 어떻게 조정해야 할지 모르겠다고 하며 조언을 구합니다. 그들은 잠을 잘 못 자고, 와인을 많이 마시며, 자주 피곤함을 느끼고, 죽음의 그림자를 느낀다고 밝힙니다. Person2는 Person1에게 충분히 자고, 와인을 마시지 말고, 매일 아침 운동을 하라고 조언합니다. 또한, Person1이 젊고 미래에 큰 기여를 할 것이라고 격려하며, Person1이 그들의 조언을 받아들이길 바랍니다."
        ],
        [
         "15",
         "test_15",
         "Ruojia가 어제 결혼했고, 그녀의 파티가 오늘 밤 그녀의 집에서 열립니다. Person1은 트위터와 이메일을 통해 결혼 소식을 알게 되었고, 파티에 와인잔과 결혼 축하 카드를 가져갈 계획입니다. Person2는 이메일을 확인하고 파티에 다기 세트를 가져갈 생각입니다. 두 사람 모두 Ruojia의 결혼에 대해 놀랍고 기뻐합니다."
        ],
        [
         "16",
         "test_16",
         "The dialogue involves Person1 and Person2 engaging in a playful yet mischievous activity, which includes pulling a strip, removing its back, and possibly taking a photo of two elderly individuals, whom Person1 humorously misidentifies as either 'grandmas' or 'grandpas.' Person2 expresses concern about potentially making enemies but joins in the activity after Person1 playfully challenges their friendship. The overall tone is lighthearted and teasing."
        ],
        [
         "17",
         "test_17",
         "Person1이 Person2에게 그의 여동생의 외모와 성격에 대해 묻습니다. Person2는 여동생이 예쁘고 키가 크며 가족들과 닮았다고 설명합니다. 또한, 가족들이 친절하고 성격이 좋다고 언급합니다. Person1이 여동생이 Person2만큼 똑똑한지 묻자, Person2는 그렇지 않다고 답하고, Person1은 이를 듣고 장난스럽게 Person2를 놀립니다."
        ],
        [
         "18",
         "test_18",
         "The conversation involves Person1 experiencing a headache and mild fever, prompting Person2 to suggest that they inform the school about their illness for a future absence, recommending that a parent make the necessary contact."
        ],
        [
         "19",
         "test_19",
         "고객은 카메라, MP3 플레이어, 영상 통화 기능이 있는 새 휴대폰을 찾고 있습니다."
        ],
        [
         "20",
         "test_20",
         "프랭크는 우체국에서 새로운 직장을 시작했으며, 이 직장은 좋은 건강보험 혜택 때문에 선택했다. 업무 일정은 매일 아침 5시 출근과 짧은 점심시간으로 빡빡하지만, 정부에서 제공하는 건강보험은 직원뿐만 아니라 가족들에게도 적용되어 아이들이 무료로 의료 서비스를 받을 수 있다. 프랭크는 이러한 혜택 때문에 힘든 일정에도 불구하고 우체국에서 일하고 싶어했다."
        ],
        [
         "21",
         "test_21",
         "Person2는 컴퓨터 프로그래밍과 비서 업무를 잘할 수 있는 기술을 가지고 있다고 언급했습니다. 자격증으로는 의사 면허증과 운전 면허증을 소지하고 있습니다. 사무 기술에 대해서는 케임브리지 영어 시험에서 First Certificate와 Certificate of Proficiency를 합격했으며, 런던의 루카스 비서 학원에서 1년간 공부하며 영문 속기 1분에 120단어, 타자 1분에 50단어의 속도를 달성했습니다. 또한, 사무 절차 관련 훈련도 받았다고 합니다. 이 직책에 적합한 경력으로는 타자, 속기, 팩스 기계 운용 등의 특별한 훈련을 받았으며, IBM-PC에 대한 경험이 있고, 워드 프로세서, 팩스 기계, 사진기기 및 기타 사무 장비를 능숙하게 다룰 수 있다고 설명했습니다."
        ],
        [
         "22",
         "test_22",
         "손님이 스테이크를 미디엄 레어로 주문했으나, 너무 잘 익고 질겨서 바꿔달라고 요청했습니다. 직원은 다른 스테이크를 가져다 주겠다고 답변하며 몇 분 정도 기다려야 한다고 알렸습니다. 손님은 이에 동의하고 감사의 말을 전했습니다."
        ],
        [
         "23",
         "test_23",
         "Person1 알린다 Person2의 소설이 노벨상을 받았다고. Person2는 이 소식에 놀라며 기쁨을 표현하고, Person1은 Person2를 칭찬하며 축하 파티를 열자고 제안한다."
        ],
        [
         "24",
         "test_24",
         "The candidate believes they are suitable for the job due to their automotive design major and a master's degree in science. In their previous job as a student engineer, they conducted research on the mechanical strength and corrosion resistance of various materials."
        ],
        [
         "25",
         "test_25",
         "Person1과 Person2는 술에 대해 이야기합니다. Person1은 술을 많이 마시지 않고, 보통 맥주 두 잔만 마신다고 합니다. 반면 Person2는 일주일에 두세 번 정도 술을 마시며, 보통 밤새 10잔 이상을 마신다고 합니다. Person1은 세 잔 이상 마시면 두통이 와서 술을 많이 마시지 않는다고 하고, Person2는 적응하면 괜찮아진다고 조언합니다. Person2는 프로모션이 있는 술집을 자주 이용해 돈을 절약한다고 하며, 다음 날 밤에 램 바 & 그릴에서 피처 프로모션을 이용하자고 제안하고 Person1은 동의합니다."
        ],
        [
         "26",
         "test_26",
         "엄마와 메이는 가족 소풍을 준비하고 있다. 일기예보에 따르면 날씨가 맑을 것이고 비가 오지 않을 것이다. 메이는 토스트와 치킨 윙을 먹고 싶다고 하며, 엄마는 과일 샐러드와 크래커를 준비하겠다고 한다. 메이는 냅킨, 일회용 접시, 컵, 소풍용 담요도 잊지 말라고 상기시킨다. 소풍 준비를 마친 후, 메이는 거실로 물건을 옮기는 것을 도와주기로 하고, 다니엘의 도움은 필요 없다고 말한다."
        ],
        [
         "27",
         "test_27",
         "Muriel Douglas와 James는 처음으로 만나 인사를 나누며 반가움을 표했다. James는 Muriel에게 새 계정에 대한 회의에 참석해줘서 감사하다고 전하고, 동료인 Susan Kim이 곧 합류할 것이라고 알렸다. 간단한 소소한 대화에서 둘은 휴일 계획을 공유했고, James는 Tahoe에서 스키를 즐겼다고, Muriel은 L.A.에서 휴식을 취하며 '킹콩' 영화를 봤다고 말했다. James는 '킹콩'에 대한 의견을 물었고, Muriel은 예상보다 좋았다고 답했다. 그들은 여행에 대해 이야기하며, James는 아내가 스키를 좋아하지 않아 따뜻한 곳을 선호한다고 언급했다. Muriel은 하와이를 몇 년 전에 방문했고 다시 가고 싶다고 말했다. 대화가 마무리될 때 James는 Susan이 도착했다고 알리며 그녀를 소개했다."
        ],
        [
         "28",
         "test_28",
         "A man becomes increasingly frustrated while using an ATM, mistakenly believing it is malfunctioning. He attempts to withdraw money but instead accidentally initiates a large donation to the World Wildlife Foundation. Despite his protests, the transaction is completed, and the ATM locks him inside, informing him that the authorities have been alerted."
        ],
        [
         "29",
         "test_29",
         "Person1은 Person2에게 사람들하고 잘 어울리는지 묻고, Person2는 사교적인 사람이라고 답한다. 이어서 Person1은 직장 동료들과 대화할 때 사용하는 전략을 묻고, Person2는 대화에서 진심을 전하는 것이 중요하다고 답한다."
        ],
        [
         "30",
         "test_30",
         "Person1은 Mr. Polly에게 무슨 문제가 있는지 묻고, Mr. Polly는 현재 일을 잠시 쉬고 싶다고 답합니다. Person1은 음료수를 사오는 것을 제안하지만, 가게에 Person1의 상사가 있어서 직접 가기를 꺼려합니다. 결국 Mr. Polly는 직접 가게에 가기로 결정하지만, 지갑에 충분한 돈이 없어 음료수를 살 수 있을지 걱정합니다. Person1은 시도해보라고 격려합니다."
        ],
        [
         "31",
         "test_31",
         "Francis and Monica discuss scheduling a meeting to review a financial report. Francis is busy all day but is available from 1 PM to 4 PM on Friday. Monica agrees to meet on Friday afternoon."
        ],
        [
         "32",
         "test_32",
         "Person1은 다음 주 인터뷰를 준비하기 위해 인터뷰 준비 워크숍에 참가하게 되어 기대감을 표현했습니다. Person2는 인터뷰에 들어가기 전 중요한 고려사항으로 깔끔하고 적절한 옷차림과 태도, 친절함의 중요성을 강조했습니다. 또한, 면접관들은 지원자의 대답뿐만 아니라 질문에도 관심이 많으며, 항상 정직하게 대답하는 것이 중요하다고 언급했습니다. Person1은 이러한 조언에 동의하며 친절함이 기분을 좋게 만든다고 덧붙였습니다."
        ],
        [
         "33",
         "test_33",
         "감독은 Mike의 연기에서 Laura가 그를 더 이상 보고 싶지 않다는 말에 대한 분노가 부족하다고 느꼈다. Mike는 3년 동안 함께한 관계에서 분노와 슬픔이 함께 나타날 수 있다고 주장했지만, 감독은 처음에는 주로 분노를 표현하고 나중에 진정한 감정을 보여주길 원했다. 결국 감독은 먼저 자신의 방식대로 연기하고, 그 후에 여전히 부적절하다고 느껴진다면 다른 방법을 시도해 보기로 결정했다."
        ],
        [
         "34",
         "test_34",
         "Person1은 Mrs. Todd에게 아내와 쇼핑하러 가야 해서 떠나야 한다고 말하며, 주말에 할 일이 많다는 것에 공감한다. Person1은 아내와 Mrs. Todd의 집에 방문하기로 이야기했으며, 정원에서 보이길래 인사하러 왔다고 설명한다. Mrs. Todd는 Person1이 찾아와줘서 감사하다고 전한다. Person1은 Mrs. Todd가 필요한 것이 있는지 묻고, Mrs. Todd는 감사의 인사를 전한다. Person1은 만나서 반가웠다고 말하며 대화가 마무리된다."
        ],
        [
         "35",
         "test_35",
         "Person1은 Person2의 창백한 얼굴을 보고 무슨 일이 있는지 묻고, Person2는 이번 주 매일 밤 열 시까지 일하느라 피곤하다고 답합니다. Person1은 Person2에게 오늘은 일찍 집에 가서 쉬라고 권유합니다. 대화는 Person2의 형에 대한 이야기로 넘어가며, 형이 출장으로 미국에 갔고 아직 돌아오지 않았다는 것을 알게 됩니다. Person1은 친구를 만나기로 했다며 시간을 확인하고, Person2의 시계를 빌려 시간을 확인한 후 떠납니다."
        ],
        [
         "36",
         "test_36",
         "Simon은 Cleo에게 핵무기 확산을 막는 시위 참여를 권유하지만, Cleo는 시위가 싫고 복잡하다는 이유로 거절한다. Simon은 시위가 평화로울 것이며, 정치인들의 생각을 바꿀 수 있다고 설득하지만, Cleo는 여전히 관심이 없다. 결국 Cleo는 물리 시험 공부를 위해 시위에 참여하지 않기로 결정하고, Simon은 혼자 시위에 참여하기로 한다."
        ],
        [
         "37",
         "test_37",
         "Person1 criticizes Person2 for letting an unexpected person in, while Person2 explains that it's easy to trust someone who claims to be there for 'electricity' or 'gas', especially if they show identification. Person2 highlights the difficulty in being cautious when someone presents themselves as an official worker."
        ],
        [
         "38",
         "test_38",
         "Mark는 저녁에 슈퍼마켓에서 일하기 때문에 수업 중에 피곤해서 Maggie의 역사 노트가 필요하다고 요청했습니다. Maggie는 보통 카페테리아에서 노트를 보기 때문에 도서관에서 복사하는 것을 제안했습니다. Mark는 이에 동의했습니다. Maggie는 Mark가 수업에 빠지지 않았음에도 불구하고 노트가 필요한 이유를 물었고, Mark는 수업 중에 졸려서 노트를 잘 못 쓴다고 설명했습니다. 이에 Maggie는 같이 공부할 스터디 파트너가 되자고 제안했고, Mark는 이를 수락했습니다. 그들은 오늘 도서관에서 스터디를 시작하기로 결정했습니다."
        ],
        [
         "39",
         "test_39",
         "Person2는 Turner 교수에게 다음 학기에 제공하는 지질학 고급 과목에 3학년인데도 불구하고 등록할 수 있는지 문의했다. Turner 교수는 보통 4학년 학생들이 듣는 과목이며 어렵다고 설명했지만, Person2가 미국 서부 지질학에 대한 관심과 준비를 언급하자, Burman 교수에게 문의한 후 등록을 허락할 수 있다고 답했다. Person2는 감사의 말을 전했다."
        ],
        [
         "40",
         "test_40",
         "고객이 가게에서 구매한 펜던트가 호텔로 돌아오는 동안 깨졌다고 문의했다. 가게 직원은 교환을 위해 영수증을 가지고 10시까지 가게로 오라고 안내했고, 고객은 감사의 말을 전했다."
        ],
        [
         "41",
         "test_41",
         "The dialogue is about two people, Person1 and Person2, who are having a disagreement. Person1 is trying to get Person2's opinion on some clothes and gifts for the Boxing Day sale, while Person2 is trying to watch a game. Person1 becomes frustrated because Person2 is not paying attention and is more focused on the game. The conversation escalates, with both parties making sarcastic comments about each other's interests. Person1 ends up threatening to leave and never return, possibly to avoid further conflict."
        ],
        [
         "42",
         "test_42",
         "Person1과 Person2는 다양한 직업 선택에 대해 논의합니다. Person2는 미디어 업계에서의 일을 흥미롭게 생각하며, 특히 TV, 신문, 인터넷 등 다양한 매체에 관심을 가집니다. 그러나 Person2는 뉴스 디렉터 업무의 스트레스를 우려하고, 대신 컴퓨터와 관련된 인터랙티브 미디어 분야를 선호한다고 밝힙니다. Person1은 Person2의 관심사를 고려하여 잡지에 글을 쓰는 것을 제안하지만, Person2는 컴퓨터와 관련된 일을 더 흥미롭게 생각합니다. 결국 Person2는 인터랙티브 미디어 분야에서의 직업을 선택하고자 합니다."
        ],
        [
         "43",
         "test_43",
         "Person1은 Person2가 도착하자마자 지루해하는 것에 대해 걱정하고 있습니다. Person1은 자신이 데일리 뉴스에서 일하고 있기 때문에 연설을 듣고 노트를 작성하며 나중에 인터뷰를 해야 한다고 설명합니다. Person2는 아이팟과 헤드폰을 가져왔지만, Person1은 연설 중에 음악을 듣는 것이 예의에 어긋날 수 있다고 생각합니다. Person1은 자신의 가방에 있는 옛날 신문을 제안하며, 그 안에 있는 만화 섹션을 읽어보라고 합니다. Person1은 현재 말하고 있는 자선 단체의 수장의 말을 잘 들어야 한다고 강조합니다."
        ],
        [
         "44",
         "test_44",
         "사라와 상대방은 이사 가능성에 대해 논의합니다. 사라는 현재 남편과 함께 이사할 여유가 없다고 말하지만, 회사 근처의 비싼 집 대신 도시 중심에서 떨어진 곳에 더 저렴한 집을 찾는 방법을 제안받습니다. 사라는 이 아이디어에 관심을 보이며, 상대방은 자신의 시누이와 그녀의 남편이 그렇게 집을 사서 만족하고 있다고 언급합니다. 사라는 그 집의 상태와 위치에 대해 질문하고, 상대방은 그 집이 50년 정도 됐지만 수리가 크게 필요하지 않았으며, 위치는 저녁에 약간 위험할 수 있지만 이웃들이 서로를 잘 챙겨준다고 설명합니다."
        ],
        [
         "45",
         "test_45",
         "Mark Leach는 런던의 영국 관광청 관광 사무소에서 정보 담당관으로 일하고 있습니다. 그는 해외 방문객들에게 관광 정보를 제공하는 역할을 하며, 매년 약 50만 명의 방문객을 맞이합니다. Mark는 10명의 담당관으로 구성된 정보팀을 총괄하며, 총 13개 언어를 구사하여 방문객들에게 직접 카운터에서 정보를 제공합니다. 그들의 업무는 런던에서의 당일 여행 계획부터 2주간의 영국 여행 계획까지 다양한 요구를 충족시키는 원스톱 샵 역할을 합니다. Mark는 영국을 방문하는 사람들에게 가능한 한 많은 곳을 보고, 여러 차례 방문하여 영국의 다양한 지역을 경험하라고 제안합니다."
        ],
        [
         "46",
         "test_46",
         "Lucy와 Lin Fang은 서로의 좋아하는 과목에 대해 이야기합니다. Lucy는 영어를 가장 좋아하고, Lin Fang은 영어를 어려워하지만 중국어를 가장 좋아하는 것 같습니다. Lucy는 수학을 싫어하고, Lin Fang은 체육을 좋아하지 않습니다. 두 사람 모두 Nancy의 영어와 과학에 대한 선호도를 언급하며, 각자의 관심사가 다르다는 것을 알아차립니다."
        ],
        [
         "47",
         "test_47",
         "James는 Mrs. Thomas의 뜰에서 낙엽을 치우고 앞 계단을 쓸고 쓰레기를 버리는 일을 마쳤습니다. Mrs. Thomas는 James에게 그녀의 개 Oscar를 토요일마다 산책시켜 줄 수 있는지 물었고, James는 동의했습니다. Mrs. Thomas는 다리를 다쳐 집안일이 힘들다고 말하며, James의 주말 도움에 감사를 표했습니다. James는 농구 연습을 위해 자전거를 사기 위해 돈을 모으고 있으며, 다음 주말에는 할아버지를 방문하러 가지 못하지만 그의 여동생 Allison이 대신 도와줄 것이라고 말했습니다."
        ],
        [
         "48",
         "test_48",
         "봄이 온 것 같지만, 밤에는 여전히 추워서 아파트가 얼어붙을 것 같고, 6일 전에 난방을 껐음에도 불구하고 에어컨으로 온풍을 틀어야 한다는 이야기입니다. 밖에 있으면 바람이 조금만 불어도 춥게 느껴진다는 점도 언급되었습니다."
        ],
        [
         "49",
         "test_49",
         "감독(Person1)은 배우(Person2)의 연기가 캐릭터의 감정을 충분히 전달하지 못했다고 판단하여 재촬영을 요청합니다. 캐릭터는 여자친구로부터 이별을 통보받았지만, 현재의 연기에서는 상처받고 슬픈 감정이 드러나며, 감독이 원하는 화난 감정이 부족합니다. 배우는 캐릭터의 반응이 화와 슬픔이 동시에 나타나야 한다고 생각하지만, 감독은 처음에는 대부분의 남자들이 반응할 법한 화난 감정이 우선되어야 한다고 설명합니다. 감독은 배우에게 자신의 방식대로 연기해보라고 제안하며, 그래도 만족스럽지 않다면 다른 방법을 시도할 수 있다고 말합니다."
        ]
       ],
       "shape": {
        "columns": 2,
        "rows": 499
       }
      },
      "text/html": [
       "<div>\n",
       "<style scoped>\n",
       "    .dataframe tbody tr th:only-of-type {\n",
       "        vertical-align: middle;\n",
       "    }\n",
       "\n",
       "    .dataframe tbody tr th {\n",
       "        vertical-align: top;\n",
       "    }\n",
       "\n",
       "    .dataframe thead th {\n",
       "        text-align: right;\n",
       "    }\n",
       "</style>\n",
       "<table border=\"1\" class=\"dataframe\">\n",
       "  <thead>\n",
       "    <tr style=\"text-align: right;\">\n",
       "      <th></th>\n",
       "      <th>fname</th>\n",
       "      <th>summary</th>\n",
       "    </tr>\n",
       "  </thead>\n",
       "  <tbody>\n",
       "    <tr>\n",
       "      <th>0</th>\n",
       "      <td>test_0</td>\n",
       "      <td>#Person1#은 Ms. Dawson에게 즉시 메시지 사용 금지 정책을 모든 직원...</td>\n",
       "    </tr>\n",
       "    <tr>\n",
       "      <th>1</th>\n",
       "      <td>test_1</td>\n",
       "      <td>Person1과 Person2는 Person2가 집에 오는 데 걸린 시간에 대해 대...</td>\n",
       "    </tr>\n",
       "    <tr>\n",
       "      <th>2</th>\n",
       "      <td>test_2</td>\n",
       "      <td>Masha와 Hero가 두 달간의 별거 끝에 이혼 신청을 했으며, Masha가 양육...</td>\n",
       "    </tr>\n",
       "    <tr>\n",
       "      <th>3</th>\n",
       "      <td>test_3</td>\n",
       "      <td>Person1은 Person2의 생일을 축하하며 선물을 주고 파티에 초대받았습니다....</td>\n",
       "    </tr>\n",
       "    <tr>\n",
       "      <th>4</th>\n",
       "      <td>test_4</td>\n",
       "      <td>Person1과 Person2는 올림픽 공원의 중심인 올림픽 스타디움에 있습니다. ...</td>\n",
       "    </tr>\n",
       "    <tr>\n",
       "      <th>...</th>\n",
       "      <td>...</td>\n",
       "      <td>...</td>\n",
       "    </tr>\n",
       "    <tr>\n",
       "      <th>494</th>\n",
       "      <td>test_495</td>\n",
       "      <td>Jack은 Charlie에게 학교 후에 자신의 집에 와서 새로 산 캐릭터 커스터마이...</td>\n",
       "    </tr>\n",
       "    <tr>\n",
       "      <th>495</th>\n",
       "      <td>test_496</td>\n",
       "      <td>Person2는 아내와 함께 레코드 플레이어를 구입하고 다양한 레코드를 사기 시작하...</td>\n",
       "    </tr>\n",
       "    <tr>\n",
       "      <th>496</th>\n",
       "      <td>test_497</td>\n",
       "      <td>Person1은 Alice에게 세탁기 사용법을 물어보고, 비누가 필요하다는 것을 알...</td>\n",
       "    </tr>\n",
       "    <tr>\n",
       "      <th>497</th>\n",
       "      <td>test_498</td>\n",
       "      <td>Steve와 Matthew는 오랜만에 만나 인사를 나누었습니다. Steve는 Mat...</td>\n",
       "    </tr>\n",
       "    <tr>\n",
       "      <th>498</th>\n",
       "      <td>test_499</td>\n",
       "      <td>Frank는 Betsy에게 승진을 알리며 친구들을 초대해 토요일에 큰 파티를 열 계...</td>\n",
       "    </tr>\n",
       "  </tbody>\n",
       "</table>\n",
       "<p>499 rows × 2 columns</p>\n",
       "</div>"
      ],
      "text/plain": [
       "        fname                                            summary\n",
       "0      test_0  #Person1#은 Ms. Dawson에게 즉시 메시지 사용 금지 정책을 모든 직원...\n",
       "1      test_1  Person1과 Person2는 Person2가 집에 오는 데 걸린 시간에 대해 대...\n",
       "2      test_2  Masha와 Hero가 두 달간의 별거 끝에 이혼 신청을 했으며, Masha가 양육...\n",
       "3      test_3  Person1은 Person2의 생일을 축하하며 선물을 주고 파티에 초대받았습니다....\n",
       "4      test_4  Person1과 Person2는 올림픽 공원의 중심인 올림픽 스타디움에 있습니다. ...\n",
       "..        ...                                                ...\n",
       "494  test_495  Jack은 Charlie에게 학교 후에 자신의 집에 와서 새로 산 캐릭터 커스터마이...\n",
       "495  test_496  Person2는 아내와 함께 레코드 플레이어를 구입하고 다양한 레코드를 사기 시작하...\n",
       "496  test_497  Person1은 Alice에게 세탁기 사용법을 물어보고, 비누가 필요하다는 것을 알...\n",
       "497  test_498  Steve와 Matthew는 오랜만에 만나 인사를 나누었습니다. Steve는 Mat...\n",
       "498  test_499  Frank는 Betsy에게 승진을 알리며 친구들을 초대해 토요일에 큰 파티를 열 계...\n",
       "\n",
       "[499 rows x 2 columns]"
      ]
     },
     "execution_count": 17,
     "metadata": {},
     "output_type": "execute_result"
    }
   ],
   "source": [
    "output  # 각 대화문에 대한 요약문이 출력됨을 확인할 수 있습니다."
   ]
  },
  {
   "cell_type": "markdown",
   "metadata": {},
   "source": [
    "## 3. Prompt Engineering\n",
    "- Prompt engineering을 통해 요약 성능 향상을 시도합니다."
   ]
  },
  {
   "cell_type": "code",
   "execution_count": 18,
   "metadata": {},
   "outputs": [
    {
     "name": "stdout",
     "output_type": "stream",
     "text": [
      "Sample Dialogue1:\n",
      "#Person1#: 그 조직에 대해 조금 설명해 주시겠어요? 여기 인력은 얼마나 되나요?\n",
      "#Person2#: 홍콩에는 약 150명이 있고, 베이징 본사에는 400명이 더 있습니다. 홍콩 뉴스 데스크에는 약 80명이 있어요.\n",
      "#Person1#: 그렇군요. 근무 시간은 어떻게 되나요?\n",
      "#Person2#: 기자들은 근무 시간이 정해져 있지 않아요. 언제든지 호출될 수 있고, 가끔은 불편한 시간에도 일해야 해요.\n",
      "#Person1#: 그런 건 익숙해요, 파슨스 씨. 놀랄 일은 아니에요.\n",
      "#Person2#: 다행이네요, 그 점을 이해해 주셔서.\n",
      "#Person1#: 그리고 그 공석은 언제까지 채워야 하나요, 파슨스 씨?\n",
      "#Person2#: 어제부터 채우고 싶었어요. 하지만, 다음 달 초부터 시작하길 바랍니다.\n",
      "#Person1#: 그게 제일 이상적이네요.\n",
      "\n",
      "Sample Summary1: 파슨스 씨는 레베카에게 조직의 인력과 기자들의 유동적인 근무 시간에 대해 설명하며, 공석은 다음 달 초에 채우고자 한다고 말합니다.\n",
      "\n"
     ]
    }
   ],
   "source": [
    "# Few-shot prompt를 생성하기 위해, train data의 일부를 사용합니다.\n",
    "few_shot_samples = train_df.sample(1)\n",
    "\n",
    "sample_dialogue1 = few_shot_samples.iloc[0]['dialogue']\n",
    "sample_summary1 = few_shot_samples.iloc[0]['summary']\n",
    "\n",
    "print(f\"Sample Dialogue1:\\n{sample_dialogue1}\\n\")\n",
    "print(f\"Sample Summary1: {sample_summary1}\\n\")"
   ]
  },
  {
   "cell_type": "code",
   "execution_count": 19,
   "metadata": {},
   "outputs": [],
   "source": [
    "# Prompt를 생성하는 함수를 수정합니다.\n",
    "def build_prompt(dialogue):\n",
    "    system_prompt = \"You are a expert in the field of dialogue summarization, summarize the given dialogue in a concise manner. Follow the user's instruction carefully and provide a summary that is relevant to the dialogue.\"\n",
    "\n",
    "    user_prompt = (\n",
    "        \"Following the instructions below, summarize the given document.\\n\"\n",
    "        \"Instructions:\\n\"\n",
    "        \"1. Read the provided sample dialogue and corresponding summary.\\n\"\n",
    "        \"2. Read the dialogue carefully.\\n\"\n",
    "        \"3. Following the sample's style of summary, provide a concise summary of the given dialogue.\\n\\n\"\n",
    "        \"Sample Dialogue:\\n\"\n",
    "        f\"{sample_dialogue1}\\n\\n\"\n",
    "        \"Sample Summary:\\n\"\n",
    "        f\"{sample_summary1}\\n\\n\"\n",
    "        \"Dialogue:\\n\"\n",
    "        f\"{dialogue}\\n\\n\"\n",
    "        \"Summary:\\n\"\n",
    "    )\n",
    "    \n",
    "    return [\n",
    "        {\n",
    "            \"role\": \"system\",\n",
    "            \"content\": system_prompt\n",
    "        },\n",
    "        {\n",
    "            \"role\": \"user\",\n",
    "            \"content\": user_prompt\n",
    "        }\n",
    "    ]"
   ]
  },
  {
   "cell_type": "code",
   "execution_count": 20,
   "metadata": {},
   "outputs": [
    {
     "name": "stdout",
     "output_type": "stream",
     "text": [
      "Dialogue:\n",
      "#Person1#: 안녕하세요, Mr. Smith. 저는 Dr. Hawkins입니다. 오늘 무슨 일로 오셨어요? \n",
      "#Person2#: 건강검진을 받으려고 왔어요. \n",
      "#Person1#: 네, 5년 동안 검진을 안 받으셨네요. 매년 한 번씩 받으셔야 해요. \n",
      "#Person2#: 알죠. 특별히 아픈 데가 없으면 굳이 갈 필요가 없다고 생각했어요. \n",
      "#Person1#: 음, 심각한 질병을 피하려면 미리 발견하는 게 제일 좋거든요. 본인을 위해서라도 매년 한 번은 오세요. \n",
      "#Person2#: 알겠습니다. \n",
      "#Person1#: 여기 좀 볼까요. 눈과 귀는 괜찮으시네요. 깊게 숨 한 번 쉬어보세요. Mr. Smith, 담배 피우세요? \n",
      "#Person2#: 네. \n",
      "#Person1#: 담배가 폐암하고 심장병의 주된 원인인 거 아시죠? 끊으셔야 해요. \n",
      "#Person2#: 수백 번 시도했는데, 도저히 습관이 안 끊어져요. \n",
      "#Person1#: 음, 도움 될만한 수업과 약물들이 있습니다. 가시기 전에 더 정보를 드릴게요. \n",
      "#Person2#: 네, 고맙습니다, 의사 선생님.\n",
      "\n",
      "Pred Summary: Dr. Hawkins는 Mr. Smith에게 5년 만에 받은 건강검진에 대해 상기시키며, 매년 검진의 중요성을 강조한다. 또한, Mr. Smith의 흡연 습관에 대해 우려를 표하고, 금연을 위한 도움과 정보를 제공하겠다고 말한다.\n",
      "\n",
      "Gold Summary: Mr. Smith는 Dr. Hawkins에게 건강검진을 받으러 와서, 매년 검진 필요성을 안내받고 흡연 습관 개선을 위한 도움을 제안받았습니다.\n",
      "\n",
      "====================================================================================================\n",
      "Dialogue:\n",
      "#Person1#: 안녕하세요, Mrs. Parker. 잘 지내셨나요?\n",
      "#Person2#: 안녕하세요, Dr. Peters. 잘 지내고 있어요. Ricky랑 저희 둘 다 백신 맞으러 왔어요.\n",
      "#Person1#: 알겠습니다. 백신 기록을 보니 Ricky는 소아마비, 파상풍, 그리고 B형 간염 예방접종을 받았네요. 지금 14개월이라 A형 간염, 수두, 홍역 예방접종을 맞아야 해요.\n",
      "#Person2#: 풍진과 유행성이하선염은요?\n",
      "#Person1#: 지금은 이 정도만 맞고, 몇 주 후에 나머지를 할 수 있어요.\n",
      "#Person2#: 좋아요. 그리고 저도 파상풍 부스터가 필요할 것 같아요. 마지막으로 맞은 지 아마 15년은 된 것 같아요!\n",
      "#Person1#: 기록을 확인해서 간호사에게 부스터도 맞출 수 있도록 할게요. 이제 Ricky 팔 꽉 잡아주세요, 좀 따끔할 수 있어요.\n",
      "\n",
      "Pred Summary: Dr. Peters는 Mrs. Parker에게 Ricky의 현재 백신 기록과 필요한 추가 예방접종에 대해 설명하며, MMR은 몇 주 후에 맞을 수 있다고 말합니다. 또한, Mrs. Parker의 파상풍 부스터 필요성에 대해 언급하고 기록을 확인하여 간호사에게 부스터도 맞출 수 있도록 할 것이라고 말합니다.\n",
      "\n",
      "Gold Summary: Mrs. Parker가 Ricky와 함께 백신 접종을 위해 방문하였고, Dr. Peters는 Ricky에게 적절한 백신을 접종하도록 안내합니다.\n",
      "\n",
      "====================================================================================================\n",
      "Dialogue:\n",
      "#Person1#: 저기요, 열쇠 세트 본 적 있어요?\n",
      "#Person2#: 어떤 종류의 열쇠요?\n",
      "#Person1#: 열쇠 다섯 개랑 작은 발 장식이 달려 있어요.\n",
      "#Person2#: 아, 안타깝네요! 못 봤어요.\n",
      "#Person1#: 그럼, 같이 좀 찾아주실 수 있어요? 여긴 처음이라서요.\n",
      "#Person2#: 물론이죠. 도와드릴게요.\n",
      "#Person1#: 정말 친절하시네요.\n",
      "#Person2#: 별거 아니에요. 이봐요, 찾았어요.\n",
      "#Person1#: 아, 감사합니다! 어떻게 감사해야 할지 모르겠네요.\n",
      "#Person2#: 천만에요.\n",
      "\n",
      "Pred Summary: 두 번째 사람은 다섯 개의 열쇠와 작은 발 장식이 달린 열쇠 세트를 찾는 첫 번째 사람을 도와주기로 하고, 결국 열쇠를 찾아준다.\n",
      "\n",
      "Gold Summary: #Person1#은 열쇠 세트를 잃어버리고 #Person2#에게 찾는 것을 도와달라고 요청합니다.\n",
      "\n",
      "====================================================================================================\n"
     ]
    }
   ],
   "source": [
    "# 변경된 prompt를 사용하여, train data 중 처음 3개의 대화를 요약하고, 결과를 확인합니다.\n",
    "if __name__ == \"__main__\":\n",
    "    test_on_train_data()"
   ]
  },
  {
   "cell_type": "code",
   "execution_count": 21,
   "metadata": {},
   "outputs": [
    {
     "name": "stderr",
     "output_type": "stream",
     "text": [
      "100%|██████████| 100/100 [01:30<00:00,  1.10it/s]"
     ]
    },
    {
     "name": "stdout",
     "output_type": "stream",
     "text": [
      "Validation Average Score: 0.1484040797535704\n"
     ]
    },
    {
     "name": "stderr",
     "output_type": "stream",
     "text": [
      "\n"
     ]
    }
   ],
   "source": [
    "# 변경된 prompt를 사용하여, validation data의 대화를 요약하고, 점수를 측정합니다.\n",
    "if __name__ == \"__main__\":\n",
    "    validate(100)"
   ]
  },
  {
   "cell_type": "markdown",
   "metadata": {},
   "source": [
    "다른 방식으로 Few-shot sample을 제공하여 Prompt를 구성해 봅니다."
   ]
  },
  {
   "cell_type": "code",
   "execution_count": 22,
   "metadata": {},
   "outputs": [],
   "source": [
    "# Few-shot sample을 다른 방식으로 사용하여 prompt를 생성합니다.\n",
    "def build_prompt(dialogue):\n",
    "    system_prompt = \"You are a expert in the field of dialogue summarization, summarize the given dialogue in a concise manner. Follow the user's instruction carefully and provide a summary that is relevant to the dialogue.\"\n",
    "\n",
    "    few_shot_user_prompt_1 = (\n",
    "        \"Following the instructions below, summarize the given document.\\n\"\n",
    "        \"Instructions:\\n\"\n",
    "        \"1. Read the provided sample dialogue and corresponding summary.\\n\"\n",
    "        \"2. Read the dialogue carefully.\\n\"\n",
    "        \"3. Following the sample's style of summary, provide a concise summary of the given dialogue. Be sure that the summary is simple but captures the essence of the dialogue.\\n\\n\"\n",
    "        \"Dialogue:\\n\"\n",
    "        f\"{sample_dialogue1}\\n\\n\"\n",
    "        \"Summary:\\n\"\n",
    "    )\n",
    "    few_shot_assistant_prompt_1 = sample_summary1\n",
    "    \n",
    "    user_prompt = (\n",
    "        \"Dialogue:\\n\"\n",
    "        f\"{dialogue}\\n\\n\"\n",
    "        \"Summary:\\n\"\n",
    "    )\n",
    "    \n",
    "    return [\n",
    "        {\"role\": \"system\", \"content\": system_prompt},\n",
    "        {\"role\": \"user\", \"content\": few_shot_user_prompt_1},\n",
    "        {\"role\": \"assistant\", \"content\": few_shot_assistant_prompt_1},\n",
    "        {\"role\": \"user\", \"content\": user_prompt},\n",
    "    ]"
   ]
  },
  {
   "cell_type": "code",
   "execution_count": 23,
   "metadata": {},
   "outputs": [
    {
     "name": "stdout",
     "output_type": "stream",
     "text": [
      "Dialogue:\n",
      "#Person1#: 안녕하세요, Mr. Smith. 저는 Dr. Hawkins입니다. 오늘 무슨 일로 오셨어요? \n",
      "#Person2#: 건강검진을 받으려고 왔어요. \n",
      "#Person1#: 네, 5년 동안 검진을 안 받으셨네요. 매년 한 번씩 받으셔야 해요. \n",
      "#Person2#: 알죠. 특별히 아픈 데가 없으면 굳이 갈 필요가 없다고 생각했어요. \n",
      "#Person1#: 음, 심각한 질병을 피하려면 미리 발견하는 게 제일 좋거든요. 본인을 위해서라도 매년 한 번은 오세요. \n",
      "#Person2#: 알겠습니다. \n",
      "#Person1#: 여기 좀 볼까요. 눈과 귀는 괜찮으시네요. 깊게 숨 한 번 쉬어보세요. Mr. Smith, 담배 피우세요? \n",
      "#Person2#: 네. \n",
      "#Person1#: 담배가 폐암하고 심장병의 주된 원인인 거 아시죠? 끊으셔야 해요. \n",
      "#Person2#: 수백 번 시도했는데, 도저히 습관이 안 끊어져요. \n",
      "#Person1#: 음, 도움 될만한 수업과 약물들이 있습니다. 가시기 전에 더 정보를 드릴게요. \n",
      "#Person2#: 네, 고맙습니다, 의사 선생님.\n",
      "\n",
      "Pred Summary: Dr. Hawkins는 Mr. Smith에게 5년 만에 받은 건강검진의 중요성에 대해 설명하며, 매년 검진을 받으라고 권고합니다. 또한, Mr. Smith의 흡연 습관에 대해 우려를 표하고, 담배가 폐암과 심장병의 주된 원인임을 알리며 습관을 끊을 수 있도록 도움을 제안합니다.\n",
      "\n",
      "Gold Summary: Mr. Smith는 Dr. Hawkins에게 건강검진을 받으러 와서, 매년 검진 필요성을 안내받고 흡연 습관 개선을 위한 도움을 제안받았습니다.\n",
      "\n",
      "====================================================================================================\n",
      "Dialogue:\n",
      "#Person1#: 안녕하세요, Mrs. Parker. 잘 지내셨나요?\n",
      "#Person2#: 안녕하세요, Dr. Peters. 잘 지내고 있어요. Ricky랑 저희 둘 다 백신 맞으러 왔어요.\n",
      "#Person1#: 알겠습니다. 백신 기록을 보니 Ricky는 소아마비, 파상풍, 그리고 B형 간염 예방접종을 받았네요. 지금 14개월이라 A형 간염, 수두, 홍역 예방접종을 맞아야 해요.\n",
      "#Person2#: 풍진과 유행성이하선염은요?\n",
      "#Person1#: 지금은 이 정도만 맞고, 몇 주 후에 나머지를 할 수 있어요.\n",
      "#Person2#: 좋아요. 그리고 저도 파상풍 부스터가 필요할 것 같아요. 마지막으로 맞은 지 아마 15년은 된 것 같아요!\n",
      "#Person1#: 기록을 확인해서 간호사에게 부스터도 맞출 수 있도록 할게요. 이제 Ricky 팔 꽉 잡아주세요, 좀 따끔할 수 있어요.\n",
      "\n",
      "Pred Summary: Dr. Peters는 Mrs. Parker에게 14개월 된 Ricky의 현재 필요한 예방접종인 A형 간염, 수두, 홍역에 대해 설명하고, 몇 주 후에 풍진과 유행성이하선염 예방접종을 추가할 것을 제안합니다. 또한, Mrs. Parker의 파상풍 부스터 접종도 기록하여 간호사에게 맞출 수 있도록 합니다.\n",
      "\n",
      "Gold Summary: Mrs. Parker가 Ricky와 함께 백신 접종을 위해 방문하였고, Dr. Peters는 Ricky에게 적절한 백신을 접종하도록 안내합니다.\n",
      "\n",
      "====================================================================================================\n",
      "Dialogue:\n",
      "#Person1#: 저기요, 열쇠 세트 본 적 있어요?\n",
      "#Person2#: 어떤 종류의 열쇠요?\n",
      "#Person1#: 열쇠 다섯 개랑 작은 발 장식이 달려 있어요.\n",
      "#Person2#: 아, 안타깝네요! 못 봤어요.\n",
      "#Person1#: 그럼, 같이 좀 찾아주실 수 있어요? 여긴 처음이라서요.\n",
      "#Person2#: 물론이죠. 도와드릴게요.\n",
      "#Person1#: 정말 친절하시네요.\n",
      "#Person2#: 별거 아니에요. 이봐요, 찾았어요.\n",
      "#Person1#: 아, 감사합니다! 어떻게 감사해야 할지 모르겠네요.\n",
      "#Person2#: 천만에요.\n",
      "\n",
      "Pred Summary: #Person1#은 #Person2#에게 작은 발 장식이 달린 열쇠 세트를 찾아달라고 부탁하고, #Person2#는 기꺼이 도와주어 열쇠를 찾아줍니다. #Person1#은 감사의 말을 전합니다.\n",
      "\n",
      "Gold Summary: #Person1#은 열쇠 세트를 잃어버리고 #Person2#에게 찾는 것을 도와달라고 요청합니다.\n",
      "\n",
      "====================================================================================================\n"
     ]
    }
   ],
   "source": [
    "# 변경된 prompt를 사용하여, train data 중 처음 3개의 대화를 요약하고, 결과를 확인합니다.\n",
    "if __name__ == \"__main__\":\n",
    "    test_on_train_data()"
   ]
  },
  {
   "cell_type": "code",
   "execution_count": 24,
   "metadata": {},
   "outputs": [
    {
     "name": "stderr",
     "output_type": "stream",
     "text": [
      "100%|██████████| 100/100 [01:35<00:00,  1.05it/s]"
     ]
    },
    {
     "name": "stdout",
     "output_type": "stream",
     "text": [
      "Validation Average Score: 0.1596981516658011\n"
     ]
    },
    {
     "name": "stderr",
     "output_type": "stream",
     "text": [
      "\n"
     ]
    }
   ],
   "source": [
    "# 변경된 prompt를 사용하여, validation data의 대화를 요약하고, 점수를 측정합니다.\n",
    "if __name__ == \"__main__\":\n",
    "    validate(100)"
   ]
  },
  {
   "cell_type": "markdown",
   "metadata": {},
   "source": [
    "### (선택) 변경된 Prompt로 test dataset에 대한 요약을 진행합니다.\n",
    "- 변경된 prompt를 통해 점수가 개선되었다면, test dataset에 대한 요약을 진행하고 제출합니다."
   ]
  },
  {
   "cell_type": "code",
   "execution_count": 25,
   "metadata": {},
   "outputs": [
    {
     "name": "stderr",
     "output_type": "stream",
     "text": [
      "100%|██████████| 499/499 [08:00<00:00,  1.04it/s]\n"
     ]
    }
   ],
   "source": [
    "# 변경된 prompt를 사용하여, test data의 대화를 요약하고, 결과를 확인합니다.\n",
    "if __name__ == \"__main__\":\n",
    "    output = inference()"
   ]
  },
  {
   "cell_type": "code",
   "execution_count": 26,
   "metadata": {},
   "outputs": [
    {
     "data": {
      "application/vnd.microsoft.datawrangler.viewer.v0+json": {
       "columns": [
        {
         "name": "index",
         "rawType": "int64",
         "type": "integer"
        },
        {
         "name": "fname",
         "rawType": "object",
         "type": "string"
        },
        {
         "name": "summary",
         "rawType": "object",
         "type": "string"
        }
       ],
       "ref": "533a18cd-b4b1-473d-a5a9-f7f7b6eeae3f",
       "rows": [
        [
         "0",
         "test_0",
         "#Person1#은 #Person2#에게 즉시 메시지 프로그램 사용을 금지하고 모든 통신을 이메일과 공식 메모로 제한하는 사내 메모를 오늘 오후까지 작성하고 배포해 달라고 요청합니다. 이 정책은 사내 및 외부 통신 모두에 적용되며, 위반 시 경고 후 시정 조치, 두 번째 위반 시 해고될 수 있습니다."
        ],
        [
         "1",
         "test_1",
         "#Person1#과 #Person2#는 출퇴근 시간의 교통체증에 대해 이야기합니다. #Person2#는 Carrefour 교차로 근처에서 발생한 교통체증으로 인해 늦게 도착했다고 설명합니다. #Person1#은 출퇴근 시 다른 길이나 대중교통을 이용하는 것을 제안하고, #Person2#는 이를 고려해 보겠다고 합니다. 그들은 환경 문제와 스트레스 감소에 대해 논의하며, #Person2#는 결국 출근 시 차를 타지 않기로 결정합니다."
        ],
        [
         "2",
         "test_2",
         "Kate는 레베카로부터 Masha와 Hero가 두 달간의 별거 끝에 이혼 신청을 했다는 소식을 듣고 놀란다. Masha가 양육권을 가지며, 재산 및 주식 문제는 원만하게 해결되었다고 한다. 이혼은 새해 초에 확정될 예정이다."
        ],
        [
         "3",
         "test_3",
         "Person1은 Person2의 생일을 축하하며 선물을 주고 파티에 초대받습니다. 두 사람은 춤을 추며 파티를 즐기고, Person2는 Person1의 아름다움을 칭찬합니다. Person1은 목걸이와 드레스가 잘 어울려서 기분이 좋다고 답하며, 함께 생일을 축하하기 위해 한 잔 하기로 합니다."
        ],
        [
         "4",
         "test_4",
         "#Person1#과 #Person2#는 올림픽 공원의 중심인 올림픽 스타디움에 있으며, 스타디움이 6월에 완공될 예정이고 총 5000석의 좌석이 있다는 것을 이야기합니다. 또한, 공원의 표지판이 영어로도 번역되어 있다는 점을 언급합니다."
        ],
        [
         "5",
         "test_5",
         "#Person1#은 현재 직장을 그만두고 자신의 회사를 시작하려고 합니다. #Person2#는 #Person1#에게 사업 계획서 작성의 복잡성에 대해 설명하며, 사업 아이디어 요약, 회사 정보 제시, 상품이나 서비스 소개, 경쟁자와의 차별점 설명, 시장 분석, 금융 분석 등 여러 요소를 포함해야 한다고 말합니다. #Person1#은 사업 계획서 작성의 복잡성을 깨닫고 예전 일을 계속하는 것이 나을지 고민합니다."
        ],
        [
         "6",
         "test_6",
         "#Person2#는 간지러움과 어지러움, 무기력함을 호소하며 #Person1#에게 도움을 요청합니다. #Person1#는 #Person2#가 수두에 걸린 것으로 의심하며 전염을 우려해 거리를 둡니다. #Person2#는 수두일 가능성을 부인하며 발진이나 알레르기일 수도 있다고 주장합니다. #Person1#는 여전히 전염을 걱정하며 #Person2#를 '바이오 위협물'로 취급하고, #Person2#는 오트밀 목욕을 하기로 결정합니다."
        ],
        [
         "7",
         "test_7",
         "손님은 체크아웃 시 잘못된 세탁 서비스 요금이 청구서에 포함되어 있음을 발견하고, 직원은 관련 부서에 확인한 후 착오를 인정하고 청구서를 수정합니다. 손님은 문제가 해결되면 괜찮다고 하며, 직원은 사과하고 손님을 배웅합니다."
        ],
        [
         "8",
         "test_8",
         "#Person1#은 #Person2#에게 아내가 자신의 외도를 알게 되어 이혼을 요구했다고 털어놓는다. #Person2#는 결혼 10년 만에 아내를 속인 것에 대해 비난하지만, #Person1#은 자신의 잘못을 인정하며 여전히 아내를 사랑한다고 말한다. #Person2#는 아내를 설득하여 이혼을 다시 생각하게 해보겠다고 약속하고, #Person1#은 앞으로 아내에게 충실할 것을 맹세한다."
        ],
        [
         "9",
         "test_9",
         "두 사람은 인품이 뛰어난 사람에 대해 이야기하며, 아브라함 링컨을 예로 들어 그의 인품과 업적, 용기, 겸손함에 대해 존경심을 표합니다."
        ],
        [
         "10",
         "test_10",
         "#Person1#은 #Person2#에게 허베이로 여행을 계획 중이라는 소식을 듣고, 현재 중국 북부에서 심한 황사와 강풍이 몰아치고 있다고 경고합니다. #Person2#는 황사가 지역 주민들에게 미치는 영향에 대해 묻고, #Person1#은 호흡기 감염 환자 수가 증가하는 경향이 있다고 설명합니다. 두 사람은 황사가 모두에게 골칫거리라는 데 동의합니다."
        ],
        [
         "11",
         "test_11",
         "Francis는 #Person2#가 자신의 생일 파티에 참석해준 것에 대해 감사하며, #Person2#가 준 원격 조종 자동차 모델 선물에 대해 기쁨을 표현합니다. #Person2#는 이 선물이 자신이 가장 좋아했던 것 중 하나라고 밝히며, Francis는 #Person2#의 선물이 항상 값지게 느껴진다고 말합니다."
        ],
        [
         "12",
         "test_12",
         "Tony는 Steven에게 부정행위를 하다가 들켜 불합격 처리되었다고 고백합니다. 그는 아버지의 기대와 압박 때문에 부정행위를 했지만, Steven은 그에게 실수에서 배우라고 조언합니다."
        ],
        [
         "13",
         "test_13",
         "톰은 친구가 시계를 확인하고 기차 시간에 대해 걱정하자, 현재 시간을 알려주고 역까지의 거리가 가까워 시간이 충분하다고 안심시킵니다."
        ],
        [
         "14",
         "test_14",
         "#Person1#은 삶의 균형을 잡지 못해 고민 중이라며 #Person2#에게 조언을 구합니다. #Person2#는 #Person1#이 창백하고 잠을 잘 못 자며 와인을 많이 마시고 피곤해 보인다고 지적하며, 충분한 수면, 음주량 줄이기, 매일 아침 운동, 미래에 대한 긍정적인 생각을 권합니다. #Person2#는 #Person1#이 젊고 미래에 큰 기여를 할 것이라 믿으며 자신의 조언을 받아들이길 바랍니다."
        ],
        [
         "15",
         "test_15",
         "#Person1#은 #Person2#에게 Ruojia의 결혼과 오늘 밤 그녀의 집에서 열리는 파티에 대해 알려줍니다. #Person2#는 놀라며 기뻐하고, #Person1#은 Ruojia의 트위터와 이메일을 통해 결혼 소식을 알게 되었다고 말합니다. 두 사람은 파티에 가져갈 선물에 대해 이야기합니다."
        ],
        [
         "16",
         "test_16",
         "#Person1#은 #Person2#에게 스트립을 잡아당기고 뒷면을 떼어내라고 말하며 재미있는 장면을 만듭니다. #Person2#는 이 행동이 잔인하다고 생각하지만, #Person1#은 그것이 재미있다고 주장합니다. 결국 #Person2#는 사진을 찍고 싶어하며, #Person1#은 이를 예상했다고 말합니다."
        ],
        [
         "17",
         "test_17",
         "마이크는 자신의 여동생이 키가 크고 예쁘며 가족들과 닮았다고 설명합니다. 그러나 똑똑함에 대해서는 자신만큼은 아니라고 말하며, 친구는 마이크의 자만을 놀립니다."
        ],
        [
         "18",
         "test_18",
         "학생은 보건실 직원에게 머리가 아프고 열이 있다고 말하고, 직원은 체온을 재고 약간의 열이 있다고 확인합니다. 직원은 학생에게 결석 시 미리 연락할 것을 당부하며, 다음에는 부모님이 학교에 연락하도록 안내합니다."
        ],
        [
         "19",
         "test_19",
         "고객은 카메라, MP3 플레이어, 그리고 영상 통화 기능이 있는 새 휴대폰을 찾고 있습니다."
        ],
        [
         "20",
         "test_20",
         "프랭크는 주디에게 우체국에서 일하게 된 이유에 대해 설명합니다. 업무 일정이 빡빡하지만, 정부에서 제공하는 좋은 건강보험 혜택과 가족들도 사용할 수 있는 점, 특히 아이들이 무료로 의료 서비스를 받을 수 있다는 점이 매력적이었다고 말합니다."
        ],
        [
         "21",
         "test_21",
         "지원자는 컴퓨터 프로그래밍과 비서 업무에 능숙하며, 의사 면허증과 운전 면허증을 소지하고 있습니다. 케임브리지 영어 시험 합격과 런던 루카스 비서 학원에서의 훈련을 통해 영문 속기 1분에 120단어, 타자 1분에 50단의 속도를 달성했습니다. 또한, 타자, 속기, 팩스 기계 운용 등 사무 절차 관련 훈련을 받았으며, IBM-PC 및 기타 사무 장비를 능숙하게 다룰 수 있습니다."
        ],
        [
         "22",
         "test_22",
         "손님은 주문한 스테이크가 미디엄 레어가 아니라 너무 잘 익었고 질기다며 교환을 요청하고, 직원은 다른 스테이크를 가져다 주겠다고 답변하며 몇 분 기다려야 한다고 알립니다."
        ],
        [
         "23",
         "test_23",
         "Person1은 Person2에게 그의 소설이 노벨상을 받았다는 기쁜 소식을 전하고, Person2는 믿을 수 없다는 반응과 함께 기쁨을 표현합니다. Person1은 Person2를 칭찬하며 축하 파티를 열자고 제안합니다."
        ],
        [
         "24",
         "test_24",
         "지원자는 자동차 디자인 전공과 과학 석사 학위를 소지하고 있으며, 이전 직장에서 학생 엔지니어로서 다양한 재료의 기계적 강도와 부식 저항성을 연구했다고 말합니다."
        ],
        [
         "25",
         "test_25",
         "#Person2#는 일주일에 두세 번 정도 술을 마시며, 보통 밤새 최소 10잔을 마신다고 말합니다. #Person1#는 맥주를 좋아하지만 많이 마시면 두통이 온다고 하며, #Person2#는 적응이 필요하다고 조언합니다. #Person2#는 내일 밤 램 바 & 그릴에서 피처 프로모션을 가자고 제안하고, #Person1#는 동의합니다."
        ],
        [
         "26",
         "test_26",
         "엄마는 메이야에게 소풍을 준비하는 것을 도와달라고 요청하고, 메이야는 일기예보를 확인했는지 묻습니다. 엄마는 소풍 음식으로 아빠가 좋아하는 소시지와 다니엘과 준비한 샌드위치를 언급하며, 메이야는 토스트와 치킨 윙을 원한다고 말합니다. 엄마는 과일 샐러드와 크래커를 챙겨달라고 요청하고, 메이야는 냅킨과 일회용 접시, 컵, 소풍용 담요도 잊지 말라고 상기시킵니다. 엄마는 모든 준비가 끝났고, 메이야에게 음식을 거실로 옮기는 것을 도와달라고 요청합니다. 메이야는 혼자 할 수 있다고 말하며, 오히려 도와주면 더 번거롭다고 설명합니다."
        ],
        [
         "27",
         "test_27",
         "James는 Muriel Douglas와 만나 새 계정에 대해 이야기하며, 서로의 휴일 경험을 나눕니다. James는 Tahoe에서 스키를 타며 보낸 휴가를, Muriel은 L.A.에서 보낸 휴가를 이야기합니다. 그들은 영화 \"King Kong\"에 대해 이야기하고, 따뜻한 여행지인 하와이에 대한 선호도를 공유합니다. James는 동료 Susan을 Muriel에게 소개합니다."
        ],
        [
         "28",
         "test_28",
         "고객은 ATM에서 돈을 인출하려 하지만, 기계 오류로 인해 의도치 않게 10,000달러를 세계 야생동물 재단으로 이체하게 된다. 고객은 당황하여 돈을 돌려달라고 하지만, ATM은 작동을 멈추고 은행은 고객을 위험 인물로 간주하여 출입구를 봉쇄한다. 고객은 혼란스러워하며 자신의 돈을 돌려달라고 한다."
        ],
        [
         "29",
         "test_29",
         "사교적인 사람인 #Person2#는 친구들하고 어울리는 것을 좋아하며, 직장 동료들과 대화할 때는 진심을 전하는 것이 가장 중요하다고 생각합니다."
        ],
        [
         "30",
         "test_30",
         "폴리 씨는 폴리 씨는 일에서 잠시 쉬고 싶어하며, 동료에게 음료수를 사오라고 요청합니다. 그러나 동료는 상사가 그 가게에 있어 갈 수 없고, 결국 폴리 씨가 직접 가기로 합니다. 그런데 지갑에 4달러밖에 없어 음료수를 살 수 있을지 걱정합니다."
        ],
        [
         "31",
         "test_31",
         "프랜시스와 모니카는 재무 보고서 검토 시간을 조정합니다. 프랜시스는 금요일 오전에 바쁘다고 하여, 모니카는 금요일 오후 1시부터 4시까지로 약속을 잡습니다. 두 사람은 금요일 오후에 만나기로 합의합니다."
        ],
        [
         "32",
         "test_32",
         "강사는 참가자에게 인터뷰 수업에 오신 것을 환영하며, 인터뷰에서 중요한 고려사항들을 설명합니다. 옷차림, 태도, 친절함, 정직한 대답이 중요하다고 강조하고, 면접관들은 지원자의 질문에도 관심이 많다고 말합니다."
        ],
        [
         "33",
         "test_33",
         "감독은 Mike의 연기가 캐릭터의 상황에 맞지 않다고 판단하고, 그의 분노를 더 표현하도록 지시합니다. Mike는 캐릭터의 감정이 분노와 슬픔이 함께 한다고 생각하지만, 감독은 나중에 그의 진짜 감정을 보여주도록 계획하고 있습니다."
        ],
        [
         "34",
         "test_34",
         "토드 부인은 바쁜 주말에 대해 이야기하며, 이웃인 Mrs. Todd의 집에 방문하기로 결정했다고 말합니다. 토드 부인은 먼저 방문하지 못해 미안해하며, 이웃이 필요한 것이 있는지 물어봅니다."
        ],
        [
         "35",
         "test_35",
         "빌은 이번 주에 매일 밤 늦게까지 일하느라 피곤하다고 말하고, 집에 가서 쉬겠다고 합니다. 빌의 형은 출장으로 미국에 갔으며 아직 돌아오지 않았다고 합니다. 친구를 만나기로 한 #Person1#은 시계를 확인하고 만족해합니다."
        ],
        [
         "36",
         "test_36",
         "Simon은 Cleo에게 핵무기 확산을 막는 시위 참여를 권유하지만, Cleo는 시위가 싫고 복잡하다고 생각하여 참여하지 않기로 결정합니다. Simon은 시위가 평화로울 것이며, 정치인들의 생각을 바꿀 수 있다고 설득하려 하지만, Cleo는 자신의 신념에 확신이 없으며 상처받을 위험을 감수하고 싶지 않다고 말합니다. 결국 Cleo는 물리 시험 공부를 위해 시위에 참여하지 않기로 하고, Simon은 다른 학생들에게 참여를 권유하기로 합니다."
        ],
        [
         "37",
         "test_37",
         "#Person1#은 #Person2#가 확인되지 않은 사람을 들여보낸 것을 비판하고, #Person2#는 그런 상황에서 쉽게 안심하게 된다고 설명합니다."
        ],
        [
         "38",
         "test_38",
         "Mark은 Maggie에게 역사 노트를 빌려달라고 요청했으나, Maggie는 보통 카페테리아에서 노트를 보기 때문에 도서관에서 복사하라고 제안합니다. Mark은 저녁에 일하느라 수업 시간에 졸려서 노트를 잘 작성하지 못한다고 설명하고, Maggie는 Mark과 스터디 파트너가 되자고 제안합니다. Mark은 이에 동의하고, 오늘 도서관에서 함께 공부하기로 합니다."
        ],
        [
         "39",
         "test_39",
         "대학원생은 Turner 교수에게 다음 학기에 열리는 지질학 고급 과목에 3학년 학생으로서 등록할 수 있는지 문의합니다. 교수는 학생이 미국 서부 지질학에 대한 관심과 준비도를 듣고, Burman 교수님의 승인을 받으면 등록을 허락하기로 합니다."
        ],
        [
         "40",
         "test_40",
         "고객은 방금 구매한 펜던트가 깨졌다며 가게로 돌아와 교환을 요청합니다. 가게 직원은 영수증을 확인한 후, 10시까지 가게로 오면 새 것으로 교환해 주겠다고 약속합니다. 고객은 감사의 말을 전합니다."
        ],
        [
         "41",
         "test_41",
         "#Person1#과 #Person2#는 #Person1#의 새 옷과 박싱 데이 세일에 대해 논의하며, #Person2#는 #Person1#이 자신의 게임을 방해한다고 불평합니다. 대화는 두 사람 간의 가벼운 말다툼으로 이어집니다."
        ],
        [
         "42",
         "test_42",
         "사람1은 사람2에게 다양한 직업 선택지를 제안하지만, 사람2는 미디어 업계에서 컴퓨터와 관련된 일, 특히 인터랙티브 미디어에 관심이 있다고 밝힙니다. 사람1은 뉴스 디렉터나 잡지 글쓰기를 제안하지만, 사람2는 스트레스가 많은 업무보다는 컴퓨터와 관련된 흥미로운 일을 선호한다고 합니다."
        ],
        [
         "43",
         "test_43",
         "#Person1#은 #Person2#가 행사에서 지루해하는 것을 알고, 자신은 데일리 뉴스에서 일하기 때문에 참석해야 한다고 설명합니다. #Person2#는 아이팟과 헤드폰을 가지고 있지만, #Person1#은 예의에 어긋날 수 있다고 말합니다. 대신 #Person1#은 옛날 신문과 만화 섹션을 제안하며, 현재 말하고 있는 자선 단체의 수장의 말을 잘 들어야 한다고 강조합니다."
        ],
        [
         "44",
         "test_44",
         "사라와 #Person1#은 이사 갈 생각에 대해 이야기합니다. 사라는 현재 이사할 여유가 없지만, #Person1#은 도시 중심에서 떨어진 곳에 집을 사면 비용을 절약할 수 있다고 제안합니다. #Person1#은 자신의 시누이도 그렇게 집을 샀고 만족하고 있다고 언급합니다. 사라는 그 집의 상태와 위치에 대해 질문하고, #Person1#은 집이 50년 정도 됐지만 관리가 잘 되어 있었고, 위치는 저녁에 약간 위험할 수 있지만 이웃들이 서로 잘 챙겨준다고 설명합니다."
        ],
        [
         "45",
         "test_45",
         "이번 주 People You Meet에서는 런던의 영국 관광청에서 정보 담당관으로 일하는 Mark Leach씨를 소개합니다. Mark는 매년 약 50만 명의 해외 방문객들에게 관광 정보를 제공하는 정보팀을 총괄하고 있으며, 13개의 언어를 구사하는 10명의 담당관과 함께 방문객들의 여행 계획을 돕고 있습니다. 그는 가능한 한 많은 곳을 보고, 여러 차례 방문하여 영국의 다양한 지역을 경험하는 것을 추천합니다."
        ],
        [
         "46",
         "test_46",
         "Lucy와 Lin Fang은 서로의 좋아하는 과목에 대해 이야기합니다. Lucy는 영어를 가장 좋아하지만 Lin Fang은 어려워하며 좋아하지 않습니다. Lin Fang은 중국어와 과학을 좋아하지만, Lucy는 수학을 가장 싫어합니다. 그들은 각자의 과목 선호도에 대해 이야기하며 서로 다른 의견을 공유합니다."
        ],
        [
         "47",
         "test_47",
         "James는 Mrs. Thomas의 집안일을 마치고 개 산책도 제안받는다. Mrs. Thomas는 James의 도움에 감사하며, James는 주말 일을 통해 농구 연습을 위한 자전거를 사고자 한다고 말한다. 다음 주말에는 James가 가족을 만나러 가기 때문에 여동생 Allison이 대신 도와줄 예정이다."
        ],
        [
         "48",
         "test_48",
         "두 사람은 봄이 왔지만 밤에는 여전히 추운 날씨에 대해 이야기하며, 밤에 아파트가 추워서 에어컨으로 온풍을 틀어야 한다는 점과 밖에 바람이 불면 금방 추워진다는 점에 대해 공감합니다. 또한, 추운 날씨에 고양이처럼 창문으로 들어오는 햇볕에 앉아 따뜻해지길 바란다는 이야기를 나눕니다."
        ],
        [
         "49",
         "test_49",
         "감독은 마이크의 연기가 캐릭터의 느낌과 맞지 않다고 판단하여 다시 시도해보라고 요청합니다. 마이크는 캐릭터의 복잡한 감정을 표현하는 데 어려움을 겪고 있으며, 감독은 먼저 감독의 방식으로 시도해보고 느낌을 확인한 후 다른 방법을 시도해보라고 제안합니다."
        ]
       ],
       "shape": {
        "columns": 2,
        "rows": 499
       }
      },
      "text/html": [
       "<div>\n",
       "<style scoped>\n",
       "    .dataframe tbody tr th:only-of-type {\n",
       "        vertical-align: middle;\n",
       "    }\n",
       "\n",
       "    .dataframe tbody tr th {\n",
       "        vertical-align: top;\n",
       "    }\n",
       "\n",
       "    .dataframe thead th {\n",
       "        text-align: right;\n",
       "    }\n",
       "</style>\n",
       "<table border=\"1\" class=\"dataframe\">\n",
       "  <thead>\n",
       "    <tr style=\"text-align: right;\">\n",
       "      <th></th>\n",
       "      <th>fname</th>\n",
       "      <th>summary</th>\n",
       "    </tr>\n",
       "  </thead>\n",
       "  <tbody>\n",
       "    <tr>\n",
       "      <th>0</th>\n",
       "      <td>test_0</td>\n",
       "      <td>#Person1#은 #Person2#에게 즉시 메시지 프로그램 사용을 금지하고 모든...</td>\n",
       "    </tr>\n",
       "    <tr>\n",
       "      <th>1</th>\n",
       "      <td>test_1</td>\n",
       "      <td>#Person1#과 #Person2#는 출퇴근 시간의 교통체증에 대해 이야기합니다....</td>\n",
       "    </tr>\n",
       "    <tr>\n",
       "      <th>2</th>\n",
       "      <td>test_2</td>\n",
       "      <td>Kate는 레베카로부터 Masha와 Hero가 두 달간의 별거 끝에 이혼 신청을 했...</td>\n",
       "    </tr>\n",
       "    <tr>\n",
       "      <th>3</th>\n",
       "      <td>test_3</td>\n",
       "      <td>Person1은 Person2의 생일을 축하하며 선물을 주고 파티에 초대받습니다. ...</td>\n",
       "    </tr>\n",
       "    <tr>\n",
       "      <th>4</th>\n",
       "      <td>test_4</td>\n",
       "      <td>#Person1#과 #Person2#는 올림픽 공원의 중심인 올림픽 스타디움에 있으...</td>\n",
       "    </tr>\n",
       "    <tr>\n",
       "      <th>...</th>\n",
       "      <td>...</td>\n",
       "      <td>...</td>\n",
       "    </tr>\n",
       "    <tr>\n",
       "      <th>494</th>\n",
       "      <td>test_495</td>\n",
       "      <td>잭은 찰리에게 학교가 끝난 후 집에 와서 새로 산 캐릭터 커스터마이징이 가능한 비디...</td>\n",
       "    </tr>\n",
       "    <tr>\n",
       "      <th>495</th>\n",
       "      <td>test_496</td>\n",
       "      <td>파슨스 씨는 아내와 함께 레코드 플레이어를 구입한 후 시골 음악에 관심을 갖게 되었...</td>\n",
       "    </tr>\n",
       "    <tr>\n",
       "      <th>496</th>\n",
       "      <td>test_497</td>\n",
       "      <td>Alice는 세탁실을 처음 방문한 Person1에게 세탁기와 건조기의 사용법을 설명...</td>\n",
       "    </tr>\n",
       "    <tr>\n",
       "      <th>497</th>\n",
       "      <td>test_498</td>\n",
       "      <td>Steve는 Matthew에게 지난 1년 동안의 안부를 묻고, 현재 살고 있는 임대...</td>\n",
       "    </tr>\n",
       "    <tr>\n",
       "      <th>498</th>\n",
       "      <td>test_499</td>\n",
       "      <td>Frank는 Betsy에게 승진을 알리고 토요일에 150명을 초대해 큰 파티를 열 ...</td>\n",
       "    </tr>\n",
       "  </tbody>\n",
       "</table>\n",
       "<p>499 rows × 2 columns</p>\n",
       "</div>"
      ],
      "text/plain": [
       "        fname                                            summary\n",
       "0      test_0  #Person1#은 #Person2#에게 즉시 메시지 프로그램 사용을 금지하고 모든...\n",
       "1      test_1  #Person1#과 #Person2#는 출퇴근 시간의 교통체증에 대해 이야기합니다....\n",
       "2      test_2  Kate는 레베카로부터 Masha와 Hero가 두 달간의 별거 끝에 이혼 신청을 했...\n",
       "3      test_3  Person1은 Person2의 생일을 축하하며 선물을 주고 파티에 초대받습니다. ...\n",
       "4      test_4  #Person1#과 #Person2#는 올림픽 공원의 중심인 올림픽 스타디움에 있으...\n",
       "..        ...                                                ...\n",
       "494  test_495  잭은 찰리에게 학교가 끝난 후 집에 와서 새로 산 캐릭터 커스터마이징이 가능한 비디...\n",
       "495  test_496  파슨스 씨는 아내와 함께 레코드 플레이어를 구입한 후 시골 음악에 관심을 갖게 되었...\n",
       "496  test_497  Alice는 세탁실을 처음 방문한 Person1에게 세탁기와 건조기의 사용법을 설명...\n",
       "497  test_498  Steve는 Matthew에게 지난 1년 동안의 안부를 묻고, 현재 살고 있는 임대...\n",
       "498  test_499  Frank는 Betsy에게 승진을 알리고 토요일에 150명을 초대해 큰 파티를 열 ...\n",
       "\n",
       "[499 rows x 2 columns]"
      ]
     },
     "execution_count": 26,
     "metadata": {},
     "output_type": "execute_result"
    }
   ],
   "source": [
    "output"
   ]
  }
 ],
 "metadata": {
  "accelerator": "GPU",
  "colab": {
   "gpuType": "T4",
   "machine_shape": "hm",
   "provenance": [],
   "toc_visible": true
  },
  "kernelspec": {
   "display_name": "nlp_py3_11_9",
   "language": "python",
   "name": "python3"
  },
  "language_info": {
   "codemirror_mode": {
    "name": "ipython",
    "version": 3
   },
   "file_extension": ".py",
   "mimetype": "text/x-python",
   "name": "python",
   "nbconvert_exporter": "python",
   "pygments_lexer": "ipython3",
   "version": "3.11.9"
  },
  "widgets": {
   "application/vnd.jupyter.widget-state+json": {
    "083ea69907bb48d4a8fff919bac51aad": {
     "model_module": "@jupyter-widgets/base",
     "model_module_version": "1.2.0",
     "model_name": "LayoutModel",
     "state": {
      "_model_module": "@jupyter-widgets/base",
      "_model_module_version": "1.2.0",
      "_model_name": "LayoutModel",
      "_view_count": null,
      "_view_module": "@jupyter-widgets/base",
      "_view_module_version": "1.2.0",
      "_view_name": "LayoutView",
      "align_content": null,
      "align_items": null,
      "align_self": null,
      "border": null,
      "bottom": null,
      "display": null,
      "flex": null,
      "flex_flow": null,
      "grid_area": null,
      "grid_auto_columns": null,
      "grid_auto_flow": null,
      "grid_auto_rows": null,
      "grid_column": null,
      "grid_gap": null,
      "grid_row": null,
      "grid_template_areas": null,
      "grid_template_columns": null,
      "grid_template_rows": null,
      "height": null,
      "justify_content": null,
      "justify_items": null,
      "left": null,
      "margin": null,
      "max_height": null,
      "max_width": null,
      "min_height": null,
      "min_width": null,
      "object_fit": null,
      "object_position": null,
      "order": null,
      "overflow": null,
      "overflow_x": null,
      "overflow_y": null,
      "padding": null,
      "right": null,
      "top": null,
      "visibility": null,
      "width": null
     }
    },
    "08d05bc20a96432badd459e1ffaf868e": {
     "model_module": "@jupyter-widgets/controls",
     "model_module_version": "1.5.0",
     "model_name": "DescriptionStyleModel",
     "state": {
      "_model_module": "@jupyter-widgets/controls",
      "_model_module_version": "1.5.0",
      "_model_name": "DescriptionStyleModel",
      "_view_count": null,
      "_view_module": "@jupyter-widgets/base",
      "_view_module_version": "1.2.0",
      "_view_name": "StyleView",
      "description_width": ""
     }
    },
    "13651c09564a4337b8274c1cb436faa5": {
     "model_module": "@jupyter-widgets/controls",
     "model_module_version": "1.5.0",
     "model_name": "DescriptionStyleModel",
     "state": {
      "_model_module": "@jupyter-widgets/controls",
      "_model_module_version": "1.5.0",
      "_model_name": "DescriptionStyleModel",
      "_view_count": null,
      "_view_module": "@jupyter-widgets/base",
      "_view_module_version": "1.2.0",
      "_view_name": "StyleView",
      "description_width": ""
     }
    },
    "14f6c91d6c634379b498586c51e606e0": {
     "model_module": "@jupyter-widgets/base",
     "model_module_version": "1.2.0",
     "model_name": "LayoutModel",
     "state": {
      "_model_module": "@jupyter-widgets/base",
      "_model_module_version": "1.2.0",
      "_model_name": "LayoutModel",
      "_view_count": null,
      "_view_module": "@jupyter-widgets/base",
      "_view_module_version": "1.2.0",
      "_view_name": "LayoutView",
      "align_content": null,
      "align_items": null,
      "align_self": null,
      "border": null,
      "bottom": null,
      "display": null,
      "flex": null,
      "flex_flow": null,
      "grid_area": null,
      "grid_auto_columns": null,
      "grid_auto_flow": null,
      "grid_auto_rows": null,
      "grid_column": null,
      "grid_gap": null,
      "grid_row": null,
      "grid_template_areas": null,
      "grid_template_columns": null,
      "grid_template_rows": null,
      "height": null,
      "justify_content": null,
      "justify_items": null,
      "left": null,
      "margin": null,
      "max_height": null,
      "max_width": null,
      "min_height": null,
      "min_width": null,
      "object_fit": null,
      "object_position": null,
      "order": null,
      "overflow": null,
      "overflow_x": null,
      "overflow_y": null,
      "padding": null,
      "right": null,
      "top": null,
      "visibility": null,
      "width": null
     }
    },
    "21d2e54b5a0a4f79973a512105da43eb": {
     "model_module": "@jupyter-widgets/base",
     "model_module_version": "1.2.0",
     "model_name": "LayoutModel",
     "state": {
      "_model_module": "@jupyter-widgets/base",
      "_model_module_version": "1.2.0",
      "_model_name": "LayoutModel",
      "_view_count": null,
      "_view_module": "@jupyter-widgets/base",
      "_view_module_version": "1.2.0",
      "_view_name": "LayoutView",
      "align_content": null,
      "align_items": null,
      "align_self": null,
      "border": null,
      "bottom": null,
      "display": null,
      "flex": null,
      "flex_flow": null,
      "grid_area": null,
      "grid_auto_columns": null,
      "grid_auto_flow": null,
      "grid_auto_rows": null,
      "grid_column": null,
      "grid_gap": null,
      "grid_row": null,
      "grid_template_areas": null,
      "grid_template_columns": null,
      "grid_template_rows": null,
      "height": null,
      "justify_content": null,
      "justify_items": null,
      "left": null,
      "margin": null,
      "max_height": null,
      "max_width": null,
      "min_height": null,
      "min_width": null,
      "object_fit": null,
      "object_position": null,
      "order": null,
      "overflow": null,
      "overflow_x": null,
      "overflow_y": null,
      "padding": null,
      "right": null,
      "top": null,
      "visibility": null,
      "width": null
     }
    },
    "2307c6dcbe0141acb5e61baae19cade7": {
     "model_module": "@jupyter-widgets/base",
     "model_module_version": "1.2.0",
     "model_name": "LayoutModel",
     "state": {
      "_model_module": "@jupyter-widgets/base",
      "_model_module_version": "1.2.0",
      "_model_name": "LayoutModel",
      "_view_count": null,
      "_view_module": "@jupyter-widgets/base",
      "_view_module_version": "1.2.0",
      "_view_name": "LayoutView",
      "align_content": null,
      "align_items": null,
      "align_self": null,
      "border": null,
      "bottom": null,
      "display": null,
      "flex": null,
      "flex_flow": null,
      "grid_area": null,
      "grid_auto_columns": null,
      "grid_auto_flow": null,
      "grid_auto_rows": null,
      "grid_column": null,
      "grid_gap": null,
      "grid_row": null,
      "grid_template_areas": null,
      "grid_template_columns": null,
      "grid_template_rows": null,
      "height": null,
      "justify_content": null,
      "justify_items": null,
      "left": null,
      "margin": null,
      "max_height": null,
      "max_width": null,
      "min_height": null,
      "min_width": null,
      "object_fit": null,
      "object_position": null,
      "order": null,
      "overflow": null,
      "overflow_x": null,
      "overflow_y": null,
      "padding": null,
      "right": null,
      "top": null,
      "visibility": null,
      "width": null
     }
    },
    "285007b45236478ca147c6df752c8da4": {
     "model_module": "@jupyter-widgets/controls",
     "model_module_version": "1.5.0",
     "model_name": "DescriptionStyleModel",
     "state": {
      "_model_module": "@jupyter-widgets/controls",
      "_model_module_version": "1.5.0",
      "_model_name": "DescriptionStyleModel",
      "_view_count": null,
      "_view_module": "@jupyter-widgets/base",
      "_view_module_version": "1.2.0",
      "_view_name": "StyleView",
      "description_width": ""
     }
    },
    "2a190bda0b72407e9a953cd2104dd3b2": {
     "model_module": "@jupyter-widgets/controls",
     "model_module_version": "1.5.0",
     "model_name": "DescriptionStyleModel",
     "state": {
      "_model_module": "@jupyter-widgets/controls",
      "_model_module_version": "1.5.0",
      "_model_name": "DescriptionStyleModel",
      "_view_count": null,
      "_view_module": "@jupyter-widgets/base",
      "_view_module_version": "1.2.0",
      "_view_name": "StyleView",
      "description_width": ""
     }
    },
    "2fd3d7bbcd6948d8904d33001f95ea03": {
     "model_module": "@jupyter-widgets/controls",
     "model_module_version": "1.5.0",
     "model_name": "ProgressStyleModel",
     "state": {
      "_model_module": "@jupyter-widgets/controls",
      "_model_module_version": "1.5.0",
      "_model_name": "ProgressStyleModel",
      "_view_count": null,
      "_view_module": "@jupyter-widgets/base",
      "_view_module_version": "1.2.0",
      "_view_name": "StyleView",
      "bar_color": null,
      "description_width": ""
     }
    },
    "3645438ace1f4596a8dbc157b48c1521": {
     "model_module": "@jupyter-widgets/controls",
     "model_module_version": "1.5.0",
     "model_name": "HTMLModel",
     "state": {
      "_dom_classes": [],
      "_model_module": "@jupyter-widgets/controls",
      "_model_module_version": "1.5.0",
      "_model_name": "HTMLModel",
      "_view_count": null,
      "_view_module": "@jupyter-widgets/controls",
      "_view_module_version": "1.5.0",
      "_view_name": "HTMLView",
      "description": "",
      "description_tooltip": null,
      "layout": "IPY_MODEL_14f6c91d6c634379b498586c51e606e0",
      "placeholder": "​",
      "style": "IPY_MODEL_08d05bc20a96432badd459e1ffaf868e",
      "value": " 295/295 [00:00&lt;00:00, 21.3kB/s]"
     }
    },
    "3a04e871b74b45d7bf02fd33bb103577": {
     "model_module": "@jupyter-widgets/controls",
     "model_module_version": "1.5.0",
     "model_name": "ProgressStyleModel",
     "state": {
      "_model_module": "@jupyter-widgets/controls",
      "_model_module_version": "1.5.0",
      "_model_name": "ProgressStyleModel",
      "_view_count": null,
      "_view_module": "@jupyter-widgets/base",
      "_view_module_version": "1.2.0",
      "_view_name": "StyleView",
      "bar_color": null,
      "description_width": ""
     }
    },
    "3bcd6b6b956347b29e1efa20a1d00542": {
     "model_module": "@jupyter-widgets/base",
     "model_module_version": "1.2.0",
     "model_name": "LayoutModel",
     "state": {
      "_model_module": "@jupyter-widgets/base",
      "_model_module_version": "1.2.0",
      "_model_name": "LayoutModel",
      "_view_count": null,
      "_view_module": "@jupyter-widgets/base",
      "_view_module_version": "1.2.0",
      "_view_name": "LayoutView",
      "align_content": null,
      "align_items": null,
      "align_self": null,
      "border": null,
      "bottom": null,
      "display": null,
      "flex": null,
      "flex_flow": null,
      "grid_area": null,
      "grid_auto_columns": null,
      "grid_auto_flow": null,
      "grid_auto_rows": null,
      "grid_column": null,
      "grid_gap": null,
      "grid_row": null,
      "grid_template_areas": null,
      "grid_template_columns": null,
      "grid_template_rows": null,
      "height": null,
      "justify_content": null,
      "justify_items": null,
      "left": null,
      "margin": null,
      "max_height": null,
      "max_width": null,
      "min_height": null,
      "min_width": null,
      "object_fit": null,
      "object_position": null,
      "order": null,
      "overflow": null,
      "overflow_x": null,
      "overflow_y": null,
      "padding": null,
      "right": null,
      "top": null,
      "visibility": null,
      "width": null
     }
    },
    "3c284a826f6843f6aa47eacad478ac30": {
     "model_module": "@jupyter-widgets/controls",
     "model_module_version": "1.5.0",
     "model_name": "HTMLModel",
     "state": {
      "_dom_classes": [],
      "_model_module": "@jupyter-widgets/controls",
      "_model_module_version": "1.5.0",
      "_model_name": "HTMLModel",
      "_view_count": null,
      "_view_module": "@jupyter-widgets/controls",
      "_view_module_version": "1.5.0",
      "_view_name": "HTMLView",
      "description": "",
      "description_tooltip": null,
      "layout": "IPY_MODEL_affff1d8a89e4c14955d1b2aa39ff1ab",
      "placeholder": "​",
      "style": "IPY_MODEL_13651c09564a4337b8274c1cb436faa5",
      "value": "tokenizer.json: 100%"
     }
    },
    "45187decb58b4ad39ad532259c6277e5": {
     "model_module": "@jupyter-widgets/controls",
     "model_module_version": "1.5.0",
     "model_name": "DescriptionStyleModel",
     "state": {
      "_model_module": "@jupyter-widgets/controls",
      "_model_module_version": "1.5.0",
      "_model_name": "DescriptionStyleModel",
      "_view_count": null,
      "_view_module": "@jupyter-widgets/base",
      "_view_module_version": "1.2.0",
      "_view_name": "StyleView",
      "description_width": ""
     }
    },
    "4747b668e2fa4ab58a449446f80030f5": {
     "model_module": "@jupyter-widgets/controls",
     "model_module_version": "1.5.0",
     "model_name": "ProgressStyleModel",
     "state": {
      "_model_module": "@jupyter-widgets/controls",
      "_model_module_version": "1.5.0",
      "_model_name": "ProgressStyleModel",
      "_view_count": null,
      "_view_module": "@jupyter-widgets/base",
      "_view_module_version": "1.2.0",
      "_view_name": "StyleView",
      "bar_color": null,
      "description_width": ""
     }
    },
    "52095cc7087243ac916055e569fd22f3": {
     "model_module": "@jupyter-widgets/controls",
     "model_module_version": "1.5.0",
     "model_name": "FloatProgressModel",
     "state": {
      "_dom_classes": [],
      "_model_module": "@jupyter-widgets/controls",
      "_model_module_version": "1.5.0",
      "_model_name": "FloatProgressModel",
      "_view_count": null,
      "_view_module": "@jupyter-widgets/controls",
      "_view_module_version": "1.5.0",
      "_view_name": "ProgressView",
      "bar_style": "success",
      "description": "",
      "description_tooltip": null,
      "layout": "IPY_MODEL_c18f0e3bc35e44d9915c3f84cd282a26",
      "max": 109,
      "min": 0,
      "orientation": "horizontal",
      "style": "IPY_MODEL_3a04e871b74b45d7bf02fd33bb103577",
      "value": 109
     }
    },
    "58001a60eacc44d5b38a68648adccde4": {
     "model_module": "@jupyter-widgets/base",
     "model_module_version": "1.2.0",
     "model_name": "LayoutModel",
     "state": {
      "_model_module": "@jupyter-widgets/base",
      "_model_module_version": "1.2.0",
      "_model_name": "LayoutModel",
      "_view_count": null,
      "_view_module": "@jupyter-widgets/base",
      "_view_module_version": "1.2.0",
      "_view_name": "LayoutView",
      "align_content": null,
      "align_items": null,
      "align_self": null,
      "border": null,
      "bottom": null,
      "display": null,
      "flex": null,
      "flex_flow": null,
      "grid_area": null,
      "grid_auto_columns": null,
      "grid_auto_flow": null,
      "grid_auto_rows": null,
      "grid_column": null,
      "grid_gap": null,
      "grid_row": null,
      "grid_template_areas": null,
      "grid_template_columns": null,
      "grid_template_rows": null,
      "height": null,
      "justify_content": null,
      "justify_items": null,
      "left": null,
      "margin": null,
      "max_height": null,
      "max_width": null,
      "min_height": null,
      "min_width": null,
      "object_fit": null,
      "object_position": null,
      "order": null,
      "overflow": null,
      "overflow_x": null,
      "overflow_y": null,
      "padding": null,
      "right": null,
      "top": null,
      "visibility": null,
      "width": null
     }
    },
    "58c794fb7ce543a39fdf66d757f6eeab": {
     "model_module": "@jupyter-widgets/controls",
     "model_module_version": "1.5.0",
     "model_name": "HTMLModel",
     "state": {
      "_dom_classes": [],
      "_model_module": "@jupyter-widgets/controls",
      "_model_module_version": "1.5.0",
      "_model_name": "HTMLModel",
      "_view_count": null,
      "_view_module": "@jupyter-widgets/controls",
      "_view_module_version": "1.5.0",
      "_view_name": "HTMLView",
      "description": "",
      "description_tooltip": null,
      "layout": "IPY_MODEL_6f5fde5b0ac840a18bd5cc380e564ff6",
      "placeholder": "​",
      "style": "IPY_MODEL_45187decb58b4ad39ad532259c6277e5",
      "value": "tokenizer_config.json: 100%"
     }
    },
    "5dfcf310ca9e4e2794076098a5d69cea": {
     "model_module": "@jupyter-widgets/controls",
     "model_module_version": "1.5.0",
     "model_name": "HBoxModel",
     "state": {
      "_dom_classes": [],
      "_model_module": "@jupyter-widgets/controls",
      "_model_module_version": "1.5.0",
      "_model_name": "HBoxModel",
      "_view_count": null,
      "_view_module": "@jupyter-widgets/controls",
      "_view_module_version": "1.5.0",
      "_view_name": "HBoxView",
      "box_style": "",
      "children": [
       "IPY_MODEL_3c284a826f6843f6aa47eacad478ac30",
       "IPY_MODEL_6caedd60c6b747469c82930be1f95d6d",
       "IPY_MODEL_64f2218f899d446393cfea44f206f0a6"
      ],
      "layout": "IPY_MODEL_d068f541df3f438dbd5138863e64b2f2"
     }
    },
    "64f2218f899d446393cfea44f206f0a6": {
     "model_module": "@jupyter-widgets/controls",
     "model_module_version": "1.5.0",
     "model_name": "HTMLModel",
     "state": {
      "_dom_classes": [],
      "_model_module": "@jupyter-widgets/controls",
      "_model_module_version": "1.5.0",
      "_model_name": "HTMLModel",
      "_view_count": null,
      "_view_module": "@jupyter-widgets/controls",
      "_view_module_version": "1.5.0",
      "_view_name": "HTMLView",
      "description": "",
      "description_tooltip": null,
      "layout": "IPY_MODEL_d22fbc2c5dbf422399e496c9b500025a",
      "placeholder": "​",
      "style": "IPY_MODEL_775d8bbeceac4e2da4f21ab6235c89ed",
      "value": " 682k/682k [00:00&lt;00:00, 5.40MB/s]"
     }
    },
    "6caedd60c6b747469c82930be1f95d6d": {
     "model_module": "@jupyter-widgets/controls",
     "model_module_version": "1.5.0",
     "model_name": "FloatProgressModel",
     "state": {
      "_dom_classes": [],
      "_model_module": "@jupyter-widgets/controls",
      "_model_module_version": "1.5.0",
      "_model_name": "FloatProgressModel",
      "_view_count": null,
      "_view_module": "@jupyter-widgets/controls",
      "_view_module_version": "1.5.0",
      "_view_name": "ProgressView",
      "bar_style": "success",
      "description": "",
      "description_tooltip": null,
      "layout": "IPY_MODEL_3bcd6b6b956347b29e1efa20a1d00542",
      "max": 682133,
      "min": 0,
      "orientation": "horizontal",
      "style": "IPY_MODEL_2fd3d7bbcd6948d8904d33001f95ea03",
      "value": 682133
     }
    },
    "6f5fde5b0ac840a18bd5cc380e564ff6": {
     "model_module": "@jupyter-widgets/base",
     "model_module_version": "1.2.0",
     "model_name": "LayoutModel",
     "state": {
      "_model_module": "@jupyter-widgets/base",
      "_model_module_version": "1.2.0",
      "_model_name": "LayoutModel",
      "_view_count": null,
      "_view_module": "@jupyter-widgets/base",
      "_view_module_version": "1.2.0",
      "_view_name": "LayoutView",
      "align_content": null,
      "align_items": null,
      "align_self": null,
      "border": null,
      "bottom": null,
      "display": null,
      "flex": null,
      "flex_flow": null,
      "grid_area": null,
      "grid_auto_columns": null,
      "grid_auto_flow": null,
      "grid_auto_rows": null,
      "grid_column": null,
      "grid_gap": null,
      "grid_row": null,
      "grid_template_areas": null,
      "grid_template_columns": null,
      "grid_template_rows": null,
      "height": null,
      "justify_content": null,
      "justify_items": null,
      "left": null,
      "margin": null,
      "max_height": null,
      "max_width": null,
      "min_height": null,
      "min_width": null,
      "object_fit": null,
      "object_position": null,
      "order": null,
      "overflow": null,
      "overflow_x": null,
      "overflow_y": null,
      "padding": null,
      "right": null,
      "top": null,
      "visibility": null,
      "width": null
     }
    },
    "775d8bbeceac4e2da4f21ab6235c89ed": {
     "model_module": "@jupyter-widgets/controls",
     "model_module_version": "1.5.0",
     "model_name": "DescriptionStyleModel",
     "state": {
      "_model_module": "@jupyter-widgets/controls",
      "_model_module_version": "1.5.0",
      "_model_name": "DescriptionStyleModel",
      "_view_count": null,
      "_view_module": "@jupyter-widgets/base",
      "_view_module_version": "1.2.0",
      "_view_name": "StyleView",
      "description_width": ""
     }
    },
    "8a6464a355f7464c989033965d418a8a": {
     "model_module": "@jupyter-widgets/controls",
     "model_module_version": "1.5.0",
     "model_name": "FloatProgressModel",
     "state": {
      "_dom_classes": [],
      "_model_module": "@jupyter-widgets/controls",
      "_model_module_version": "1.5.0",
      "_model_name": "FloatProgressModel",
      "_view_count": null,
      "_view_module": "@jupyter-widgets/controls",
      "_view_module_version": "1.5.0",
      "_view_name": "ProgressView",
      "bar_style": "success",
      "description": "",
      "description_tooltip": null,
      "layout": "IPY_MODEL_2307c6dcbe0141acb5e61baae19cade7",
      "max": 295,
      "min": 0,
      "orientation": "horizontal",
      "style": "IPY_MODEL_4747b668e2fa4ab58a449446f80030f5",
      "value": 295
     }
    },
    "a15af9e8158f4903b9189f3d322a5ef3": {
     "model_module": "@jupyter-widgets/controls",
     "model_module_version": "1.5.0",
     "model_name": "HTMLModel",
     "state": {
      "_dom_classes": [],
      "_model_module": "@jupyter-widgets/controls",
      "_model_module_version": "1.5.0",
      "_model_name": "HTMLModel",
      "_view_count": null,
      "_view_module": "@jupyter-widgets/controls",
      "_view_module_version": "1.5.0",
      "_view_name": "HTMLView",
      "description": "",
      "description_tooltip": null,
      "layout": "IPY_MODEL_ac00d6c2cf974b33a628acb3f1471316",
      "placeholder": "​",
      "style": "IPY_MODEL_285007b45236478ca147c6df752c8da4",
      "value": " 109/109 [00:00&lt;00:00, 9.44kB/s]"
     }
    },
    "ac00d6c2cf974b33a628acb3f1471316": {
     "model_module": "@jupyter-widgets/base",
     "model_module_version": "1.2.0",
     "model_name": "LayoutModel",
     "state": {
      "_model_module": "@jupyter-widgets/base",
      "_model_module_version": "1.2.0",
      "_model_name": "LayoutModel",
      "_view_count": null,
      "_view_module": "@jupyter-widgets/base",
      "_view_module_version": "1.2.0",
      "_view_name": "LayoutView",
      "align_content": null,
      "align_items": null,
      "align_self": null,
      "border": null,
      "bottom": null,
      "display": null,
      "flex": null,
      "flex_flow": null,
      "grid_area": null,
      "grid_auto_columns": null,
      "grid_auto_flow": null,
      "grid_auto_rows": null,
      "grid_column": null,
      "grid_gap": null,
      "grid_row": null,
      "grid_template_areas": null,
      "grid_template_columns": null,
      "grid_template_rows": null,
      "height": null,
      "justify_content": null,
      "justify_items": null,
      "left": null,
      "margin": null,
      "max_height": null,
      "max_width": null,
      "min_height": null,
      "min_width": null,
      "object_fit": null,
      "object_position": null,
      "order": null,
      "overflow": null,
      "overflow_x": null,
      "overflow_y": null,
      "padding": null,
      "right": null,
      "top": null,
      "visibility": null,
      "width": null
     }
    },
    "affff1d8a89e4c14955d1b2aa39ff1ab": {
     "model_module": "@jupyter-widgets/base",
     "model_module_version": "1.2.0",
     "model_name": "LayoutModel",
     "state": {
      "_model_module": "@jupyter-widgets/base",
      "_model_module_version": "1.2.0",
      "_model_name": "LayoutModel",
      "_view_count": null,
      "_view_module": "@jupyter-widgets/base",
      "_view_module_version": "1.2.0",
      "_view_name": "LayoutView",
      "align_content": null,
      "align_items": null,
      "align_self": null,
      "border": null,
      "bottom": null,
      "display": null,
      "flex": null,
      "flex_flow": null,
      "grid_area": null,
      "grid_auto_columns": null,
      "grid_auto_flow": null,
      "grid_auto_rows": null,
      "grid_column": null,
      "grid_gap": null,
      "grid_row": null,
      "grid_template_areas": null,
      "grid_template_columns": null,
      "grid_template_rows": null,
      "height": null,
      "justify_content": null,
      "justify_items": null,
      "left": null,
      "margin": null,
      "max_height": null,
      "max_width": null,
      "min_height": null,
      "min_width": null,
      "object_fit": null,
      "object_position": null,
      "order": null,
      "overflow": null,
      "overflow_x": null,
      "overflow_y": null,
      "padding": null,
      "right": null,
      "top": null,
      "visibility": null,
      "width": null
     }
    },
    "c18f0e3bc35e44d9915c3f84cd282a26": {
     "model_module": "@jupyter-widgets/base",
     "model_module_version": "1.2.0",
     "model_name": "LayoutModel",
     "state": {
      "_model_module": "@jupyter-widgets/base",
      "_model_module_version": "1.2.0",
      "_model_name": "LayoutModel",
      "_view_count": null,
      "_view_module": "@jupyter-widgets/base",
      "_view_module_version": "1.2.0",
      "_view_name": "LayoutView",
      "align_content": null,
      "align_items": null,
      "align_self": null,
      "border": null,
      "bottom": null,
      "display": null,
      "flex": null,
      "flex_flow": null,
      "grid_area": null,
      "grid_auto_columns": null,
      "grid_auto_flow": null,
      "grid_auto_rows": null,
      "grid_column": null,
      "grid_gap": null,
      "grid_row": null,
      "grid_template_areas": null,
      "grid_template_columns": null,
      "grid_template_rows": null,
      "height": null,
      "justify_content": null,
      "justify_items": null,
      "left": null,
      "margin": null,
      "max_height": null,
      "max_width": null,
      "min_height": null,
      "min_width": null,
      "object_fit": null,
      "object_position": null,
      "order": null,
      "overflow": null,
      "overflow_x": null,
      "overflow_y": null,
      "padding": null,
      "right": null,
      "top": null,
      "visibility": null,
      "width": null
     }
    },
    "d068f541df3f438dbd5138863e64b2f2": {
     "model_module": "@jupyter-widgets/base",
     "model_module_version": "1.2.0",
     "model_name": "LayoutModel",
     "state": {
      "_model_module": "@jupyter-widgets/base",
      "_model_module_version": "1.2.0",
      "_model_name": "LayoutModel",
      "_view_count": null,
      "_view_module": "@jupyter-widgets/base",
      "_view_module_version": "1.2.0",
      "_view_name": "LayoutView",
      "align_content": null,
      "align_items": null,
      "align_self": null,
      "border": null,
      "bottom": null,
      "display": null,
      "flex": null,
      "flex_flow": null,
      "grid_area": null,
      "grid_auto_columns": null,
      "grid_auto_flow": null,
      "grid_auto_rows": null,
      "grid_column": null,
      "grid_gap": null,
      "grid_row": null,
      "grid_template_areas": null,
      "grid_template_columns": null,
      "grid_template_rows": null,
      "height": null,
      "justify_content": null,
      "justify_items": null,
      "left": null,
      "margin": null,
      "max_height": null,
      "max_width": null,
      "min_height": null,
      "min_width": null,
      "object_fit": null,
      "object_position": null,
      "order": null,
      "overflow": null,
      "overflow_x": null,
      "overflow_y": null,
      "padding": null,
      "right": null,
      "top": null,
      "visibility": null,
      "width": null
     }
    },
    "d22fbc2c5dbf422399e496c9b500025a": {
     "model_module": "@jupyter-widgets/base",
     "model_module_version": "1.2.0",
     "model_name": "LayoutModel",
     "state": {
      "_model_module": "@jupyter-widgets/base",
      "_model_module_version": "1.2.0",
      "_model_name": "LayoutModel",
      "_view_count": null,
      "_view_module": "@jupyter-widgets/base",
      "_view_module_version": "1.2.0",
      "_view_name": "LayoutView",
      "align_content": null,
      "align_items": null,
      "align_self": null,
      "border": null,
      "bottom": null,
      "display": null,
      "flex": null,
      "flex_flow": null,
      "grid_area": null,
      "grid_auto_columns": null,
      "grid_auto_flow": null,
      "grid_auto_rows": null,
      "grid_column": null,
      "grid_gap": null,
      "grid_row": null,
      "grid_template_areas": null,
      "grid_template_columns": null,
      "grid_template_rows": null,
      "height": null,
      "justify_content": null,
      "justify_items": null,
      "left": null,
      "margin": null,
      "max_height": null,
      "max_width": null,
      "min_height": null,
      "min_width": null,
      "object_fit": null,
      "object_position": null,
      "order": null,
      "overflow": null,
      "overflow_x": null,
      "overflow_y": null,
      "padding": null,
      "right": null,
      "top": null,
      "visibility": null,
      "width": null
     }
    },
    "de1a3f7701c243839fe03b930a9b9e30": {
     "model_module": "@jupyter-widgets/controls",
     "model_module_version": "1.5.0",
     "model_name": "HBoxModel",
     "state": {
      "_dom_classes": [],
      "_model_module": "@jupyter-widgets/controls",
      "_model_module_version": "1.5.0",
      "_model_name": "HBoxModel",
      "_view_count": null,
      "_view_module": "@jupyter-widgets/controls",
      "_view_module_version": "1.5.0",
      "_view_name": "HBoxView",
      "box_style": "",
      "children": [
       "IPY_MODEL_ebc22683058a4f229c5588e52fc93536",
       "IPY_MODEL_52095cc7087243ac916055e569fd22f3",
       "IPY_MODEL_a15af9e8158f4903b9189f3d322a5ef3"
      ],
      "layout": "IPY_MODEL_21d2e54b5a0a4f79973a512105da43eb"
     }
    },
    "e920dbc173c045d1a32143349f1dff8e": {
     "model_module": "@jupyter-widgets/controls",
     "model_module_version": "1.5.0",
     "model_name": "HBoxModel",
     "state": {
      "_dom_classes": [],
      "_model_module": "@jupyter-widgets/controls",
      "_model_module_version": "1.5.0",
      "_model_name": "HBoxModel",
      "_view_count": null,
      "_view_module": "@jupyter-widgets/controls",
      "_view_module_version": "1.5.0",
      "_view_name": "HBoxView",
      "box_style": "",
      "children": [
       "IPY_MODEL_58c794fb7ce543a39fdf66d757f6eeab",
       "IPY_MODEL_8a6464a355f7464c989033965d418a8a",
       "IPY_MODEL_3645438ace1f4596a8dbc157b48c1521"
      ],
      "layout": "IPY_MODEL_58001a60eacc44d5b38a68648adccde4"
     }
    },
    "ebc22683058a4f229c5588e52fc93536": {
     "model_module": "@jupyter-widgets/controls",
     "model_module_version": "1.5.0",
     "model_name": "HTMLModel",
     "state": {
      "_dom_classes": [],
      "_model_module": "@jupyter-widgets/controls",
      "_model_module_version": "1.5.0",
      "_model_name": "HTMLModel",
      "_view_count": null,
      "_view_module": "@jupyter-widgets/controls",
      "_view_module_version": "1.5.0",
      "_view_name": "HTMLView",
      "description": "",
      "description_tooltip": null,
      "layout": "IPY_MODEL_083ea69907bb48d4a8fff919bac51aad",
      "placeholder": "​",
      "style": "IPY_MODEL_2a190bda0b72407e9a953cd2104dd3b2",
      "value": "special_tokens_map.json: 100%"
     }
    }
   }
  }
 },
 "nbformat": 4,
 "nbformat_minor": 4
}
