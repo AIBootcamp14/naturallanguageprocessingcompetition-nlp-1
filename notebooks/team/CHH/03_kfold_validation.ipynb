{
 "cells": [
  {
   "cell_type": "markdown",
   "metadata": {},
   "source": [
    "# 📊 K-Fold 교차 검증 - 5-Fold Cross Validation\n",
    "> PRD 계획에 따른 K-Fold 교차 검증으로 모델 안정성 평가\n",
    "\n",
    "**목표 성능**: ROUGE-F1 72-75"
   ]
  },
  {
   "cell_type": "code",
   "execution_count": 1,
   "metadata": {},
   "outputs": [
    {
     "name": "stdout",
     "output_type": "stream",
     "text": [
      "Project Root: /home/ieyeppo/AI_Lab/natural-language-processing-competition\n",
      "Current Dir: /home/ieyeppo/AI_Lab/natural-language-processing-competition/notebooks/team/CHH\n",
      "Libraries imported successfully!\n"
     ]
    }
   ],
   "source": [
    "# 환경 설정\n",
    "import sys\n",
    "import os\n",
    "from pathlib import Path\n",
    "\n",
    "# 프로젝트 루트 경로 추가\n",
    "notebook_dir = Path.cwd()\n",
    "project_root = notebook_dir.parent.parent.parent  # 3번만 parent 사용!\n",
    "\n",
    "# 다른 프로젝트 경로 제거하고 현재 프로젝트 경로만 추가\n",
    "sys.path = [p for p in sys.path if 'computer-vision-competition' not in p]\n",
    "if str(project_root) not in sys.path:\n",
    "    sys.path.insert(0, str(project_root))\n",
    "\n",
    "print(f\"Project Root: {project_root}\")\n",
    "print(f\"Current Dir: {notebook_dir}\")\n",
    "\n",
    "# 필요한 라이브러리 임포트\n",
    "import yaml\n",
    "import pandas as pd\n",
    "import numpy as np\n",
    "from sklearn.model_selection import KFold\n",
    "import torch\n",
    "from datetime import datetime\n",
    "import wandb\n",
    "\n",
    "# 커스텀 모듈 임포트\n",
    "from src.logging.notebook_logger import NotebookLogger\n",
    "from src.utils.gpu_optimization.team_gpu_check import check_gpu_tier\n",
    "\n",
    "print(\"Libraries imported successfully!\")"
   ]
  },
  {
   "cell_type": "code",
   "execution_count": 2,
   "metadata": {},
   "outputs": [
    {
     "name": "stdout",
     "output_type": "stream",
     "text": [
      "K-Fold Splits: 5\n",
      "Model: upstage/SOLAR-10.7B-Instruct-v1.0\n",
      "Ensemble Method: weighted_average\n",
      "Save Each Fold: True\n"
     ]
    }
   ],
   "source": [
    "# 설정 파일 로드\n",
    "config_path = notebook_dir / 'configs' / 'config_kfold.yaml'\n",
    "\n",
    "with open(config_path, 'r', encoding='utf-8') as f:\n",
    "    config = yaml.safe_load(f)\n",
    "\n",
    "print(f\"K-Fold Splits: {config['kfold']['n_splits']}\")\n",
    "print(f\"Model: {config['model']['name']}\")\n",
    "print(f\"Ensemble Method: {config['kfold']['ensemble_method']}\")\n",
    "print(f\"Save Each Fold: {config['kfold']['save_each_fold']}\")"
   ]
  },
  {
   "cell_type": "code",
   "execution_count": 3,
   "metadata": {},
   "outputs": [
    {
     "name": "stdout",
     "output_type": "stream",
     "text": [
      "==================================================\n",
      "K-Fold Cross Validation Experiment\n",
      "Timestamp: 20251010_090402\n",
      "Folds: 5\n",
      "==================================================\n"
     ]
    }
   ],
   "source": [
    "# 로그 디렉토리 생성\n",
    "# config의 로그 경로 사용\n",
    "def get_path(path_str):\n",
    "    \"\"\"config의 상대 경로를 절대 경로로 변환\"\"\"\n",
    "    path = Path(path_str)\n",
    "    if not path.is_absolute():\n",
    "        path = notebook_dir / path\n",
    "    return path\n",
    "\n",
    "# config에 log_dir이 정의되어 있으면 사용, 없으면 기본값\n",
    "if 'log_dir' in config['paths']:\n",
    "    log_dir = get_path(config['paths']['log_dir'])\n",
    "else:\n",
    "    # 기본값: notebook_dir/logs/kfold\n",
    "    log_dir = notebook_dir / 'logs' / 'kfold'\n",
    "\n",
    "log_dir.mkdir(parents=True, exist_ok=True)\n",
    "\n",
    "# 타임스탬프 생성\n",
    "timestamp = datetime.now().strftime('%Y%m%d_%H%M%S')\n",
    "\n",
    "# 로거 초기화\n",
    "log_file = log_dir / f'kfold_{config[\"kfold\"][\"n_splits\"]}fold_{timestamp}.log'\n",
    "logger = NotebookLogger(\n",
    "    log_path=str(log_file),\n",
    "    print_also=True\n",
    ")\n",
    "\n",
    "logger.write('='*50)\n",
    "logger.write('K-Fold Cross Validation Experiment')\n",
    "logger.write(f'Timestamp: {timestamp}')\n",
    "logger.write(f'Folds: {config[\"kfold\"][\"n_splits\"]}')\n",
    "logger.write('='*50)"
   ]
  },
  {
   "cell_type": "code",
   "execution_count": 4,
   "metadata": {},
   "outputs": [
    {
     "name": "stdout",
     "output_type": "stream",
     "text": [
      "KFold configured:\n",
      "  - Splits: 5\n",
      "  - Shuffle: True\n",
      "  - Random State: 42\n"
     ]
    }
   ],
   "source": [
    "# K-Fold 설정\n",
    "kfold = KFold(\n",
    "    n_splits=config['kfold']['n_splits'],\n",
    "    shuffle=config['kfold']['shuffle'],\n",
    "    random_state=config['kfold']['random_state']\n",
    ")\n",
    "\n",
    "logger.write(f\"KFold configured:\")\n",
    "logger.write(f\"  - Splits: {config['kfold']['n_splits']}\")\n",
    "logger.write(f\"  - Shuffle: {config['kfold']['shuffle']}\")\n",
    "logger.write(f\"  - Random State: {config['kfold']['random_state']}\")"
   ]
  },
  {
   "cell_type": "code",
   "execution_count": 5,
   "metadata": {},
   "outputs": [
    {
     "name": "stdout",
     "output_type": "stream",
     "text": [
      "Loading data from config path:\n",
      "  - Train: /home/ieyeppo/AI_Lab/natural-language-processing-competition/notebooks/team/CHH/../../../data/raw/train.csv\n",
      "\n",
      "Data loaded: 12457 samples\n",
      "Fold 1: Train=9965, Val=2492\n",
      "Fold 1: Train=9965, Val=2492\n",
      "Fold 2: Train=9965, Val=2492\n",
      "Fold 2: Train=9965, Val=2492\n",
      "Fold 3: Train=9966, Val=2491\n",
      "Fold 3: Train=9966, Val=2491\n",
      "Fold 4: Train=9966, Val=2491\n",
      "Fold 4: Train=9966, Val=2491\n",
      "Fold 5: Train=9966, Val=2491\n",
      "Fold 5: Train=9966, Val=2491\n"
     ]
    }
   ],
   "source": [
    "# 데이터 로드\n",
    "# config 파일의 경로 사용\n",
    "def get_data_path(path_str):\n",
    "    \"\"\"config의 상대 경로를 절대 경로로 변환\"\"\"\n",
    "    path = Path(path_str)\n",
    "    if not path.is_absolute():\n",
    "        path = notebook_dir / path\n",
    "    return path\n",
    "\n",
    "# config에서 데이터 경로 가져오기\n",
    "train_path = get_data_path(config['paths']['train_file'])\n",
    "\n",
    "logger.write(f\"Loading data from config path:\")\n",
    "logger.write(f\"  - Train: {train_path}\")\n",
    "\n",
    "# 데이터 로드\n",
    "train_df = pd.read_csv(train_path)\n",
    "\n",
    "logger.write(f\"\\nData loaded: {len(train_df)} samples\")\n",
    "\n",
    "# Fold별 데이터 분할 확인\n",
    "for fold_idx, (train_idx, val_idx) in enumerate(kfold.split(train_df), 1):\n",
    "    logger.write(f\"Fold {fold_idx}: Train={len(train_idx)}, Val={len(val_idx)}\")\n",
    "    print(f\"Fold {fold_idx}: Train={len(train_idx)}, Val={len(val_idx)}\")"
   ]
  },
  {
   "cell_type": "code",
   "execution_count": 6,
   "metadata": {},
   "outputs": [
    {
     "name": "stdout",
     "output_type": "stream",
     "text": [
      "\n",
      "GPU: NVIDIA GeForce RTX 4090\n",
      "GPU Tier: LOW\n",
      "Will clear GPU cache between folds\n"
     ]
    }
   ],
   "source": [
    "# GPU 체크\n",
    "if torch.cuda.is_available():\n",
    "    gpu_tier = check_gpu_tier()\n",
    "    logger.write(f\"\\nGPU: {torch.cuda.get_device_name(0)}\")\n",
    "    logger.write(f\"GPU Tier: {gpu_tier}\")\n",
    "    \n",
    "    if config['gpu']['empty_cache_between_folds']:\n",
    "        logger.write(\"Will clear GPU cache between folds\")"
   ]
  },
  {
   "cell_type": "code",
   "execution_count": 7,
   "metadata": {},
   "outputs": [
    {
     "name": "stdout",
     "output_type": "stream",
     "text": [
      "\n",
      "Starting K-Fold Cross Validation...\n",
      "--------------------------------------------------\n"
     ]
    }
   ],
   "source": [
    "# Fold별 성능 추적 초기화\n",
    "fold_results = []\n",
    "\n",
    "logger.write(\"\\nStarting K-Fold Cross Validation...\")\n",
    "logger.write(\"-\" * 50)"
   ]
  },
  {
   "cell_type": "markdown",
   "metadata": {},
   "source": [
    "## K-Fold 학습 루프\n",
    "\n",
    "각 Fold별로 모델을 학습하고 평가합니다."
   ]
  },
  {
   "cell_type": "code",
   "execution_count": 8,
   "metadata": {},
   "outputs": [
    {
     "name": "stdout",
     "output_type": "stream",
     "text": [
      "\n",
      "=== Training Fold 1/5 ===\n",
      "GPU cache cleared\n",
      "Fold 1 training would start here...\n"
     ]
    }
   ],
   "source": [
    "# 예시: Fold 1 학습\n",
    "fold_idx = 1\n",
    "logger.write(f\"\\n=== Training Fold {fold_idx}/{config['kfold']['n_splits']} ===\")\n",
    "\n",
    "# GPU 캐시 정리 (설정된 경우)\n",
    "if config['gpu']['empty_cache_between_folds'] and torch.cuda.is_available():\n",
    "    torch.cuda.empty_cache()\n",
    "    logger.write(\"GPU cache cleared\")\n",
    "\n",
    "# 실제 학습 코드는 config 설정에 따라 구현\n",
    "logger.write(f\"Fold {fold_idx} training would start here...\")"
   ]
  },
  {
   "cell_type": "markdown",
   "metadata": {},
   "source": [
    "## 앙상블 및 최종 평가\n",
    "\n",
    "모든 Fold의 결과를 앙상블하여 최종 성능을 평가합니다."
   ]
  }
 ],
 "metadata": {
  "kernelspec": {
   "display_name": "nlp_py3_11_9",
   "language": "python",
   "name": "python3"
  },
  "language_info": {
   "codemirror_mode": {
    "name": "ipython",
    "version": 3
   },
   "file_extension": ".py",
   "mimetype": "text/x-python",
   "name": "python",
   "nbconvert_exporter": "python",
   "pygments_lexer": "ipython3",
   "version": "3.11.9"
  }
 },
 "nbformat": 4,
 "nbformat_minor": 4
}
