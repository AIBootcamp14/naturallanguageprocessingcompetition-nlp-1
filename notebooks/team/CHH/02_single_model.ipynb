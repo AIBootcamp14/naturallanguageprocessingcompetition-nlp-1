{
 "cells": [
  {
   "cell_type": "markdown",
   "metadata": {},
   "source": [
    "# 🚀 단일 모델 실험 - SOLAR/Polyglot-Ko LLM 파인튜닝\n",
    "> PRD 계획에 따른 LLM 모델 LoRA 파인튜닝\n",
    "\n",
    "**목표 성능**: ROUGE-F1 70-73"
   ]
  },
  {
   "cell_type": "code",
   "execution_count": 1,
   "metadata": {},
   "outputs": [
    {
     "name": "stdout",
     "output_type": "stream",
     "text": [
      "Project Root: /home/ieyeppo/AI_Lab/natural-language-processing-competition\n",
      "Current Dir: /home/ieyeppo/AI_Lab/natural-language-processing-competition/notebooks/team/CHH\n",
      "Libraries imported successfully!\n"
     ]
    }
   ],
   "source": [
    "# 환경 설정\n",
    "import sys\n",
    "import os\n",
    "from pathlib import Path\n",
    "\n",
    "# 프로젝트 루트 경로 추가\n",
    "notebook_dir = Path.cwd()\n",
    "project_root = notebook_dir.parent.parent.parent  # 3번만 parent 사용!\n",
    "\n",
    "# 다른 프로젝트 경로 제거하고 현재 프로젝트 경로만 추가\n",
    "sys.path = [p for p in sys.path if 'computer-vision-competition' not in p]\n",
    "if str(project_root) not in sys.path:\n",
    "    sys.path.insert(0, str(project_root))\n",
    "\n",
    "print(f\"Project Root: {project_root}\")\n",
    "print(f\"Current Dir: {notebook_dir}\")\n",
    "\n",
    "# 필요한 라이브러리 임포트\n",
    "import yaml\n",
    "import pandas as pd\n",
    "import torch\n",
    "from datetime import datetime\n",
    "from transformers import AutoModelForCausalLM, AutoTokenizer\n",
    "from peft import LoraConfig, get_peft_model, TaskType\n",
    "import wandb\n",
    "\n",
    "# 커스텀 모듈 임포트\n",
    "from src.logging.notebook_logger import NotebookLogger\n",
    "from src.utils.gpu_optimization.team_gpu_check import check_gpu_tier\n",
    "\n",
    "print(\"Libraries imported successfully!\")"
   ]
  },
  {
   "cell_type": "code",
   "execution_count": 2,
   "metadata": {},
   "outputs": [
    {
     "name": "stdout",
     "output_type": "stream",
     "text": [
      "Selected Model: upstage/SOLAR-10.7B-Instruct-v1.0\n",
      "Using LoRA: True\n",
      "  - LoRA r: 16\n",
      "  - LoRA alpha: 32\n"
     ]
    }
   ],
   "source": [
    "# 설정 파일 로드\n",
    "config_path = notebook_dir / 'configs' / 'config_single_model.yaml'\n",
    "\n",
    "with open(config_path, 'r', encoding='utf-8') as f:\n",
    "    config = yaml.safe_load(f)\n",
    "\n",
    "# 모델 선택\n",
    "current_model = config['current_model']\n",
    "model_config = config['models'][current_model]\n",
    "\n",
    "print(f\"Selected Model: {model_config['name']}\")\n",
    "print(f\"Using LoRA: {model_config['use_lora']}\")\n",
    "if model_config['use_lora']:\n",
    "    print(f\"  - LoRA r: {model_config['lora_r']}\")\n",
    "    print(f\"  - LoRA alpha: {model_config['lora_alpha']}\")"
   ]
  },
  {
   "cell_type": "code",
   "execution_count": 3,
   "metadata": {},
   "outputs": [
    {
     "name": "stdout",
     "output_type": "stream",
     "text": [
      "Log Directory: logs/single_model\n",
      "==================================================\n",
      "Single Model Experiment: solar\n",
      "Timestamp: 20251010_090241\n",
      "Model: upstage/SOLAR-10.7B-Instruct-v1.0\n",
      "==================================================\n"
     ]
    }
   ],
   "source": [
    "# 로그 디렉토리 생성\n",
    "log_dir = Path(config['paths']['log_dir'])\n",
    "print(f\"Log Directory: {log_dir}\")\n",
    "log_dir.mkdir(parents=True, exist_ok=True)\n",
    "\n",
    "# 타임스탬프 생성\n",
    "timestamp = datetime.now().strftime('%Y%m%d_%H%M%S')\n",
    "\n",
    "# 로거 초기화\n",
    "log_file = log_dir / f'single_model_{current_model}_{timestamp}.log'\n",
    "logger = NotebookLogger(\n",
    "    log_path=str(log_file),\n",
    "    print_also=True\n",
    ")\n",
    "\n",
    "logger.write('='*50)\n",
    "logger.write(f'Single Model Experiment: {current_model}')\n",
    "logger.write(f'Timestamp: {timestamp}')\n",
    "logger.write(f'Model: {model_config[\"name\"]}')\n",
    "logger.write('='*50)"
   ]
  },
  {
   "cell_type": "code",
   "execution_count": 4,
   "metadata": {},
   "outputs": [
    {
     "name": "stdout",
     "output_type": "stream",
     "text": [
      "GPU: NVIDIA GeForce RTX 4090\n",
      "GPU Tier: LOW\n"
     ]
    }
   ],
   "source": [
    "# GPU 체크\n",
    "if torch.cuda.is_available():\n",
    "    gpu_tier = check_gpu_tier()\n",
    "    device = torch.device('cuda')\n",
    "    logger.write(f\"GPU: {torch.cuda.get_device_name(0)}\")\n",
    "    logger.write(f\"GPU Tier: {gpu_tier}\")\n",
    "else:\n",
    "    device = torch.device('cpu')\n",
    "    logger.write(\"WARNING: No GPU available\")"
   ]
  },
  {
   "cell_type": "code",
   "execution_count": 5,
   "metadata": {},
   "outputs": [
    {
     "name": "stdout",
     "output_type": "stream",
     "text": [
      "LoRA configuration created\n",
      "  - r: 16\n",
      "  - alpha: 32\n",
      "  - dropout: 0.1\n"
     ]
    }
   ],
   "source": [
    "# LoRA 설정\n",
    "if model_config['use_lora']:\n",
    "    lora_config = LoraConfig(\n",
    "        r=model_config['lora_r'],\n",
    "        lora_alpha=model_config['lora_alpha'],\n",
    "        lora_dropout=model_config['lora_dropout'],\n",
    "        task_type=TaskType.CAUSAL_LM,\n",
    "        target_modules=config['peft']['target_modules']\n",
    "    )\n",
    "    logger.write(\"LoRA configuration created\")\n",
    "    logger.write(f\"  - r: {model_config['lora_r']}\")\n",
    "    logger.write(f\"  - alpha: {model_config['lora_alpha']}\")\n",
    "    logger.write(f\"  - dropout: {model_config['lora_dropout']}\")"
   ]
  },
  {
   "cell_type": "code",
   "execution_count": 6,
   "metadata": {},
   "outputs": [
    {
     "name": "stdout",
     "output_type": "stream",
     "text": [
      "Prompt template loaded\n",
      "\n",
      "Sample Prompt:\n",
      "### Instruction:\n",
      "다음 대화를 3-5문장으로 요약해주세요. 핵심 내용과 중요한 정보를 포함시켜주세요.\n",
      "\n",
      "### Input:\n",
      "#Person1#: 안녕하세요?\n",
      "#Person2#: 안녕하세요!\n",
      "\n",
      "### Response:\n",
      "\n",
      "...\n"
     ]
    }
   ],
   "source": [
    "# 프롬프트 템플릿 확인\n",
    "sample_dialogue = \"#Person1#: 안녕하세요?\\n#Person2#: 안녕하세요!\"\n",
    "prompt = config['prompt_template']['instruction_format'].format(\n",
    "    dialogue=sample_dialogue,\n",
    "    summary=\"\"\n",
    ")\n",
    "logger.write(\"Prompt template loaded\")\n",
    "print(\"\\nSample Prompt:\")\n",
    "print(prompt[:300] + \"...\")"
   ]
  },
  {
   "cell_type": "code",
   "execution_count": 7,
   "metadata": {},
   "outputs": [
    {
     "name": "stdout",
     "output_type": "stream",
     "text": [
      "Loading data from config paths:\n",
      "  - Train: /home/ieyeppo/AI_Lab/natural-language-processing-competition/notebooks/team/CHH/../../../data/raw/train.csv\n",
      "  - Dev: /home/ieyeppo/AI_Lab/natural-language-processing-competition/notebooks/team/CHH/../../../data/raw/dev.csv\n",
      "  - Test: /home/ieyeppo/AI_Lab/natural-language-processing-competition/notebooks/team/CHH/../../../data/raw/test.csv\n",
      "Data loaded successfully!\n",
      "Train samples: 12457\n",
      "Dev samples: 499\n",
      "Test samples: 499\n",
      "\n",
      "Sample train data:\n",
      "     fname  topic\n",
      "0  train_0   건강검진\n",
      "1  train_1  백신 접종\n",
      "2  train_2  열쇠 분실\n",
      "\n",
      "Dialogue sample (first 200 chars):\n",
      "#Person1#: 안녕하세요, Mr. Smith. 저는 Dr. Hawkins입니다. 오늘 무슨 일로 오셨어요? \n",
      "#Person2#: 건강검진을 받으려고 왔어요. \n",
      "#Person1#: 네, 5년 동안 검진을 안 받으셨네요. 매년 한 번씩 받으셔야 해요. \n",
      "#Person2#: 알죠. 특별히 아픈 데가 없으면 굳이 갈 필요가 없다고 생각했어요. \n",
      "#Person...\n"
     ]
    }
   ],
   "source": [
    "# 데이터 경로 설정 및 로드\n",
    "# config 파일의 경로 사용\n",
    "def get_data_path(path_str):\n",
    "    \"\"\"config의 상대 경로를 절대 경로로 변환\"\"\"\n",
    "    path = Path(path_str)\n",
    "    if not path.is_absolute():\n",
    "        path = notebook_dir / path\n",
    "    return path\n",
    "\n",
    "# config에서 데이터 경로 가져오기\n",
    "train_path = get_data_path(config['paths']['train_file'])\n",
    "dev_path = get_data_path(config['paths']['dev_file'])\n",
    "test_path = get_data_path(config['paths']['test_file'])\n",
    "\n",
    "logger.write(f\"Loading data from config paths:\")\n",
    "logger.write(f\"  - Train: {train_path}\")\n",
    "logger.write(f\"  - Dev: {dev_path}\")\n",
    "logger.write(f\"  - Test: {test_path}\")\n",
    "\n",
    "# 데이터 로드\n",
    "train_df = pd.read_csv(train_path)\n",
    "dev_df = pd.read_csv(dev_path)\n",
    "test_df = pd.read_csv(test_path)\n",
    "\n",
    "logger.write(f\"Data loaded successfully!\")\n",
    "logger.write(f\"Train samples: {len(train_df)}\")\n",
    "logger.write(f\"Dev samples: {len(dev_df)}\")\n",
    "logger.write(f\"Test samples: {len(test_df)}\")\n",
    "\n",
    "# 데이터 샘플 출력\n",
    "print(\"\\nSample train data:\")\n",
    "print(train_df[['fname', 'topic']].head(3))\n",
    "print(f\"\\nDialogue sample (first 200 chars):\")\n",
    "print(train_df.iloc[0]['dialogue'][:200] + \"...\")"
   ]
  },
  {
   "cell_type": "markdown",
   "metadata": {},
   "source": [
    "## LLM 파인튜닝 구현\n",
    "\n",
    "실제 파인튜닝 코드는 config 설정에 따라 구현됩니다."
   ]
  },
  {
   "cell_type": "markdown",
   "metadata": {},
   "source": []
  }
 ],
 "metadata": {
  "kernelspec": {
   "display_name": "nlp_py3_11_9",
   "language": "python",
   "name": "python3"
  },
  "language_info": {
   "codemirror_mode": {
    "name": "ipython",
    "version": 3
   },
   "file_extension": ".py",
   "mimetype": "text/x-python",
   "name": "python",
   "nbconvert_exporter": "python",
   "pygments_lexer": "ipython3",
   "version": "3.11.9"
  }
 },
 "nbformat": 4,
 "nbformat_minor": 4
}
