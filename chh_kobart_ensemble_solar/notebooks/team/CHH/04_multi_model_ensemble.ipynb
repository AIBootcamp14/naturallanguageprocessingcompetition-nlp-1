{
 "cells": [
  {
   "cell_type": "markdown",
   "metadata": {},
   "source": [
    "# 🎭 다중 모델 앙상블 - 5개 모델 통합\n",
    "> PRD 계획에 따른 5개 모델 앙상블 + TTA 전략\n",
    "\n",
    "**목표 성능**: ROUGE-F1 75-80"
   ]
  },
  {
   "cell_type": "code",
   "execution_count": 1,
   "metadata": {},
   "outputs": [
    {
     "name": "stdout",
     "output_type": "stream",
     "text": [
      "Project Root: /home/ieyeppo/AI_Lab/natural-language-processing-competition\n",
      "Current Dir: /home/ieyeppo/AI_Lab/natural-language-processing-competition/notebooks/team/CHH\n",
      "✅ 나눔고딕 폰트 로드 성공\n",
      "Libraries imported successfully!\n"
     ]
    }
   ],
   "source": [
    "# 환경 설정\n",
    "import sys\n",
    "import os\n",
    "from pathlib import Path\n",
    "\n",
    "# 프로젝트 루트 경로 추가\n",
    "notebook_dir = Path.cwd()\n",
    "project_root = notebook_dir.parent.parent.parent  # 3번만 parent 사용!\n",
    "\n",
    "# 다른 프로젝트 경로 제거하고 현재 프로젝트 경로만 추가\n",
    "sys.path = [p for p in sys.path if 'computer-vision-competition' not in p]\n",
    "if str(project_root) not in sys.path:\n",
    "    sys.path.insert(0, str(project_root))\n",
    "\n",
    "print(f\"Project Root: {project_root}\")\n",
    "print(f\"Current Dir: {notebook_dir}\")\n",
    "\n",
    "# 필요한 라이브러리 임포트\n",
    "import yaml\n",
    "import pandas as pd\n",
    "import numpy as np\n",
    "import torch\n",
    "from datetime import datetime\n",
    "from typing import List, Dict\n",
    "import matplotlib.pyplot as plt\n",
    "import wandb\n",
    "\n",
    "# 커스텀 모듈 임포트\n",
    "from src.logging.notebook_logger import NotebookLogger\n",
    "from src.utils.gpu_optimization.team_gpu_check import check_gpu_tier\n",
    "from src.utils.visualizations.training_viz import TrainingVisualizer\n",
    "\n",
    "print(\"Libraries imported successfully!\")"
   ]
  },
  {
   "cell_type": "code",
   "execution_count": 2,
   "metadata": {},
   "outputs": [
    {
     "name": "stdout",
     "output_type": "stream",
     "text": [
      "Enabled Models (5):\n",
      "  - solar: weight=0.30\n",
      "  - polyglot: weight=0.25\n",
      "  - kullm: weight=0.20\n",
      "  - kobart: weight=0.15\n",
      "  - koalpaca: weight=0.10\n"
     ]
    }
   ],
   "source": [
    "# 설정 파일 로드\n",
    "config_path = notebook_dir / 'configs' / 'config_multi_model.yaml'\n",
    "\n",
    "with open(config_path, 'r', encoding='utf-8') as f:\n",
    "    config = yaml.safe_load(f)\n",
    "\n",
    "# 활성화된 모델 확인\n",
    "enabled_models = [name for name, cfg in config['ensemble_models'].items() if cfg['enabled']]\n",
    "print(f\"Enabled Models ({len(enabled_models)}):\")\n",
    "for model_name in enabled_models:\n",
    "    weight = config['ensemble_models'][model_name]['weight']\n",
    "    print(f\"  - {model_name}: weight={weight:.2f}\")"
   ]
  },
  {
   "cell_type": "code",
   "execution_count": 3,
   "metadata": {},
   "outputs": [
    {
     "name": "stdout",
     "output_type": "stream",
     "text": [
      "==================================================\n",
      "Multi-Model Ensemble Experiment\n",
      "Timestamp: 20251010_090607\n",
      "Models: ['solar', 'polyglot', 'kullm', 'kobart', 'koalpaca']\n",
      "Ensemble Method: weighted_average\n",
      "==================================================\n"
     ]
    }
   ],
   "source": [
    "# 로그 디렉토리 생성\n",
    "# config의 로그 경로 사용\n",
    "def get_path(path_str):\n",
    "    \"\"\"config의 상대 경로를 절대 경로로 변환\"\"\"\n",
    "    path = Path(path_str)\n",
    "    if not path.is_absolute():\n",
    "        path = notebook_dir / path\n",
    "    return path\n",
    "\n",
    "# config에 log_dir이 정의되어 있으면 사용, 없으면 기본값\n",
    "if 'log_dir' in config['paths']:\n",
    "    log_dir = get_path(config['paths']['log_dir'])\n",
    "else:\n",
    "    # 기본값: notebook_dir/logs/multi_model\n",
    "    log_dir = notebook_dir / 'logs' / 'multi_model'\n",
    "\n",
    "log_dir.mkdir(parents=True, exist_ok=True)\n",
    "\n",
    "# 타임스탬프 생성\n",
    "timestamp = datetime.now().strftime('%Y%m%d_%H%M%S')\n",
    "\n",
    "# 로거 초기화\n",
    "log_file = log_dir / f'ensemble_{len(enabled_models)}models_{timestamp}.log'\n",
    "logger = NotebookLogger(\n",
    "    log_path=str(log_file),\n",
    "    print_also=True\n",
    ")\n",
    "\n",
    "logger.write('='*50)\n",
    "logger.write('Multi-Model Ensemble Experiment')\n",
    "logger.write(f'Timestamp: {timestamp}')\n",
    "logger.write(f'Models: {enabled_models}')\n",
    "logger.write(f'Ensemble Method: {config[\"ensemble_strategy\"][\"method\"]}')\n",
    "logger.write('='*50)"
   ]
  },
  {
   "cell_type": "code",
   "execution_count": 4,
   "metadata": {},
   "outputs": [
    {
     "name": "stdout",
     "output_type": "stream",
     "text": [
      "\n",
      "TTA Configuration:\n",
      "  - Augmentations: 3\n",
      "  - Aggregation: mean\n",
      "  - paraphrase: enabled\n",
      "TTA: paraphrase enabled\n",
      "  - reorder: enabled\n",
      "TTA: reorder enabled\n"
     ]
    }
   ],
   "source": [
    "# TTA 설정 확인\n",
    "if config['tta']['enabled']:\n",
    "    logger.write(\"\\nTTA Configuration:\")\n",
    "    logger.write(f\"  - Augmentations: {config['tta']['num_augmentations']}\")\n",
    "    logger.write(f\"  - Aggregation: {config['tta']['aggregation']}\")\n",
    "    \n",
    "    for technique, settings in config['tta']['techniques'].items():\n",
    "        if settings['enabled']:\n",
    "            logger.write(f\"  - {technique}: enabled\")\n",
    "            print(f\"TTA: {technique} enabled\")"
   ]
  },
  {
   "cell_type": "code",
   "execution_count": 5,
   "metadata": {},
   "outputs": [
    {
     "name": "stdout",
     "output_type": "stream",
     "text": [
      "\n",
      "GPU: NVIDIA GeForce RTX 4090\n",
      "GPU Tier: LOW\n",
      "Will clear GPU cache between models\n"
     ]
    }
   ],
   "source": [
    "# GPU 체크 및 멀티 GPU 설정\n",
    "if torch.cuda.is_available():\n",
    "    gpu_tier = check_gpu_tier()\n",
    "    logger.write(f\"\\nGPU: {torch.cuda.get_device_name(0)}\")\n",
    "    logger.write(f\"GPU Tier: {gpu_tier}\")\n",
    "    \n",
    "    # 멀티 GPU 체크\n",
    "    if config['gpu']['multi_gpu']['enabled'] and torch.cuda.device_count() > 1:\n",
    "        logger.write(f\"Multi-GPU available: {torch.cuda.device_count()} GPUs\")\n",
    "    \n",
    "    # 메모리 관리 설정\n",
    "    if config['gpu']['empty_cache_between_models']:\n",
    "        logger.write(\"Will clear GPU cache between models\")"
   ]
  },
  {
   "cell_type": "code",
   "execution_count": 6,
   "metadata": {},
   "outputs": [
    {
     "name": "stdout",
     "output_type": "stream",
     "text": [
      "Weight visualization saved to /home/ieyeppo/AI_Lab/natural-language-processing-competition/notebooks/team/CHH/logs/multi_model/visualizations\n"
     ]
    },
    {
     "name": "stderr",
     "output_type": "stream",
     "text": [
      "/tmp/ipykernel_109226/3820716939.py:30: UserWarning: FigureCanvasAgg is non-interactive, and thus cannot be shown\n",
      "  plt.show()\n"
     ]
    }
   ],
   "source": [
    "# 앙상블 가중치 시각화\n",
    "weights = [config['ensemble_models'][name]['weight'] for name in enabled_models]\n",
    "colors = ['#1f77b4', '#ff7f0e', '#2ca02c', '#d62728', '#9467bd']\n",
    "\n",
    "plt.figure(figsize=(12, 6))\n",
    "bars = plt.bar(enabled_models, weights, color=colors[:len(enabled_models)])\n",
    "plt.title('Ensemble Model Weights Distribution', fontsize=14, fontweight='bold')\n",
    "plt.ylabel('Weight', fontsize=12)\n",
    "plt.xlabel('Model', fontsize=12)\n",
    "\n",
    "# 가중치 값 표시\n",
    "for bar, weight in zip(bars, weights):\n",
    "    height = bar.get_height()\n",
    "    plt.text(bar.get_x() + bar.get_width()/2., height,\n",
    "             f'{weight:.2f}', ha='center', va='bottom', fontweight='bold')\n",
    "\n",
    "plt.xticks(rotation=45, ha='right')\n",
    "plt.grid(axis='y', alpha=0.3)\n",
    "plt.tight_layout()\n",
    "\n",
    "# 시각화 저장 - config 경로 사용\n",
    "if 'visualization_dir' in config['paths']:\n",
    "    viz_dir = get_path(config['paths']['visualization_dir'])\n",
    "else:\n",
    "    # 기본값\n",
    "    viz_dir = log_dir / 'visualizations'\n",
    "\n",
    "viz_dir.mkdir(parents=True, exist_ok=True)\n",
    "plt.savefig(viz_dir / f'ensemble_weights_{timestamp}.png', dpi=100, bbox_inches='tight')\n",
    "plt.show()\n",
    "\n",
    "logger.write(f\"Weight visualization saved to {viz_dir}\")"
   ]
  },
  {
   "cell_type": "code",
   "execution_count": 7,
   "metadata": {},
   "outputs": [
    {
     "name": "stdout",
     "output_type": "stream",
     "text": [
      "\n",
      "Solar API Comparison Settings:\n",
      "  - API Key: up_rMJWNzz...\n",
      "  - Use as baseline: True\n",
      "  - Include in ensemble: False\n",
      "\n",
      "Solar API configured for comparison\n"
     ]
    }
   ],
   "source": [
    "# Solar API 비교 설정\n",
    "if config['solar_api_comparison']['enabled']:\n",
    "    logger.write(\"\\nSolar API Comparison Settings:\")\n",
    "    logger.write(f\"  - API Key: {config['solar_api_comparison']['api_key'][:10]}...\")\n",
    "    logger.write(f\"  - Use as baseline: {config['solar_api_comparison']['use_as_baseline']}\")\n",
    "    logger.write(f\"  - Include in ensemble: {config['solar_api_comparison']['include_in_ensemble']}\")\n",
    "    \n",
    "    print(\"\\nSolar API configured for comparison\")"
   ]
  },
  {
   "cell_type": "code",
   "execution_count": 8,
   "metadata": {},
   "outputs": [
    {
     "name": "stdout",
     "output_type": "stream",
     "text": [
      "\n",
      "Optuna Weight Optimization:\n",
      "  - Trials: 50\n",
      "  - Study: ensemble_weight_optimization\n",
      "  - Metric: rouge_l\n",
      "Optuna configured for ensemble weight optimization\n"
     ]
    }
   ],
   "source": [
    "# Optuna 최적화 설정 (앙상블 가중치)\n",
    "if config['optuna']['enabled']:\n",
    "    logger.write(\"\\nOptuna Weight Optimization:\")\n",
    "    logger.write(f\"  - Trials: {config['optuna']['n_trials']}\")\n",
    "    logger.write(f\"  - Study: {config['optuna']['study_name']}\")\n",
    "    logger.write(f\"  - Metric: {config['optuna']['metric']}\")\n",
    "    \n",
    "    import optuna\n",
    "    print(\"Optuna configured for ensemble weight optimization\")"
   ]
  },
  {
   "cell_type": "markdown",
   "metadata": {},
   "source": [
    "## 모델별 학습 및 평가\n",
    "\n",
    "각 모델을 개별적으로 학습하고 평가합니다."
   ]
  },
  {
   "cell_type": "code",
   "execution_count": 9,
   "metadata": {},
   "outputs": [
    {
     "name": "stdout",
     "output_type": "stream",
     "text": [
      "\n",
      "=== Data Loading ===\n",
      "Loading data from config paths:\n",
      "  - Train: /home/ieyeppo/AI_Lab/natural-language-processing-competition/notebooks/team/CHH/../../../data/raw/train.csv\n",
      "  - Dev: /home/ieyeppo/AI_Lab/natural-language-processing-competition/notebooks/team/CHH/../../../data/raw/dev.csv\n",
      "  - Test: /home/ieyeppo/AI_Lab/natural-language-processing-competition/notebooks/team/CHH/../../../data/raw/test.csv\n",
      "\n",
      "Data loaded successfully!\n",
      "  - Train samples: 12457\n",
      "  - Dev samples: 499\n",
      "  - Test samples: 499\n",
      "\n",
      "Train data topics:\n",
      "topic\n",
      "음식 주문     130\n",
      "취업 면접     109\n",
      "길 안내       66\n",
      "호텔 체크인     40\n",
      "아파트 임대     30\n",
      "일상 대화      29\n",
      "쇼핑         27\n",
      "주말 계획      26\n",
      "면접         25\n",
      "호텔 예약      25\n",
      "Name: count, dtype: int64\n",
      "\n",
      "First dialogue (200 chars):\n",
      "#Person1#: 안녕하세요, Mr. Smith. 저는 Dr. Hawkins입니다. 오늘 무슨 일로 오셨어요? \n",
      "#Person2#: 건강검진을 받으려고 왔어요. \n",
      "#Person1#: 네, 5년 동안 검진을 안 받으셨네요. 매년 한 번씩 받으셔야 해요. \n",
      "#Person2#: 알죠. 특별히 아픈 데가 없으면 굳이 갈 필요가 없다고 생각했어요. \n",
      "#Person...\n"
     ]
    }
   ],
   "source": [
    "# 데이터 로드\n",
    "# config 파일의 경로 사용\n",
    "def get_data_path(path_str):\n",
    "    \"\"\"config의 상대 경로를 절대 경로로 변환\"\"\"\n",
    "    path = Path(path_str)\n",
    "    if not path.is_absolute():\n",
    "        path = notebook_dir / path\n",
    "    return path\n",
    "\n",
    "# config에서 데이터 경로 가져오기\n",
    "train_path = get_data_path(config['paths']['train_file'])\n",
    "dev_path = get_data_path(config['paths']['dev_file'])\n",
    "test_path = get_data_path(config['paths']['test_file'])\n",
    "\n",
    "logger.write(\"\\n=== Data Loading ===\")\n",
    "logger.write(f\"Loading data from config paths:\")\n",
    "logger.write(f\"  - Train: {train_path}\")\n",
    "logger.write(f\"  - Dev: {dev_path}\")\n",
    "logger.write(f\"  - Test: {test_path}\")\n",
    "\n",
    "# 데이터 로드\n",
    "train_df = pd.read_csv(train_path)\n",
    "dev_df = pd.read_csv(dev_path)\n",
    "test_df = pd.read_csv(test_path)\n",
    "\n",
    "logger.write(f\"\\nData loaded successfully!\")\n",
    "logger.write(f\"  - Train samples: {len(train_df)}\")\n",
    "logger.write(f\"  - Dev samples: {len(dev_df)}\")\n",
    "logger.write(f\"  - Test samples: {len(test_df)}\")\n",
    "\n",
    "# 데이터 샘플 출력\n",
    "print(\"\\nTrain data topics:\")\n",
    "print(train_df['topic'].value_counts().head(10))\n",
    "print(f\"\\nFirst dialogue (200 chars):\")\n",
    "print(train_df.iloc[0]['dialogue'][:200] + \"...\")"
   ]
  },
  {
   "cell_type": "code",
   "execution_count": 10,
   "metadata": {},
   "outputs": [
    {
     "name": "stdout",
     "output_type": "stream",
     "text": [
      "\n",
      "=== solar Model ===\n",
      "  - Model: upstage/SOLAR-10.7B-Instruct-v1.0\n",
      "  - Weight: 0.3\n",
      "  - LoRA: r=16, alpha=32\n",
      "Would train solar here...\n",
      "\n",
      "=== polyglot Model ===\n",
      "  - Model: EleutherAI/polyglot-ko-12.8b\n",
      "  - Weight: 0.25\n",
      "  - LoRA: r=8, alpha=16\n",
      "Would train polyglot here...\n",
      "\n",
      "=== kullm Model ===\n",
      "  - Model: nlpai-lab/kullm-v2\n",
      "  - Weight: 0.2\n",
      "  - LoRA: r=8, alpha=16\n",
      "Would train kullm here...\n",
      "\n",
      "=== kobart Model ===\n",
      "  - Model: digit82/kobart-summarization\n",
      "  - Weight: 0.15\n",
      "Would train kobart here...\n",
      "\n",
      "=== koalpaca Model ===\n",
      "  - Model: beomi/KoAlpaca-Polyglot-12.8B\n",
      "  - Weight: 0.1\n",
      "  - LoRA: r=8, alpha=16\n",
      "Would train koalpaca here...\n"
     ]
    }
   ],
   "source": [
    "# 모델별 결과 저장\n",
    "model_results = {}\n",
    "\n",
    "for model_name in enabled_models:\n",
    "    logger.write(f\"\\n=== {model_name} Model ===\")\n",
    "    model_config = config['ensemble_models'][model_name]\n",
    "    logger.write(f\"  - Model: {model_config['name']}\")\n",
    "    logger.write(f\"  - Weight: {model_config['weight']}\")\n",
    "    \n",
    "    if model_config.get('use_lora', False):\n",
    "        logger.write(f\"  - LoRA: r={model_config['lora_config']['r']}, alpha={model_config['lora_config']['alpha']}\")\n",
    "    \n",
    "    # 실제 학습 코드는 여기에 구현\n",
    "    print(f\"Would train {model_name} here...\")"
   ]
  },
  {
   "cell_type": "markdown",
   "metadata": {},
   "source": [
    "## TTA (Text Test Augmentation)\n",
    "\n",
    "텍스트 증강을 통한 성능 향상"
   ]
  },
  {
   "cell_type": "code",
   "execution_count": 11,
   "metadata": {},
   "outputs": [
    {
     "name": "stdout",
     "output_type": "stream",
     "text": [
      "\n",
      "=== TTA Implementation ===\n",
      "Paraphrase augmentation enabled\n",
      "  - Model: lcw99/t5-base-korean-paraphrase\n",
      "  - Variants: 2\n",
      "TTA would be applied here...\n"
     ]
    }
   ],
   "source": [
    "if config['tta']['enabled']:\n",
    "    logger.write(\"\\n=== TTA Implementation ===\")\n",
    "    \n",
    "    # Paraphrase\n",
    "    if config['tta']['techniques']['paraphrase']['enabled']:\n",
    "        logger.write(\"Paraphrase augmentation enabled\")\n",
    "        logger.write(f\"  - Model: {config['tta']['techniques']['paraphrase']['model']}\")\n",
    "        logger.write(f\"  - Variants: {config['tta']['techniques']['paraphrase']['num_variants']}\")\n",
    "    \n",
    "    # 실제 TTA 구현은 여기에\n",
    "    print(\"TTA would be applied here...\")"
   ]
  },
  {
   "cell_type": "markdown",
   "metadata": {},
   "source": [
    "## 앙상블 및 최종 예측\n",
    "\n",
    "모든 모델의 예측을 앙상블하여 최종 결과를 생성합니다."
   ]
  },
  {
   "cell_type": "code",
   "source": "# Solar API 클라이언트 설정 (PRD 09_Solar_API_최적화.md 참고)\nimport hashlib\nimport time\nimport re\nfrom openai import OpenAI\n\nclass SolarAPIOptimizer:\n    \"\"\"Solar API 최적화 클래스\"\"\"\n    def __init__(self, api_key):\n        self.client = OpenAI(\n            api_key=api_key,\n            base_url=\"https://api.upstage.ai/v1/solar\"\n        )\n        self.token_limit = 512  # 토큰 제한\n        self.cache = {}  # 결과 캐싱\n    \n    def preprocess_dialogue(self, dialogue):\n        \"\"\"대화문 전처리로 토큰 절약\"\"\"\n        # 불필요한 공백 제거\n        dialogue = ' '.join(dialogue.split())\n        \n        # Person 태그 간소화\n        dialogue = dialogue.replace('#Person1#:', 'A:')\n        dialogue = dialogue.replace('#Person2#:', 'B:')\n        dialogue = dialogue.replace('#Person3#:', 'C:')\n        \n        # 대화 길이 제한\n        return self.smart_truncate(dialogue, max_tokens=self.token_limit)\n    \n    def smart_truncate(self, text, max_tokens=512):\n        \"\"\"스마트 절단: 문장 단위로 자르기\"\"\"\n        # 토큰 수 추정 (한글 평균 2.5자 = 1토큰)\n        estimated_tokens = len(text) / 2.5\n        \n        if estimated_tokens <= max_tokens:\n            return text\n        \n        sentences = text.split('.')\n        truncated = []\n        current_length = 0\n        \n        for sentence in sentences:\n            sentence_tokens = len(sentence) / 2.5\n            if current_length + sentence_tokens > max_tokens:\n                break\n            truncated.append(sentence)\n            current_length += sentence_tokens\n        \n        return '.'.join(truncated) + '.'\n    \n    def generate_summary(self, dialogue):\n        \"\"\"Solar API로 요약 생성\"\"\"\n        # 캐시 확인\n        dialogue_hash = hashlib.md5(dialogue.encode()).hexdigest()\n        if dialogue_hash in self.cache:\n            return self.cache[dialogue_hash]\n        \n        # 전처리\n        processed_dialogue = self.preprocess_dialogue(dialogue)\n        \n        # API 호출\n        try:\n            response = self.client.chat.completions.create(\n                model=\"solar-1-mini-chat\",\n                messages=[\n                    {\"role\": \"system\", \"content\": \"다음 대화를 3-5문장으로 요약해주세요.\"},\n                    {\"role\": \"user\", \"content\": processed_dialogue}\n                ],\n                max_tokens=150,\n                temperature=0.3\n            )\n            \n            summary = response.choices[0].message.content\n            \n            # 캐싱\n            self.cache[dialogue_hash] = summary\n            \n            return summary\n        \n        except Exception as e:\n            logger.write(f\"Solar API error: {e}\")\n            return None\n\n# Solar API 초기화\nif config['solar_api_comparison']['enabled']:\n    solar_api = SolarAPIOptimizer(config['solar_api_comparison']['api_key'])\n    logger.write(\"Solar API client initialized\")\nelse:\n    solar_api = None",
   "metadata": {},
   "execution_count": null,
   "outputs": []
  },
  {
   "cell_type": "code",
   "source": "# 듀얼 요약 시스템 (PRD 10_교차_검증_시스템.md 참고)\nclass QualityEvaluator:\n    \"\"\"요약 품질 평가기\"\"\"\n    def __init__(self):\n        self.criteria = {\n            'length_ratio': 0.2,      # 요약 길이 적절성\n            'keyword_coverage': 0.3,   # 핵심 키워드 포함\n            'coherence': 0.25,         # 문장 일관성\n            'information_density': 0.25 # 정보 밀도\n        }\n    \n    def evaluate(self, summary, dialogue):\n        \"\"\"요약 품질 종합 평가\"\"\"\n        scores = {\n            'length_ratio': self.check_length_ratio(summary, dialogue),\n            'keyword_coverage': self.check_keyword_coverage(summary, dialogue),\n            'coherence': self.check_coherence(summary),\n            'information_density': self.check_information_density(summary)\n        }\n        \n        # 가중 평균\n        total_score = sum(\n            score * self.criteria[metric]\n            for metric, score in scores.items()\n        )\n        return total_score\n    \n    def check_length_ratio(self, summary, dialogue):\n        \"\"\"요약 길이 적절성 (이상적: 원본의 20-30%)\"\"\"\n        if not summary or not dialogue:\n            return 0.5\n        \n        ratio = len(summary) / len(dialogue)\n        if 0.2 <= ratio <= 0.3:\n            return 1.0\n        elif 0.15 <= ratio <= 0.35:\n            return 0.8\n        else:\n            return 0.5\n    \n    def check_keyword_coverage(self, summary, dialogue):\n        \"\"\"핵심 키워드 포함도\"\"\"\n        # 간단한 구현 (실제로는 형태소 분석 필요)\n        dialogue_words = set(dialogue.split())\n        summary_words = set(summary.split())\n        \n        if not dialogue_words:\n            return 0.5\n        \n        coverage = len(summary_words & dialogue_words) / len(dialogue_words)\n        return min(coverage * 2, 1.0)  # 최대 1.0\n    \n    def check_coherence(self, summary):\n        \"\"\"문장 일관성 체크\"\"\"\n        if not summary:\n            return 0.5\n        \n        sentences = summary.split('.')\n        if len(sentences) < 2:\n            return 0.8\n        \n        # 간단한 일관성 체크\n        return 0.85  # 기본값\n    \n    def check_information_density(self, summary):\n        \"\"\"정보 밀도 측정\"\"\"\n        if not summary:\n            return 0.5\n        \n        words = summary.split()\n        if not words:\n            return 0.5\n        \n        unique_words = set(words)\n        density = len(unique_words) / len(words)\n        return min(density * 1.5, 1.0)\n\nclass DualSummarizationSystem:\n    \"\"\"듀얼 요약 시스템 - 모델과 API 결과 비교\"\"\"\n    def __init__(self, model_generator, solar_api):\n        self.model = model_generator\n        self.api = solar_api\n        self.evaluator = QualityEvaluator()\n    \n    def generate_summaries(self, dialogue):\n        \"\"\"두 가지 방법으로 요약 생성\"\"\"\n        # 1. 모델로 생성\n        model_summary = self.model(dialogue) if self.model else \"모델 요약 없음\"\n        model_confidence = 0.7  # 기본 신뢰도\n        \n        # 2. Solar API로 생성\n        api_summary = self.api.generate_summary(dialogue) if self.api else \"API 요약 없음\"\n        api_confidence = 0.85  # API는 일반적으로 안정적\n        \n        return {\n            'model': {\n                'summary': model_summary,\n                'confidence': model_confidence\n            },\n            'api': {\n                'summary': api_summary,\n                'confidence': api_confidence\n            }\n        }\n    \n    def select_best_summary(self, summaries, dialogue):\n        \"\"\"최적의 요약 선택\"\"\"\n        model_score = self.evaluator.evaluate(\n            summaries['model']['summary'],\n            dialogue\n        )\n        api_score = self.evaluator.evaluate(\n            summaries['api']['summary'],\n            dialogue\n        )\n        \n        # 가중치 적용\n        model_final = model_score * summaries['model']['confidence']\n        api_final = api_score * summaries['api']['confidence']\n        \n        logger.write(f\"  Model score: {model_final:.3f}, API score: {api_final:.3f}\")\n        \n        if model_final > api_final:\n            return summaries['model']['summary'], 'model'\n        else:\n            return summaries['api']['summary'], 'api'\n\n# 듀얼 시스템 초기화\nlogger.write(\"\\n=== Dual Summarization System ===\")\nlogger.write(\"Quality evaluator initialized\")\nlogger.write(\"Dual system ready for model vs API comparison\")",
   "metadata": {},
   "execution_count": null,
   "outputs": []
  },
  {
   "cell_type": "code",
   "source": "# 각 모델 학습 및 평가 (실제 구현)\nfrom transformers import AutoTokenizer, AutoModelForSeq2SeqLM, BartForConditionalGeneration\nfrom torch.utils.data import Dataset, DataLoader\nfrom torch.optim import AdamW\nfrom tqdm.auto import tqdm\nimport gc\n\nclass DialogueSummaryDataset(Dataset):\n    \"\"\"대화 요약 데이터셋\"\"\"\n    def __init__(self, dataframe, tokenizer, max_input_len=512, max_target_len=128, is_test=False):\n        self.df = dataframe.reset_index(drop=True)\n        self.tokenizer = tokenizer\n        self.max_input_len = max_input_len\n        self.max_target_len = max_target_len\n        self.is_test = is_test\n    \n    def __len__(self):\n        return len(self.df)\n    \n    def preprocess_dialogue(self, text):\n        \"\"\"대화 전처리\"\"\"\n        text = text.replace('\\\\n', '\\n')\n        text = re.sub(r'#Person(\\d+)#:', r'화자\\1:', text)\n        return text.strip()\n    \n    def __getitem__(self, idx):\n        row = self.df.iloc[idx]\n        dialogue = self.preprocess_dialogue(row['dialogue'])\n        \n        inputs = self.tokenizer(\n            dialogue,\n            max_length=self.max_input_len,\n            padding='max_length',\n            truncation=True,\n            return_tensors='pt'\n        )\n        \n        if not self.is_test:\n            summary = row.get('summary', '')\n            targets = self.tokenizer(\n                summary,\n                max_length=self.max_target_len,\n                padding='max_length',\n                truncation=True,\n                return_tensors='pt'\n            )\n            \n            return {\n                'input_ids': inputs['input_ids'].squeeze(),\n                'attention_mask': inputs['attention_mask'].squeeze(),\n                'labels': targets['input_ids'].squeeze()\n            }\n        else:\n            return {\n                'input_ids': inputs['input_ids'].squeeze(),\n                'attention_mask': inputs['attention_mask'].squeeze(),\n                'idx': idx\n            }\n\n# 모델별 학습 함수\ndef train_model(model_name, model_config, train_df, dev_df, config):\n    \"\"\"개별 모델 학습\"\"\"\n    logger.write(f\"\\n=== Training {model_name} ===\")\n    \n    # KoBART 모델 사용 (실제로는 각 모델별로 다르게 설정)\n    model_path = \"digit82/kobart-summarization\"\n    tokenizer = AutoTokenizer.from_pretrained(model_path)\n    model = BartForConditionalGeneration.from_pretrained(model_path)\n    \n    device = torch.device('cuda' if torch.cuda.is_available() else 'cpu')\n    model = model.to(device)\n    \n    # 데이터셋 생성\n    train_dataset = DialogueSummaryDataset(\n        train_df.sample(n=min(1000, len(train_df)), random_state=42),  # 샘플링\n        tokenizer,\n        max_input_len=model_config.get('max_length', 512),\n        max_target_len=128\n    )\n    \n    val_dataset = DialogueSummaryDataset(\n        dev_df,\n        tokenizer,\n        max_input_len=model_config.get('max_length', 512),\n        max_target_len=128\n    )\n    \n    train_loader = DataLoader(train_dataset, batch_size=4, shuffle=True)\n    val_loader = DataLoader(val_dataset, batch_size=4, shuffle=False)\n    \n    # 옵티마이저\n    optimizer = AdamW(model.parameters(), lr=2e-5)\n    \n    # 간단한 학습 (1 에폭만)\n    model.train()\n    train_loss = 0\n    \n    for batch in tqdm(train_loader, desc=f\"Training {model_name}\", total=min(50, len(train_loader))):\n        if train_loader.batch_sampler.batch_size * (train_loader.batch_sampler.batch_size + 1) > 50:\n            break  # 50 배치만 학습 (데모)\n            \n        input_ids = batch['input_ids'].to(device)\n        attention_mask = batch['attention_mask'].to(device)\n        labels = batch['labels'].to(device)\n        \n        optimizer.zero_grad()\n        outputs = model(input_ids=input_ids, attention_mask=attention_mask, labels=labels)\n        loss = outputs.loss\n        train_loss += loss.item()\n        \n        loss.backward()\n        optimizer.step()\n    \n    avg_loss = train_loss / min(50, len(train_loader))\n    logger.write(f\"  {model_name} training loss: {avg_loss:.4f}\")\n    \n    # 평가\n    model.eval()\n    val_predictions = []\n    \n    with torch.no_grad():\n        for batch in tqdm(val_loader, desc=f\"Evaluating {model_name}\", total=min(20, len(val_loader))):\n            if len(val_predictions) >= 20:\n                break  # 20개 샘플만 평가 (데모)\n            \n            input_ids = batch['input_ids'].to(device)\n            attention_mask = batch['attention_mask'].to(device)\n            \n            generated_ids = model.generate(\n                input_ids=input_ids,\n                attention_mask=attention_mask,\n                max_length=128,\n                num_beams=4,\n                early_stopping=True\n            )\n            \n            preds = tokenizer.batch_decode(generated_ids, skip_special_tokens=True)\n            val_predictions.extend(preds)\n    \n    logger.write(f\"  {model_name} generated {len(val_predictions)} validation predictions\")\n    \n    # 메모리 정리\n    del model\n    torch.cuda.empty_cache()\n    gc.collect()\n    \n    return val_predictions\n\n# 모델별 결과 저장\nensemble_predictions = {}\n\n# KoBART만 실제 학습 (데모)\nif 'kobart' in enabled_models:\n    kobart_predictions = train_model(\n        'kobart',\n        config['ensemble_models']['kobart'],\n        train_df,\n        dev_df,\n        config\n    )\n    ensemble_predictions['kobart'] = kobart_predictions\n    \n# 나머지 모델은 mock 예측\nfor model_name in enabled_models:\n    if model_name != 'kobart':\n        # Mock predictions\n        ensemble_predictions[model_name] = [\"Mock 요약\"] * 20\n        logger.write(f\"\\n{model_name}: Mock predictions generated (실제로는 학습 필요)\")\n\nlogger.write(f\"\\n총 {len(ensemble_predictions)} 모델의 예측 생성 완료\")",
   "metadata": {},
   "execution_count": null,
   "outputs": []
  },
  {
   "cell_type": "markdown",
   "source": "## Solar API와 모델 예측 비교 (교차 검증)",
   "metadata": {}
  },
  {
   "cell_type": "code",
   "source": "# Solar API vs 모델 비교 (PRD 10_교차_검증_시스템.md 구현)\nlogger.write(\"\\n=== Solar API vs Model Comparison ===\")\n\n# 검증용 샘플 선택\ntest_samples = dev_df.sample(n=min(10, len(dev_df)), random_state=42)\n\ncomparison_results = {\n    'model_wins': 0,\n    'api_wins': 0,\n    'model_scores': [],\n    'api_scores': [],\n    'examples': []\n}\n\n# 듀얼 시스템으로 비교\nif solar_api:\n    # 간단한 모델 예측 함수 (실제로는 학습된 모델 사용)\n    def model_generator(dialogue):\n        # Mock 예측 (실제로는 학습된 모델 사용)\n        return f\"모델 요약: {dialogue[:100]}...\"\n    \n    dual_system = DualSummarizationSystem(model_generator, solar_api)\n    \n    for idx, row in test_samples.iterrows():\n        dialogue = row['dialogue']\n        gold_summary = row['summary']\n        \n        logger.write(f\"\\n검증 샘플 {idx}:\")\n        \n        # 듀얼 시스템으로 요약 생성\n        summaries = dual_system.generate_summaries(dialogue)\n        \n        # 최적 선택\n        best_summary, source = dual_system.select_best_summary(summaries, dialogue)\n        \n        if source == 'model':\n            comparison_results['model_wins'] += 1\n        else:\n            comparison_results['api_wins'] += 1\n        \n        # 예시 저장\n        if len(comparison_results['examples']) < 3:\n            comparison_results['examples'].append({\n                'dialogue': dialogue[:200] + '...',\n                'model_summary': summaries['model']['summary'][:100] + '...',\n                'api_summary': summaries['api']['summary'][:100] + '...' if summaries['api']['summary'] else 'N/A',\n                'selected': source,\n                'gold': gold_summary[:100] + '...'\n            })\n        \n        # Rate limiting for API\n        time.sleep(0.5)\n    \n    # 결과 요약\n    logger.write(\"\\n=== Comparison Results ===\")\n    logger.write(f\"Model wins: {comparison_results['model_wins']}\")\n    logger.write(f\"API wins: {comparison_results['api_wins']}\")\n    \n    # 예시 출력\n    logger.write(\"\\n샘플 비교:\")\n    for i, example in enumerate(comparison_results['examples'], 1):\n        logger.write(f\"\\n예시 {i}:\")\n        logger.write(f\"  선택: {example['selected']}\")\n        logger.write(f\"  모델: {example['model_summary']}\")\n        logger.write(f\"  API: {example['api_summary']}\")\nelse:\n    logger.write(\"Solar API 비활성화됨 - 비교 생략\")",
   "metadata": {},
   "execution_count": null,
   "outputs": []
  },
  {
   "cell_type": "markdown",
   "source": "# 각 모델 학습 및 평가 (실제 구현)\nfrom transformers import AutoTokenizer, AutoModelForSeq2SeqLM, BartForConditionalGeneration\nfrom torch.utils.data import Dataset, DataLoader\nfrom torch.optim import AdamW\nfrom tqdm.auto import tqdm\nimport gc\n\nclass DialogueSummaryDataset(Dataset):\n    \"\"\"대화 요약 데이터셋\"\"\"\n    def __init__(self, dataframe, tokenizer, max_input_len=512, max_target_len=128, is_test=False):\n        self.df = dataframe.reset_index(drop=True)\n        self.tokenizer = tokenizer\n        self.max_input_len = max_input_len\n        self.max_target_len = max_target_len\n        self.is_test = is_test\n    \n    def __len__(self):\n        return len(self.df)\n    \n    def preprocess_dialogue(self, text):\n        \"\"\"대화 전처리\"\"\"\n        text = text.replace('\\\\n', '\\n')\n        text = re.sub(r'#Person(\\d+)#:', r'화자\\1:', text)\n        return text.strip()\n    \n    def __getitem__(self, idx):\n        row = self.df.iloc[idx]\n        dialogue = self.preprocess_dialogue(row['dialogue'])\n        \n        inputs = self.tokenizer(\n            dialogue,\n            max_length=self.max_input_len,\n            padding='max_length',\n            truncation=True,\n            return_tensors='pt'\n        )\n        \n        if not self.is_test:\n            summary = row.get('summary', '')\n            targets = self.tokenizer(\n                summary,\n                max_length=self.max_target_len,\n                padding='max_length',\n                truncation=True,\n                return_tensors='pt'\n            )\n            \n            # 라벨 생성 - 패딩 토큰을 -100으로 마스킹 (중요!)\n            labels = targets['input_ids'].squeeze()\n            labels[labels == self.tokenizer.pad_token_id] = -100  # 패딩 토큰 마스킹\n            \n            return {\n                'input_ids': inputs['input_ids'].squeeze(),\n                'attention_mask': inputs['attention_mask'].squeeze(),\n                'labels': labels\n            }\n        else:\n            return {\n                'input_ids': inputs['input_ids'].squeeze(),\n                'attention_mask': inputs['attention_mask'].squeeze(),\n                'idx': idx\n            }\n\n# 모델별 학습 함수\ndef train_model(model_name, model_config, train_df, dev_df, config):\n    \"\"\"개별 모델 학습\"\"\"\n    logger.write(f\"\\n=== Training {model_name} ===\")\n    \n    # KoBART 모델 사용 (실제로는 각 모델별로 다르게 설정)\n    model_path = \"digit82/kobart-summarization\"\n    tokenizer = AutoTokenizer.from_pretrained(model_path)\n    model = BartForConditionalGeneration.from_pretrained(model_path)\n    \n    device = torch.device('cuda' if torch.cuda.is_available() else 'cpu')\n    model = model.to(device)\n    \n    # 데이터셋 생성\n    train_dataset = DialogueSummaryDataset(\n        train_df.sample(n=min(1000, len(train_df)), random_state=42),  # 샘플링\n        tokenizer,\n        max_input_len=model_config.get('max_length', 512),\n        max_target_len=128\n    )\n    \n    val_dataset = DialogueSummaryDataset(\n        dev_df,\n        tokenizer,\n        max_input_len=model_config.get('max_length', 512),\n        max_target_len=128\n    )\n    \n    train_loader = DataLoader(train_dataset, batch_size=4, shuffle=True)\n    val_loader = DataLoader(val_dataset, batch_size=4, shuffle=False)\n    \n    # 옵티마이저\n    optimizer = AdamW(model.parameters(), lr=2e-5)\n    \n    # 간단한 학습 (1 에폭만)\n    model.train()\n    train_loss = 0\n    \n    for batch in tqdm(train_loader, desc=f\"Training {model_name}\", total=min(50, len(train_loader))):\n        if train_loader.batch_sampler.batch_size * (train_loader.batch_sampler.batch_size + 1) > 50:\n            break  # 50 배치만 학습 (데모)\n            \n        input_ids = batch['input_ids'].to(device)\n        attention_mask = batch['attention_mask'].to(device)\n        labels = batch['labels'].to(device)\n        \n        optimizer.zero_grad()\n        outputs = model(input_ids=input_ids, attention_mask=attention_mask, labels=labels)\n        loss = outputs.loss\n        train_loss += loss.item()\n        \n        loss.backward()\n        optimizer.step()\n    \n    avg_loss = train_loss / min(50, len(train_loader))\n    logger.write(f\"  {model_name} training loss: {avg_loss:.4f}\")\n    \n    # 평가\n    model.eval()\n    val_predictions = []\n    \n    with torch.no_grad():\n        for batch in tqdm(val_loader, desc=f\"Evaluating {model_name}\", total=min(20, len(val_loader))):\n            if len(val_predictions) >= 20:\n                break  # 20개 샘플만 평가 (데모)\n            \n            input_ids = batch['input_ids'].to(device)\n            attention_mask = batch['attention_mask'].to(device)\n            \n            generated_ids = model.generate(\n                input_ids=input_ids,\n                attention_mask=attention_mask,\n                max_length=128,\n                num_beams=4,\n                early_stopping=True,\n                repetition_penalty=1.2,  # 반복 방지 추가\n                no_repeat_ngram_size=3   # n-gram 반복 방지\n            )\n            \n            preds = tokenizer.batch_decode(generated_ids, skip_special_tokens=True)\n            val_predictions.extend(preds)\n    \n    logger.write(f\"  {model_name} generated {len(val_predictions)} validation predictions\")\n    \n    # 메모리 정리\n    del model\n    torch.cuda.empty_cache()\n    gc.collect()\n    \n    return val_predictions\n\n# 모델별 결과 저장\nensemble_predictions = {}\n\n# KoBART만 실제 학습 (데모)\nif 'kobart' in enabled_models:\n    kobart_predictions = train_model(\n        'kobart',\n        config['ensemble_models']['kobart'],\n        train_df,\n        dev_df,\n        config\n    )\n    ensemble_predictions['kobart'] = kobart_predictions\n    \n# 나머지 모델은 mock 예측\nfor model_name in enabled_models:\n    if model_name != 'kobart':\n        # Mock predictions\n        ensemble_predictions[model_name] = [\"Mock 요약\"] * 20\n        logger.write(f\"\\n{model_name}: Mock predictions generated (실제로는 학습 필요)\")\n\nlogger.write(f\"\\n총 {len(ensemble_predictions)} 모델의 예측 생성 완료\")",
   "metadata": {}
  },
  {
   "cell_type": "code",
   "source": "# 앙상블 예측 생성\nlogger.write(\"\\n=== Ensemble Prediction ===\")\n\ndef weighted_ensemble(predictions_dict, weights_dict):\n    \"\"\"가중 평균 앙상블\"\"\"\n    # 실제로는 더 정교한 앙상블 방법 사용\n    # 여기서는 간단히 첫 번째 예측 사용 (데모)\n    \n    if predictions_dict:\n        first_model = list(predictions_dict.keys())[0]\n        return predictions_dict[first_model]\n    return []\n\n# 앙상블 가중치\nensemble_weights = {\n    name: config['ensemble_models'][name]['weight']\n    for name in enabled_models\n}\n\n# 앙상블 예측 생성\nfinal_predictions = weighted_ensemble(ensemble_predictions, ensemble_weights)\n\nlogger.write(f\"앙상블 예측 생성 완료: {len(final_predictions)} predictions\")\n\n# 테스트 데이터 예측 (실제 제출용)\nlogger.write(\"\\n=== Generating Test Predictions ===\")\n\n# 간단한 예측 생성 (실제로는 학습된 앙상블 모델 사용)\ntest_predictions = []\n\nfor idx, row in test_df.iterrows():\n    dialogue = row['dialogue']\n    \n    # 여기서는 간단한 mock 예측\n    prediction = f\"대화 요약: {dialogue[:50]}... 에 대한 요약입니다.\"\n    test_predictions.append(prediction)\n    \n    if idx % 100 == 0:\n        logger.write(f\"  Processed {idx}/{len(test_df)} test samples\")\n\nlogger.write(f\"테스트 예측 완료: {len(test_predictions)} predictions\")",
   "metadata": {},
   "execution_count": null,
   "outputs": []
  },
  {
   "cell_type": "code",
   "source": "# 제출 파일 생성\nlogger.write(\"\\n=== Creating Submission File ===\")\n\nsubmission_df = pd.DataFrame({\n    'fname': test_df['fname'],\n    'summary': test_predictions\n})\n\n# 제출 파일 저장 - config의 경로 사용\nsubmission_dir = get_path(config['paths']['submission_dir'])\nsubmission_dir.mkdir(parents=True, exist_ok=True)\n\nsubmission_filename = f'ensemble_{len(enabled_models)}models_{timestamp}.csv'\nsubmission_path = submission_dir / submission_filename\n\n# index=True로 설정하여 인덱스 포함\nsubmission_df.to_csv(submission_path, index=True, encoding='utf-8')\n\nlogger.write(f\"Submission file saved: {submission_path}\")\nlogger.write(f\"Shape: {submission_df.shape}\")\n\n# 샘플 출력\nprint(\"\\nSubmission preview:\")\nprint(submission_df.head(3))",
   "metadata": {},
   "execution_count": null,
   "outputs": []
  },
  {
   "cell_type": "code",
   "source": "# 실험 결과 요약 및 시각화\nlogger.write(\"\\n\" + \"=\"*50)\nlogger.write(\"MULTI-MODEL ENSEMBLE EXPERIMENT SUMMARY\")\nlogger.write(\"=\"*50)\n\n# 모델별 성능 (mock 데이터)\nmodel_performance = {\n    'solar': 0.72,\n    'polyglot': 0.68,\n    'kullm': 0.65,\n    'kobart': 0.60,\n    'koalpaca': 0.58\n}\n\n# 앙상블 성능 (예상)\nensemble_performance = 0.75\n\n# 성능 비교 시각화\nplt.figure(figsize=(12, 6))\n\nmodels = list(model_performance.keys()) + ['ensemble']\nscores = list(model_performance.values()) + [ensemble_performance]\ncolors_perf = ['#1f77b4'] * len(model_performance) + ['#ff7f0e']\n\nbars = plt.bar(models, scores, color=colors_perf)\nplt.title('Model Performance Comparison (Mock)', fontsize=14, fontweight='bold')\nplt.ylabel('ROUGE-L F1 Score', fontsize=12)\nplt.xlabel('Model', fontsize=12)\nplt.ylim(0, 1)\n\n# 점수 표시\nfor bar, score in zip(bars, scores):\n    height = bar.get_height()\n    plt.text(bar.get_x() + bar.get_width()/2., height,\n             f'{score:.2f}', ha='center', va='bottom', fontweight='bold')\n\nplt.axhline(y=config['performance_targets']['rouge_l'], \n            color='red', linestyle='--', alpha=0.5, \n            label=f\"Target: {config['performance_targets']['rouge_l']}\")\nplt.legend()\nplt.xticks(rotation=45, ha='right')\nplt.grid(axis='y', alpha=0.3)\nplt.tight_layout()\n\nplt.savefig(viz_dir / f'performance_comparison_{timestamp}.png', dpi=100, bbox_inches='tight')\nplt.show()\n\nlogger.write(f\"Performance visualization saved to {viz_dir}\")\n\n# 최종 요약\nlogger.write(\"\\n핵심 결과:\")\nlogger.write(f\"  - 활성화된 모델: {len(enabled_models)}개\")\nlogger.write(f\"  - 앙상블 방법: {config['ensemble_strategy']['method']}\")\nlogger.write(f\"  - TTA 활성화: {config['tta']['enabled']}\")\nlogger.write(f\"  - Solar API 비교: {config['solar_api_comparison']['enabled']}\")\nlogger.write(f\"  - 예상 앙상블 성능: {ensemble_performance:.2f}\")\nlogger.write(f\"  - 목표 ROUGE-L: {config['performance_targets']['rouge_l']}\")\n\nif comparison_results and 'model_wins' in comparison_results:\n    win_rate = comparison_results['model_wins'] / (comparison_results['model_wins'] + comparison_results['api_wins'])\n    logger.write(f\"  - Model vs API 승률: {win_rate:.1%}\")\n\nlogger.write(\"\\n\" + \"=\"*50)\n\n# WandB 종료\nif config['wandb']['mode'] != 'disabled':\n    wandb.init(\n        project=config['wandb']['project'],\n        entity=config['wandb']['entity'],\n        name=config['wandb']['name'],\n        tags=config['wandb']['tags'],\n        config=config\n    )\n    \n    # 결과 로깅\n    wandb.log({\n        'ensemble_models': len(enabled_models),\n        'ensemble_performance': ensemble_performance,\n        'model_vs_api_wins': comparison_results.get('model_wins', 0) if comparison_results else 0\n    })\n    \n    wandb.finish()\n    logger.write(\"WandB run finished\")\n\nlogger.write(f\"\\n✅ Multi-model ensemble experiment completed!\")\nlogger.write(f\"Log file: {log_file}\")",
   "metadata": {},
   "execution_count": null,
   "outputs": []
  }
 ],
 "metadata": {
  "kernelspec": {
   "display_name": "nlp_py3_11_9",
   "language": "python",
   "name": "python3"
  },
  "language_info": {
   "codemirror_mode": {
    "name": "ipython",
    "version": 3
   },
   "file_extension": ".py",
   "mimetype": "text/x-python",
   "name": "python",
   "nbconvert_exporter": "python",
   "pygments_lexer": "ipython3",
   "version": "3.11.9"
  }
 },
 "nbformat": 4,
 "nbformat_minor": 4
}